{
  "nbformat": 4,
  "nbformat_minor": 0,
  "metadata": {
    "kernelspec": {
      "display_name": "pytorch",
      "language": "python",
      "name": "pytorch"
    },
    "language_info": {
      "codemirror_mode": {
        "name": "ipython",
        "version": 3
      },
      "file_extension": ".py",
      "mimetype": "text/x-python",
      "name": "python",
      "nbconvert_exporter": "python",
      "pygments_lexer": "ipython3",
      "version": "3.7.9"
    },
    "colab": {
      "name": "Autograd_Engine01_1533358.ipynb",
      "provenance": [],
      "collapsed_sections": [
        "a7gBC5k6nFSS"
      ]
    }
  },
  "cells": [
    {
      "cell_type": "markdown",
      "metadata": {
        "id": "oJhnWAZSf-z-"
      },
      "source": [
        "# Creating our own Auto Differentiation (AutoGrad) framework\n",
        "\n",
        "In this practical exercise we will build our own, very simple, Auto-differentiation (or AutoGrad) framework."
      ]
    },
    {
      "cell_type": "markdown",
      "metadata": {
        "id": "II7kOUeNf-0M"
      },
      "source": [
        "## Coding the framework\n",
        "\n",
        "### Step 1: Define a class for our variables"
      ]
    },
    {
      "cell_type": "markdown",
      "metadata": {
        "id": "yV0iLOI_f-0N"
      },
      "source": [
        "The key idea is that we will define our own class of `Variable` which is basically the same as a scalar (a number). So our class is created by passing it a `value`, and it stores this value internally.\n",
        "\n",
        "But apart from being a placeholder for a number, we also want to keep track of the way every variable was created.\n",
        "\n",
        "For example, if a variable $c$ is the result of the addition of two variables $a$ and $b$: $c = a + b$, then we would say that $a$ and $b$ are \"parent\" variables of $c$, and $c$ is their \"child\". The way $c$ was created was by adding these two parent variables together.\n",
        "\n",
        "So apart from the value of the variable, we will also have to keep track of the parents, and on how each of them \"contributes\" to the creation of the variable - this is described by the local derivative associated with each of the parents, that tells us how a change in each of the parent variables translates into a change in the child variable.\n",
        "\n",
        "This is important in order to implement our backwards pass. Each parent defines a \"route\" through which the gradients coming into this variable will have to flow through. So we will define a list of `gradRoutes` that will contain the list of parent variables and their corresponding local derivatives. A variable created directly (not resulting by any operation over existing variables) will have an empty `gradRoutes`.\n",
        "\n",
        "Finally, we want each variable of ours to keep also the value of gradient of the quantity we are interested in with respect to that variable. We will create a placeholder for that as well, called `grad`. As seen before, this will accummulate the gradients that are backpropagated from the children of this variable when we implement the backpropagation algorithm. So we will initialise it to zero."
      ]
    },
    {
      "cell_type": "code",
      "metadata": {
        "id": "YRe2RXCMf-0O"
      },
      "source": [
        "import numpy as np"
      ],
      "execution_count": 37,
      "outputs": []
    },
    {
      "cell_type": "code",
      "metadata": {
        "id": "zeOVCFCBf-0O"
      },
      "source": [
        "class Variable: #Simple variable. These are the leafs of our tree, they can request to have a gradient calculated, or not\n",
        "    def __init__(self, value):\n",
        "        self.value = value\n",
        "        self.gradRoutes = [] # A variable by default has no grad Routes (was not created by anything, just defined)\n",
        "        self.grad = 0.0        \n",
        "        \n",
        "    def __str__(self):\n",
        "        return 'Value: {self.value}'.format(self=self)        "
      ],
      "execution_count": 38,
      "outputs": []
    },
    {
      "cell_type": "markdown",
      "metadata": {
        "id": "eJ2OdwwRf-0P"
      },
      "source": [
        "Apart from the `__init__()` function which stores the value passed to our class and initialises the `gradRoutes` and `grad` member variables, we have also overloaded the function that python uses to convert a class into a string representation: `__str__()`. This will allow us to print our class.\n",
        "\n",
        "We cannot do much yet with this class, apart from storing values into our variables and printing them out. Let's try this out. "
      ]
    },
    {
      "cell_type": "code",
      "metadata": {
        "colab": {
          "base_uri": "https://localhost:8080/"
        },
        "id": "19jERs3kf-0P",
        "outputId": "08cd7a4e-1359-481b-a992-df431234d237"
      },
      "source": [
        "a = Variable(4.3)\n",
        "b = Variable(5.2)\n",
        "print(a)\n",
        "print(b)"
      ],
      "execution_count": 39,
      "outputs": [
        {
          "output_type": "stream",
          "text": [
            "Value: 4.3\n",
            "Value: 5.2\n"
          ],
          "name": "stdout"
        }
      ]
    },
    {
      "cell_type": "markdown",
      "metadata": {
        "id": "LTtw-_zEf-0Q"
      },
      "source": [
        "### Step 2: Define operations over our variables"
      ]
    },
    {
      "cell_type": "markdown",
      "metadata": {
        "id": "0_F5NPs-f-0R"
      },
      "source": [
        "The next step would be to implement operations on our variables. Let's first define the operations for addition and multiplication.\n",
        "\n",
        "These will be functions that take two variables as input and produce a new (child) variable with a value equal to the sum or the product of the two inputs. Apart from the forward pass though, we should keep track of how this new variable was created: the two parent variables, and their corresponding local derivatives."
      ]
    },
    {
      "cell_type": "code",
      "metadata": {
        "id": "O9RaLHBCf-0R"
      },
      "source": [
        "def vAdd(A: Variable, B: Variable): # Addition\n",
        "    result = Variable(A.value + B.value) # Create a new Variable to store the result, and pass it the value = a + b\n",
        "          \n",
        "    #keep track of the parent variables, and of the local derivative associated with each one\n",
        "    result.gradRoutes.append((A, 1)) # dresult / dA = 1\n",
        "    result.gradRoutes.append((B, 1)) # dresult / dB = 1\n",
        "    \n",
        "    return result\n",
        "    \n",
        "def vMul(A: Variable, B: Variable): # Addition\n",
        "    result = Variable(A.value * B.value) # Create a new Variable to store the result, and pass it the value = a + b\n",
        "          \n",
        "    #keep track of the parent variables, and of the local derivative associated with each one\n",
        "    result.gradRoutes.append((A, B.value)) # dresult / dA = B\n",
        "    result.gradRoutes.append((B, A.value)) # dresult / dB = A\n",
        "    \n",
        "    return result"
      ],
      "execution_count": 40,
      "outputs": []
    },
    {
      "cell_type": "markdown",
      "metadata": {
        "id": "ZO0adIJWf-0S"
      },
      "source": [
        "So for example to calculate $d = (a + b) * c$ we first need to calculate $(a + b)$ and then mutiply the result with $c$"
      ]
    },
    {
      "cell_type": "code",
      "metadata": {
        "colab": {
          "base_uri": "https://localhost:8080/"
        },
        "id": "zBf8OgVQf-0S",
        "outputId": "60ec7dee-aea3-4bdf-a02f-6d1086fd71b2"
      },
      "source": [
        "a = Variable(2) # a = 2\n",
        "b = Variable(3) # b = 3\n",
        "c = Variable(4) # c = 4\n",
        "\n",
        "#d = (a + b) * c = 20\n",
        "d = vMul(vAdd(a, b), c)\n",
        "\n",
        "print(d)"
      ],
      "execution_count": 41,
      "outputs": [
        {
          "output_type": "stream",
          "text": [
            "Value: 20\n"
          ],
          "name": "stdout"
        }
      ]
    },
    {
      "cell_type": "markdown",
      "metadata": {
        "id": "45QSs5P-f-0T"
      },
      "source": [
        "### Step 3: Implement the backpropagation function"
      ]
    },
    {
      "cell_type": "markdown",
      "metadata": {
        "id": "vGC-Ut9Mf-0T"
      },
      "source": [
        "The final step is to implement the backpropagation function. This starts with a child variable, and backpropagates gradients through the routes defined recursively. It uses the two rules that we saw before:\n",
        "\n",
        "- Accumulate the incoming gradients from the different grad routes that lead to a node (a variable). Each of the incoming gradients describe a different way in which the node affects the quantity of interest, so this sum will be the final gradient for the node\n",
        "- Multiply every incoming gradient with each of the local derivatives corresponding to parent variables (this would be the application of the chain rule), and continue the backpropagation through the corresponding route (for each of the parent variables)\n",
        "\n",
        "We update the `Variable` class accordingly. We also update the `__str___()` function to include also gradient information."
      ]
    },
    {
      "cell_type": "code",
      "metadata": {
        "id": "7KzTVTrKf-0T"
      },
      "source": [
        "class Variable: #Simple variable. These are the leafs of our tree, they can request to have a gradient calculated, or not\n",
        "    def __init__(self, value):\n",
        "        self.value = value\n",
        "        self.gradRoutes = [] # A variable by default has no grad Routes (was not created by anything, just defined)\n",
        "        self.grad = 0.0\n",
        "    \n",
        "    def backProp(self, route_val=1.0):\n",
        "        # Add together the incoming gradients from the different routes that lead to a node - this will be the final gradient for the node\n",
        "        self.grad += route_val\n",
        "                \n",
        "        # For every parent variable and corresponding local derivative value that we have in the gradRoutes, continue with the gradient calculation\n",
        "        for variable, local_derivative_value in self.gradRoutes:\n",
        "            # Multiply the incoming gradient with the local derivatives corresponding the parent variable, and continue the backpropagation\n",
        "            variable.backProp(local_derivative_value * route_val)\n",
        "    \n",
        "    def __str__(self):\n",
        "        return 'Value: {self.value}, Gradient: {self.grad}'.format(self=self)"
      ],
      "execution_count": 42,
      "outputs": []
    },
    {
      "cell_type": "markdown",
      "metadata": {
        "id": "Gx4hfBYdf-0U"
      },
      "source": [
        "<font color=blue>**Question:** Why did we set the default value of route_val equal to 1.0?</font>"
      ]
    },
    {
      "cell_type": "markdown",
      "metadata": {
        "id": "dAmSVkZnf-0V"
      },
      "source": [
        "\n",
        "\n",
        "El 1 inicial representa la derivada parcial del resultat. $\\frac {res}{\\delta res} = 1$\n",
        "\n"
      ]
    },
    {
      "cell_type": "markdown",
      "metadata": {
        "id": "kxlV1Ozpf-0V"
      },
      "source": [
        "This should be all. If we want to calculate the derivative of the result with respect to any of the variables that participated in the calculation, we just need to call backprop on the result, and then read the derivatives out."
      ]
    },
    {
      "cell_type": "code",
      "metadata": {
        "colab": {
          "base_uri": "https://localhost:8080/"
        },
        "id": "XWkjrzgRf-0V",
        "outputId": "43e197b7-da81-4705-86de-d643fe072704"
      },
      "source": [
        "a = Variable(2)           # a = 2\n",
        "b = Variable(3)           # b = 3\n",
        "c = Variable(4)           # c = 4\n",
        "res = vMul(vAdd(a, b), c) # res = (a + b) * c = 20\n",
        "\n",
        "print(\"Result =\", res.value)\n",
        "\n",
        "# Call backprop on the result\n",
        "res.backProp()\n",
        "\n",
        "# Now all variables should contain in their \"grad\" the derivative d(res) / d(variable)\n",
        "print(\"The derivative of the result with respect to a is:\", a.grad)\n",
        "print(\"The derivative of the result with respect to b is:\", b.grad)\n",
        "print(\"The derivative of the result with respect to c is:\", c.grad)"
      ],
      "execution_count": 43,
      "outputs": [
        {
          "output_type": "stream",
          "text": [
            "Result = 20\n",
            "The derivative of the result with respect to a is: 4.0\n",
            "The derivative of the result with respect to b is: 4.0\n",
            "The derivative of the result with respect to c is: 5.0\n"
          ],
          "name": "stdout"
        }
      ]
    },
    {
      "cell_type": "markdown",
      "metadata": {
        "id": "U-6HcW1ef-0W"
      },
      "source": [
        "In the following example, variable $a$ affects the result through two different routes"
      ]
    },
    {
      "cell_type": "code",
      "metadata": {
        "colab": {
          "base_uri": "https://localhost:8080/"
        },
        "id": "i56jJcYTf-0W",
        "outputId": "4127a2b6-47b2-48bd-b5ff-6dee020c8513"
      },
      "source": [
        "a = Variable(4)  # a = 4\n",
        "b = Variable(3)  # b = 3\n",
        "c = vAdd(a, b)   # c = 4 + 3\n",
        "res = vMul(a, c) # res = a * c = 28\n",
        "\n",
        "print(\"Result =\", res.value)\n",
        "\n",
        "# Call backprop on the result\n",
        "res.backProp()\n",
        "\n",
        "# Now all variables should contain in their \"grad\" the derivative d(res) / d(variable)\n",
        "print(\"The derivative of the result with respect to a is:\", a.grad)\n",
        "print(\"The derivative of the result with respect to b is:\", b.grad)\n",
        "# Also for intermediate results\n",
        "print(\"The derivative of the result with respect to c is:\", c.grad)"
      ],
      "execution_count": 44,
      "outputs": [
        {
          "output_type": "stream",
          "text": [
            "Result = 28\n",
            "The derivative of the result with respect to a is: 11.0\n",
            "The derivative of the result with respect to b is: 4.0\n",
            "The derivative of the result with respect to c is: 4.0\n"
          ],
          "name": "stdout"
        }
      ]
    },
    {
      "cell_type": "markdown",
      "metadata": {
        "id": "5afOuzRdf-0X"
      },
      "source": [
        "<font color=blue>**Question:** Can you now use this setup to calculate the derivative of $c$ with respect to $a$ and $b$?</font>"
      ]
    },
    {
      "cell_type": "code",
      "metadata": {
        "id": "LL6V-biAf-0X",
        "colab": {
          "base_uri": "https://localhost:8080/"
        },
        "outputId": "3b3299ad-d378-415e-ac31-4a1a466d0f9a"
      },
      "source": [
        "# Your Code Here\n",
        "c.backProp()\n",
        "print(c)\n",
        "print(a)\n",
        "print(b)"
      ],
      "execution_count": 45,
      "outputs": [
        {
          "output_type": "stream",
          "text": [
            "Value: 7, Gradient: 5.0\n",
            "Value: 4, Gradient: 12.0\n",
            "Value: 3, Gradient: 5.0\n"
          ],
          "name": "stdout"
        }
      ]
    },
    {
      "cell_type": "markdown",
      "metadata": {
        "id": "I0gGLXfq-xEJ"
      },
      "source": [
        "No podem ja que el valor dels gradients no es restableix i els valors del gradient es veuen esbiaixats ja que es sumen i es multipliquen amb valors de càlculs previs."
      ]
    },
    {
      "cell_type": "markdown",
      "metadata": {
        "id": "zQYh4IX6f-0X"
      },
      "source": [
        "## Final touches\n",
        "\n",
        "If you understood how this works up to here, then you should be already good to go. But since we want to use our auto grad to do some practical work, we will continue working on it a bit, to make it a bit more usable and complete it with more operations. Many of the subsequent steps are quite \"engineering\" in nature."
      ]
    },
    {
      "cell_type": "markdown",
      "metadata": {
        "id": "ykWiONnff-0X"
      },
      "source": [
        "### Improving usability: overloading operators"
      ]
    },
    {
      "cell_type": "markdown",
      "metadata": {
        "id": "_IohGQoDf-0Y"
      },
      "source": [
        "Of course this is still highly incomplete, very inefficient and not very usable. Lets first improve a usability issue. Instead of having to call different functions for the operations like `res = vMul(a, c)`, we would like to be able to directly write them down like `res = a * b`. To achieve this, we should overload [Python's special functions for operator overloading](https://docs.python.org/3/reference/datamodel.html#emulating-numeric-types).\n",
        "\n",
        "Here's how to do this for the addition and multiplication."
      ]
    },
    {
      "cell_type": "code",
      "metadata": {
        "id": "4LErLEhlf-0Y"
      },
      "source": [
        "class Variable: #Simple variable. These are the leafs of our tree, they can request to have a gradient calculated, or not\n",
        "    def __init__(self, value):\n",
        "        self.value = value\n",
        "        self.gradRoutes = [] # A variable by default has no grad Routes (was not created by anything, just defined)\n",
        "        self.grad = 0.0\n",
        "    \n",
        "    def backProp(self, route_val = 1.0):\n",
        "        # Add together the incoming gradients from the different routes that lead to a node - this will be the final gradient for the node\n",
        "        self.grad += route_val\n",
        "                \n",
        "        # For every parent variable and corresponding local derivative value that we have in the gradRoutes, continue with the gradient calculation\n",
        "        for variable, local_derivative_value in self.gradRoutes:\n",
        "            # Multiply the incoming gradient with the local derivatives corresponding the parent variable, and continue the backpropagation\n",
        "            variable.backProp(local_derivative_value * route_val)\n",
        "            \n",
        "    def __add__(self, b):\n",
        "        return vAdd(self, b)\n",
        "        \n",
        "    def __mul__(self, b):\n",
        "        return vMul(self, b)            \n",
        "    \n",
        "    def __str__(self):\n",
        "        return 'Value: {self.value}, Gradient: {self.grad}'.format(self=self)"
      ],
      "execution_count": 46,
      "outputs": []
    },
    {
      "cell_type": "code",
      "metadata": {
        "colab": {
          "base_uri": "https://localhost:8080/"
        },
        "id": "SWiCieKrf-0Z",
        "outputId": "91e98d31-c229-40b7-c799-bb9ece29514d"
      },
      "source": [
        "a = Variable(4)  # a = 4\n",
        "b = Variable(3)  # b = 3\n",
        "c = a + b        # c = 4 + 3\n",
        "res = a * c      # res = a * c = 28\n",
        "\n",
        "print(\"Result =\", res.value)\n",
        "\n",
        "# Call backprop on the result\n",
        "res.backProp()\n",
        "\n",
        "# Now all variables should contain in their \"grad\" the derivative d(res) / d(variable)\n",
        "print(\"The derivative of the result with respect to a is:\", a.grad)\n",
        "print(\"The derivative of the result with respect to b is:\", b.grad)\n",
        "# Also for intermediate results\n",
        "print(\"The derivative of the result with respect to c is:\", b.grad)"
      ],
      "execution_count": 47,
      "outputs": [
        {
          "output_type": "stream",
          "text": [
            "Result = 28\n",
            "The derivative of the result with respect to a is: 11.0\n",
            "The derivative of the result with respect to b is: 4.0\n",
            "The derivative of the result with respect to c is: 4.0\n"
          ],
          "name": "stdout"
        }
      ]
    },
    {
      "cell_type": "markdown",
      "metadata": {
        "id": "zYQeACcTf-0Z"
      },
      "source": [
        "### Zeroing gradients"
      ]
    },
    {
      "cell_type": "markdown",
      "metadata": {
        "id": "telZEo7kf-0Z"
      },
      "source": [
        "A last thing to note is that once we call `backProp`, our gradients are calculated and our variables are now \"dirty\" in the sense that if we call backprop again, the new result will be added to the previous one:"
      ]
    },
    {
      "cell_type": "code",
      "metadata": {
        "colab": {
          "base_uri": "https://localhost:8080/"
        },
        "id": "0W1BTDqMf-0a",
        "outputId": "5ee719b6-cede-4382-ca5c-720ece816538"
      },
      "source": [
        "a = Variable(4)   # a = 4\n",
        "b = Variable(3)   # b = 3\n",
        "res = (a + b) * a # res = a * c = 28\n",
        "\n",
        "# Call backprop on the result\n",
        "res.backProp()\n",
        "print(\"The derivative of the result with respect to a is:\", a.grad)\n",
        "print(\"The derivative of the result with respect to b is:\", b.grad)\n",
        "\n",
        "# Call backprop on the result once more\n",
        "print(\"Second time\")\n",
        "res.backProp()\n",
        "print(\"The derivative of the result with respect to a is:\", a.grad)\n",
        "print(\"The derivative of the result with respect to b is:\", b.grad)"
      ],
      "execution_count": 48,
      "outputs": [
        {
          "output_type": "stream",
          "text": [
            "The derivative of the result with respect to a is: 11.0\n",
            "The derivative of the result with respect to b is: 4.0\n",
            "Second time\n",
            "The derivative of the result with respect to a is: 22.0\n",
            "The derivative of the result with respect to b is: 8.0\n"
          ],
          "name": "stdout"
        }
      ]
    },
    {
      "cell_type": "markdown",
      "metadata": {
        "id": "p8cx06OIf-0a"
      },
      "source": [
        "This will actually turn out to be quite useful, e.g. when we want to accumulate weight gradients over different samples in our learning loops (see next), but we need a way to control it.\n",
        "\n",
        "To avoid this, we should reset the gradients to zero before we call `backProp` again. We can do it one by one for every variable, but we will also implement a function that does this recursively from the child node we backProped from all the way to the parents."
      ]
    },
    {
      "cell_type": "code",
      "metadata": {
        "id": "f2IzPgtDf-0a"
      },
      "source": [
        "class Variable: #Simple variable. These are the leafs of our tree, they can request to have a gradient calculated, or not\n",
        "    def __init__(self, value, requiresGrad = True):\n",
        "        self.value = value\n",
        "        self.gradRoutes = [] # A variable by default has no grad Routes (was not created by anything, just defined)\n",
        "        self.grad = 0.0\n",
        "        self.requiresGrad = requiresGrad\n",
        "    \n",
        "    def backProp(self, route_val = 1.0):\n",
        "        # Add together the incoming gradients from the different routes that lead to a node - this will be the final gradient for the node\n",
        "        self.grad += route_val\n",
        "                \n",
        "        # For every parent variable and corresponding local derivative value that we have in the gradRoutes, continue with the gradient calculation\n",
        "        for variable, local_derivative_value in self.gradRoutes:\n",
        "            # Multiply the incoming gradient with the local derivatives corresponding the parent variable, and continue the backpropagation\n",
        "            if variable.requiresGrad:\n",
        "              variable.backProp(local_derivative_value * route_val)\n",
        "\n",
        "    def zeroGrad(self):\n",
        "        self.grad = 0.0\n",
        "        \n",
        "    def zeroGradsRecursively(self):\n",
        "        self.zeroGrad()\n",
        "        for variable, _ in self.gradRoutes:\n",
        "            variable.zeroGradsRecursively()\n",
        "            \n",
        "    def __add__(self, b):\n",
        "        return vAdd(self, b)\n",
        "        \n",
        "    def __mul__(self, b):\n",
        "        return vMul(self, b) \n",
        "\n",
        "    def __str__(self):\n",
        "       return 'Value: {self.value}, Gradient: {self.grad}'.format(self=self)\n",
        "       "
      ],
      "execution_count": 49,
      "outputs": []
    },
    {
      "cell_type": "code",
      "metadata": {
        "colab": {
          "base_uri": "https://localhost:8080/"
        },
        "id": "lPGnUBJ1f-0a",
        "outputId": "2a7fbe2a-b6a3-45f7-eaf7-f43888521925"
      },
      "source": [
        "a = Variable(4, requiresGrad = True)   # a = 4\n",
        "b = Variable(3, requiresGrad = True)   # b = 3\n",
        "res = (a + b) * a # res = a * c = 28\n",
        "\n",
        "# Call backprop on the result\n",
        "res.backProp()\n",
        "print(\"The derivative of the result with respect to a is:\", a.grad)\n",
        "print(\"The derivative of the result with respect to b is:\", b.grad)\n",
        "\n",
        "# Zero gradients\n",
        "res.zeroGradsRecursively()\n",
        "\n",
        "# Call backprop on the result once more\n",
        "print(\"Second time\")\n",
        "res.backProp()\n",
        "print(\"The derivative of the result with respect to a is:\", a.grad)\n",
        "print(\"The derivative of the result with respect to b is:\", b.grad)"
      ],
      "execution_count": 50,
      "outputs": [
        {
          "output_type": "stream",
          "text": [
            "The derivative of the result with respect to a is: 11.0\n",
            "The derivative of the result with respect to b is: 4.0\n",
            "Second time\n",
            "The derivative of the result with respect to a is: 11.0\n",
            "The derivative of the result with respect to b is: 4.0\n"
          ],
          "name": "stdout"
        }
      ]
    },
    {
      "cell_type": "markdown",
      "metadata": {
        "id": "kEOL7S4Df-0b"
      },
      "source": [
        "## More Improvements - Homework"
      ]
    },
    {
      "cell_type": "markdown",
      "metadata": {
        "id": "kYf-tHHwf-0b"
      },
      "source": [
        "There are number of ways we can improve our simple network. The most important is probably being able to work with vectors and matrices - we will look into this in the next notebook. Before that, there are still a lot of things to do."
      ]
    },
    {
      "cell_type": "markdown",
      "metadata": {
        "id": "4PJj7Zhxf-0b"
      },
      "source": [
        "---\n",
        "### <font color=blue>Excercise 1:</font>\n",
        "    \n",
        "<font color=blue>We usually do not require gradients for all our variables. If we could indicate which variables require gradients, then we could only keep track of the routes that lead to these variables only and drop all the rest. This would be a huge improvement in resources and speed (number of calculations). Can you add this functionality?</font>"
      ]
    },
    {
      "cell_type": "markdown",
      "metadata": {
        "id": "PEQvDASTGJWx"
      },
      "source": [
        "### Classe Variable definitiva amb totes les funcions i mètodes"
      ]
    },
    {
      "cell_type": "code",
      "metadata": {
        "id": "L-3_LNuVf-0b"
      },
      "source": [
        "# Your Code Here\n",
        "def vAdd(A: Variable, B: Variable): # Addition\n",
        "    result = Variable(A.value + B.value) # Create a new Variable to store the result, and pass it the value = a + b\n",
        "          \n",
        "    #keep track of the parent variables, and of the local derivative associated with each one\n",
        "    if A.requiresGrad:\n",
        "      result.gradRoutes.append((A, 1)) # dresult / dA = 1\n",
        "    if B.requiresGrad:\n",
        "      result.gradRoutes.append((B, 1)) # dresult / dB = 1\n",
        "    \n",
        "    return result\n",
        "    \n",
        "def vMul(A: Variable, B: Variable): # Addition\n",
        "    result = Variable(A.value * B.value) # Create a new Variable to store the result, and pass it the value = a + b\n",
        "          \n",
        "    #keep track of the parent variables, and of the local derivative associated with each one\n",
        "    if A.requiresGrad:\n",
        "      result.gradRoutes.append((A, B.value)) # dresult / dA = B\n",
        "    if B.requiresGrad:\n",
        "      result.gradRoutes.append((B, A.value)) # dresult / dB = A\n",
        "    \n",
        "    return result\n",
        "\n",
        "def vSub(A: Variable, B: Variable): # Substraction\n",
        "    result = Variable(A.value - B.value) # Create a new Variable to store the result, and pass it the value = a - b\n",
        "          \n",
        "    #keep track of the parent variables, and of the local derivative associated with each one\n",
        "    if A.requiresGrad:\n",
        "      result.gradRoutes.append((A, 1)) # dresult / dA = 1\n",
        "    if B.requiresGrad:\n",
        "      result.gradRoutes.append((B, -1)) # dresult / dB = - 1\n",
        "    \n",
        "    return result\n",
        "\n",
        "def vPow(A: Variable, B): # pow of a float\n",
        "\n",
        "    result = Variable(A.value ** B) # Create a new Variable to store the result, and pass it the value = a** b\n",
        "          \n",
        "    #keep track of the parent variables, and of the local derivative associated with each one\n",
        "    if A.requiresGrad:\n",
        "      result.gradRoutes.append((A, B*A.value**(B - 1))) # dresult / dA = B*A\n",
        "    \n",
        "    return result\n",
        " \n",
        "def vDiv(A: Variable, B): # div of a float\n",
        "\n",
        "    if type(B) == type(Variable(0)): #Asumimos division del tipo 1/x\n",
        "\n",
        "      result = Variable(A.value/B.value)\n",
        "      if A.requiresGrad:\n",
        "        result.gradRoutes.append((A, 1 / B.value))\n",
        "      if B.requiresGrad:\n",
        "        result.gradRoutes.append((B,  - A.value / (B.value**2))) # dresult / dB = A\n",
        "\n",
        "    else: #Si es un número\n",
        "\n",
        "      result = Variable(A.value / B) # Create a new Variable to store the result, and pass it the value = a/b\n",
        "    \n",
        "      #keep track of the parent variables, and of the local derivative associated with each one\n",
        "      if A.requiresGrad:\n",
        "        result.gradRoutes.append((A, 1/B)) # dresult / dA = 1/B\n",
        "\n",
        "    return result\n",
        "\n",
        "def vExp(A: Variable): # Exp\n",
        "    result = Variable(np.exp(A.value)) # Create a new Variable to store the result, and pass it the value = exp(a)\n",
        "          \n",
        "    #keep track of the parent variables, and of the local derivative associated with each one\n",
        "    result.gradRoutes.append((A, np.exp(A.value))) # dresult / dA = A*exp(A)\n",
        "    \n",
        "    return result\n",
        "\n",
        "def vNeg(A: Variable): # Neg\n",
        "    result = Variable(- A.value) # Create a new Variable to store the result, and pass it the value = -a\n",
        "          \n",
        "    #keep track of the parent variables, and of the local derivative associated with each one\n",
        "    if A.requiresGrad:\n",
        "      result.gradRoutes.append((A, -1)) # dresult / dA = -1\n",
        "    \n",
        "    return result\n",
        "'''\n",
        "def vLog(A: Variable): # Log\n",
        "    result = Variable(np.log(A.value + 1e-5)) # Create a new Variable to store the result, and pass it the value = exp(a)\n",
        "          \n",
        "    #keep track of the parent variables, and of the local derivative associated with each one\n",
        "    result.gradRoutes.append((A, 1 / (A.value + 1e-5))) # dresult / dA = 1/A\n",
        "    \n",
        "    return result\n",
        "'''\n",
        "def vSig(A:Variable):\n",
        "    result = Variable(1/(1 + np.exp(-A.value)))\n",
        "\n",
        "    result.gradRoutes.append((A,  np.exp(-A.value)/(1 + np.exp(-A.value))**2))\n",
        "\n",
        "    return result\n",
        "\n",
        "def vLoss1(A:Variable):\n",
        "    result = Variable( -np.log(A.value + 1e-5))\n",
        "\n",
        "    result.gradRoutes.append((A, - 1/(A.value + 1e-5 )))\n",
        "\n",
        "    return result\n",
        "\n",
        "def vLoss0(A:Variable):\n",
        "    result = Variable( - np.log(1 - A.value + 1e-5))\n",
        "\n",
        "    result.gradRoutes.append((A, 1/ (1 - A.value + 1e-5) ))\n",
        "\n",
        "    return result\n",
        "\n",
        "\n",
        "class Variable: #Simple variable. These are the leafs of our tree, they can request to have a gradient calculated, or not\n",
        "    def __init__(self, value, requiresGrad = True):\n",
        "        self.value = value\n",
        "        self.gradRoutes = [] # A variable by default has no grad Routes (was not created by anything, just defined)\n",
        "        self.grad = 0.0\n",
        "        self.requiresGrad = requiresGrad\n",
        "    \n",
        "    def backProp(self, route_val = 1.0):\n",
        "        # Add together the incoming gradients from the different routes that lead to a node - this will be the final gradient for the node\n",
        "        self.grad += route_val\n",
        "                \n",
        "        # For every parent variable and corresponding local derivative value that we have in the gradRoutes, continue with the gradient calculation\n",
        "        for variable, local_derivative_value in self.gradRoutes:\n",
        "            # Multiply the incoming gradient with the local derivatives corresponding the parent variable, and continue the backpropagation\n",
        "            if variable.requiresGrad:\n",
        "              variable.backProp(local_derivative_value * route_val)\n",
        "\n",
        "    def zeroGrad(self):\n",
        "        self.grad = 0.0\n",
        "        \n",
        "    def zeroGradsRecursively(self):\n",
        "        self.zeroGrad()\n",
        "        for variable, _ in self.gradRoutes:\n",
        "            variable.zeroGradsRecursively()\n",
        "            \n",
        "    def __add__(self, b):\n",
        "        return vAdd(self, b)\n",
        "        \n",
        "    def __mul__(self, b):\n",
        "        return vMul(self, b)  \n",
        "\n",
        "    def __sub__(self, b):\n",
        "      return vSub(self, b)  \n",
        "\n",
        "    def __pow__(self, b):\n",
        "      return vPow(self,b)   \n",
        "    \n",
        "    def __truediv__(self, b):\n",
        "      return vDiv(self,b)\n",
        "    \n",
        "    def __str__(self):\n",
        "        return 'Value: {self.value}, Gradient: {self.grad}'.format(self=self)\n",
        "      "
      ],
      "execution_count": 51,
      "outputs": []
    },
    {
      "cell_type": "markdown",
      "metadata": {
        "id": "aaPdtpJaiyGz"
      },
      "source": [
        "## Polynomial Regression"
      ]
    },
    {
      "cell_type": "markdown",
      "metadata": {
        "id": "pQNzQ4rWiyGz"
      },
      "source": [
        "We will use our AutoGrad framework to implement polynomial regression. First, let's create some noisy training data for the function $y = w_0 + w_1*x + w_2*x^2$ for some values of the weights $w$ ($w_0$ is the bias term). We will then try to estimate these values from the data."
      ]
    },
    {
      "cell_type": "code",
      "metadata": {
        "id": "otmE7_yRiyG0"
      },
      "source": [
        "m = 100 # number of training points\n",
        "w = [-1.0, 2.0, 1.0] # These are the true values for our weights that we will then try to estimate from the data\n",
        "\n",
        "XX = 4 * np.random.rand(m) - 2 # Randomly select m points in the range [-2, 2]\n",
        "YY = w[0] + w[1] * XX + w[2] * (XX**2) # calculate the true outputs\n",
        "YY += np.random.normal(scale = 0.3, size = YY.size) # add noise to simulate observation error"
      ],
      "execution_count": 52,
      "outputs": []
    },
    {
      "cell_type": "code",
      "metadata": {
        "id": "AuvePDNniyG0",
        "colab": {
          "base_uri": "https://localhost:8080/",
          "height": 281
        },
        "outputId": "3c22f1e7-c7ce-4cde-fb90-1306eb7ff4e2"
      },
      "source": [
        "import matplotlib.pyplot as plt\n",
        "\n",
        "plt.title('Our noisy dataset')\n",
        "plt.plot(XX, YY, '.')\n",
        "plt.show()"
      ],
      "execution_count": 53,
      "outputs": [
        {
          "output_type": "display_data",
          "data": {
            "image/png": "[encoded data removed]",
            "text/plain": [
              "<Figure size 432x288 with 1 Axes>"
            ]
          },
          "metadata": {
            "tags": [],
            "needs_background": "light"
          }
        }
      ]
    },
    {
      "cell_type": "markdown",
      "metadata": {
        "id": "ybX4SKFYiyG2"
      },
      "source": [
        "Now we are ready to estimate the values of our parameters, using only the observed samples, and the knowledge that the model we are seeking is a 2 degree polynomial.\n",
        "\n",
        "First of all, we will define three variables for our weights that we will initialise to some value - you can try to change the initialisation value to check that it has no effect in the final result.\n",
        "\n",
        "We will eventually want to calculate the derivatives of the error with respect to each of these weights, so that we can apply gradient descent. Therefore, these variables require gradient calculation as well."
      ]
    },
    {
      "cell_type": "code",
      "metadata": {
        "id": "lwpbPm5OiyG2"
      },
      "source": [
        "# Create variables for our parameters (weights), and initialise them all to 1.0\n",
        "w0 = Variable(0.0, requiresGrad = True)\n",
        "w1 = Variable(0.0, requiresGrad = True)\n",
        "w2 = Variable(0.0, requiresGrad = True)"
      ],
      "execution_count": 54,
      "outputs": []
    },
    {
      "cell_type": "markdown",
      "metadata": {
        "id": "vTlSKWgxiyG2"
      },
      "source": [
        "Next, we do a bit of housekeeping. We define the learning rate that we will use (feel free to change it and see what happens), as well as an empty list in which we will be keeping track of the training loss as it evolves during our training.\n",
        "\n",
        "*Note that we use \"loss\" and \"cost\" quite interchangably in these notebooks - the correct way to use it would be to call loss just the individual error for a single sample, and cost the aggregated error over the whole batch. In practice you will see these names used quite interchangably by different authors, and you should be able to tell what they refer to every time you see them.*"
      ]
    },
    {
      "cell_type": "code",
      "metadata": {
        "id": "EExhPZJxiyG3"
      },
      "source": [
        "lr = 0.01 # Our learning rate\n",
        "training_loss = []"
      ],
      "execution_count": 55,
      "outputs": []
    },
    {
      "cell_type": "markdown",
      "metadata": {
        "id": "P9zHh75ViyG3"
      },
      "source": [
        "Now we will define our typical training loop to implement gradient descent.\n",
        "\n",
        "During each epoch we process the whole batch of data we have, and we will do 2000 epochs (feel free to change this and see what happens).\n",
        "\n",
        "Within each epoch, we will take each sample in our dataset and do a forward pass - calculate the polynomial, using our current values for the weights. The result `out` is our estimated output for the sample. We will then compare it with the true value for the sample (the noisy value we have observed). Here we will use a Mean Square Error cost, so our loss is just the square distance between the estimated and the true (observed) value.\n",
        "\n",
        "We will accumulate the loss for all samples into the `batch_loss` variable, and at the end of each epoch we will divide by the number of samples to get the average error.\n",
        "\n",
        "This is the value that we will backpropagate. This will update the gradient information of all our variables that require gradients, all the way back to the three weights. These gradients are then used to update the weights using simple gradient descent."
      ]
    },
    {
      "cell_type": "markdown",
      "metadata": {
        "id": "4CArsj8PlR9f"
      },
      "source": [
        "### <font color=blue>Excercise 2:</font>\n",
        "    \n",
        "<font color=blue> Notice that our autograd engine is missing some operations that are required in the forward pass for our regression problem.\n",
        "\n",
        "- Add these functionalities to our autograd engine\n",
        "- Allow our engine to work with both Variables and constants so that we dont have to create variables for everything. </font>"
      ]
    },
    {
      "cell_type": "code",
      "metadata": {
        "id": "NUrCpwP9iyG3",
        "colab": {
          "base_uri": "https://localhost:8080/"
        },
        "outputId": "c71a7789-3f7e-43a5-f18b-c04017caa59b"
      },
      "source": [
        "import time\n",
        "\n",
        "t = time.time() # Keep track of the time we started\n",
        "training_loss = []\n",
        "lr = 0.01 # Our learning rate\n",
        "\n",
        "# Create variables for our parameters (weights), and initialise them all to 1.0\n",
        "w0 = Variable(0.0, requiresGrad = True)\n",
        "w1 = Variable(0.0, requiresGrad = True)\n",
        "w2 = Variable(0.0, requiresGrad = True)\n",
        "\n",
        "for epoch in range(2000):\n",
        "\n",
        "    #Zero gradients\n",
        "    w0.zeroGrad()\n",
        "    w1.zeroGrad()\n",
        "    w2.zeroGrad()\n",
        "    \n",
        "    batch_loss = Variable(0.0)\n",
        "    for x, y in zip(XX, YY):\n",
        "\n",
        "        x = Variable(x, requiresGrad = False)\n",
        "        y = Variable(y, requiresGrad = False)\n",
        "\n",
        "        #Forward pass\n",
        "        out = w0 + w1 * x + w2 * x**2 #necessito només la x\n",
        "        \n",
        "        # calculate loss for this training sample\n",
        "        loss = (out - y)**2\n",
        "        \n",
        "        # accumulate losses\n",
        "        batch_loss += loss\n",
        "        \n",
        "\n",
        "    # calculate cost (average of the individual losses)\n",
        "    batch_loss /= m\n",
        "    training_loss.append(batch_loss.value) # keep track of how our training loss evolves\n",
        "    \n",
        "    #backpropagate\n",
        "    batch_loss.backProp()\n",
        "\n",
        "    #Update parameters\n",
        "    w0.value = w0.value - lr * w0.grad\n",
        "    w1.value = w1.value - lr * w1.grad\n",
        "    w2.value = w2.value - lr * w2.grad    \n",
        "\n",
        "    del batch_loss # this should free some resources\n",
        "\n",
        "# Check how long it took\n",
        "print(\"Training took (secs):\", time.time() - t)"
      ],
      "execution_count": 56,
      "outputs": [
        {
          "output_type": "stream",
          "text": [
            "Training took (secs): 6.83887791633606\n"
          ],
          "name": "stdout"
        }
      ]
    },
    {
      "cell_type": "markdown",
      "metadata": {
        "id": "undqn-IeiyG4"
      },
      "source": [
        "So, that took a while. Let's see what values we estimated."
      ]
    },
    {
      "cell_type": "markdown",
      "metadata": {
        "id": "tRtYI5JdZAj_"
      },
      "source": [
        "#### Comentari: Se que no feia falta cambiar els plots però ho faig per entendre millor que passa"
      ]
    },
    {
      "cell_type": "code",
      "metadata": {
        "id": "v0-XodBNiyG4",
        "colab": {
          "base_uri": "https://localhost:8080/",
          "height": 559
        },
        "outputId": "a209b767-cc1b-4e67-dee0-c38a0d432c21"
      },
      "source": [
        "import plotly.graph_objects as go\n",
        "# Print our our results\n",
        "print(\"Estimated weights:\", w0.value, w1.value, w2.value)\n",
        "#Make a plot of the evolution of the training loss\n",
        "fig = go.Figure()\n",
        "fig.add_trace(go.Scatter(x = np.arange(len(training_loss)), y = training_loss, mode = 'lines'))\n",
        "fig.update_layout(title = 'Evolution of the training loss')\n",
        "fig.update_yaxes(title_text = 'Training loss')\n",
        "fig.update_xaxes(title_text = '# Iteration')\n",
        "fig.show()"
      ],
      "execution_count": 57,
      "outputs": [
        {
          "output_type": "stream",
          "text": [
            "Estimated weights: -0.9391783053351466 1.940955135343686 0.9595174574261301\n"
          ],
          "name": "stdout"
        },
        {
          "output_type": "display_data",
          "data": {
            "text/html": [
              "<html>\n",
              "<head><meta charset=\"utf-8\" /></head>\n",
              "<body>\n",
              "    <div>\n",
              "            <script src=\"https://cdnjs.cloudflare.com/ajax/libs/mathjax/2.7.5/MathJax.js?config=TeX-AMS-MML_SVG\"></script><script type=\"text/javascript\">if (window.MathJax) {MathJax.Hub.Config({SVG: {font: \"STIX-Web\"}});}</script>\n",
              "                <script type=\"text/javascript\">window.PlotlyConfig = {MathJaxConfig: 'local'};</script>\n",
              "        <script src=\"https://cdn.plot.ly/plotly-latest.min.js\"></script>    \n",
              "            <div id=\"ecc841eb-f1b4-4ef4-b644-56e2d254d263\" class=\"plotly-graph-div\" style=\"height:525px; width:100%;\"></div>\n",
              "            <script type=\"text/javascript\">\n",
              "                \n",
              "                    window.PLOTLYENV=window.PLOTLYENV || {};\n",
              "                    \n",
              "                if (document.getElementById(\"ecc841eb-f1b4-4ef4-b644-56e2d254d263\")) {\n",
              "                    Plotly.newPlot(\n",
              "                        'ecc841eb-f1b4-4ef4-b644-56e2d254d263',\n",
              "                        [{\"mode\": \"lines\", \"type\": \"scatter\", \"x\": [0, 1, 2, 3, 4, 5, 6, 7, 8, 9, 10, 11, 12, 13, 14, 15, 16, 17, 18, 19, 20, 21, 22, 23, 24, 25, 26, 27, 28, 29, 30, 31, 32, 33, 34, 35, 36, 37, 38, 39, 40, 41, 42, 43, 44, 45, 46, 47, 48, 49, 50, 51, 52, 53, 54, 55, 56, 57, 58, 59, 60, 61, 62, 63, 64, 65, 66, 67, 68, 69, 70, 71, 72, 73, 74, 75, 76, 77, 78, 79, 80, 81, 82, 83, 84, 85, 86, 87, 88, 89, 90, 91, 92, 93, 94, 95, 96, 97, 98, 99, 100, 101, 102, 103, 104, 105, 106, 107, 108, 109, 110, 111, 112, 113, 114, 115, 116, 117, 118, 119, 120, 121, 122, 123, 124, 125, 126, 127, 128, 129, 130, 131, 132, 133, 134, 135, 136, 137, 138, 139, 140, 141, 142, 143, 144, 145, 146, 147, 148, 149, 150, 151, 152, 153, 154, 155, 156, 157, 158, 159, 160, 161, 162, 163, 164, 165, 166, 167, 168, 169, 170, 171, 172, 173, 174, 175, 176, 177, 178, 179, 180, 181, 182, 183, 184, 185, 186, 187, 188, 189, 190, 191, 192, 193, 194, 195, 196, 197, 198, 199, 200, 201, 202, 203, 204, 205, 206, 207, 208, 209, 210, 211, 212, 213, 214, 215, 216, 217, 218, 219, 220, 221, 222, 223, 224, 225, 226, 227, 228, 229, 230, 231, 232, 233, 234, 235, 236, 237, 238, 239, 240, 241, 242, 243, 244, 245, 246, 247, 248, 249, 250, 251, 252, 253, 254, 255, 256, 257, 258, 259, 260, 261, 262, 263, 264, 265, 266, 267, 268, 269, 270, 271, 272, 273, 274, 275, 276, 277, 278, 279, 280, 281, 282, 283, 284, 285, 286, 287, 288, 289, 290, 291, 292, 293, 294, 295, 296, 297, 298, 299, 300, 301, 302, 303, 304, 305, 306, 307, 308, 309, 310, 311, 312, 313, 314, 315, 316, 317, 318, 319, 320, 321, 322, 323, 324, 325, 326, 327, 328, 329, 330, 331, 332, 333, 334, 335, 336, 337, 338, 339, 340, 341, 342, 343, 344, 345, 346, 347, 348, 349, 350, 351, 352, 353, 354, 355, 356, 357, 358, 359, 360, 361, 362, 363, 364, 365, 366, 367, 368, 369, 370, 371, 372, 373, 374, 375, 376, 377, 378, 379, 380, 381, 382, 383, 384, 385, 386, 387, 388, 389, 390, 391, 392, 393, 394, 395, 396, 397, 398, 399, 400, 401, 402, 403, 404, 405, 406, 407, 408, 409, 410, 411, 412, 413, 414, 415, 416, 417, 418, 419, 420, 421, 422, 423, 424, 425, 426, 427, 428, 429, 430, 431, 432, 433, 434, 435, 436, 437, 438, 439, 440, 441, 442, 443, 444, 445, 446, 447, 448, 449, 450, 451, 452, 453, 454, 455, 456, 457, 458, 459, 460, 461, 462, 463, 464, 465, 466, 467, 468, 469, 470, 471, 472, 473, 474, 475, 476, 477, 478, 479, 480, 481, 482, 483, 484, 485, 486, 487, 488, 489, 490, 491, 492, 493, 494, 495, 496, 497, 498, 499, 500, 501, 502, 503, 504, 505, 506, 507, 508, 509, 510, 511, 512, 513, 514, 515, 516, 517, 518, 519, 520, 521, 522, 523, 524, 525, 526, 527, 528, 529, 530, 531, 532, 533, 534, 535, 536, 537, 538, 539, 540, 541, 542, 543, 544, 545, 546, 547, 548, 549, 550, 551, 552, 553, 554, 555, 556, 557, 558, 559, 560, 561, 562, 563, 564, 565, 566, 567, 568, 569, 570, 571, 572, 573, 574, 575, 576, 577, 578, 579, 580, 581, 582, 583, 584, 585, 586, 587, 588, 589, 590, 591, 592, 593, 594, 595, 596, 597, 598, 599, 600, 601, 602, 603, 604, 605, 606, 607, 608, 609, 610, 611, 612, 613, 614, 615, 616, 617, 618, 619, 620, 621, 622, 623, 624, 625, 626, 627, 628, 629, 630, 631, 632, 633, 634, 635, 636, 637, 638, 639, 640, 641, 642, 643, 644, 645, 646, 647, 648, 649, 650, 651, 652, 653, 654, 655, 656, 657, 658, 659, 660, 661, 662, 663, 664, 665, 666, 667, 668, 669, 670, 671, 672, 673, 674, 675, 676, 677, 678, 679, 680, 681, 682, 683, 684, 685, 686, 687, 688, 689, 690, 691, 692, 693, 694, 695, 696, 697, 698, 699, 700, 701, 702, 703, 704, 705, 706, 707, 708, 709, 710, 711, 712, 713, 714, 715, 716, 717, 718, 719, 720, 721, 722, 723, 724, 725, 726, 727, 728, 729, 730, 731, 732, 733, 734, 735, 736, 737, 738, 739, 740, 741, 742, 743, 744, 745, 746, 747, 748, 749, 750, 751, 752, 753, 754, 755, 756, 757, 758, 759, 760, 761, 762, 763, 764, 765, 766, 767, 768, 769, 770, 771, 772, 773, 774, 775, 776, 777, 778, 779, 780, 781, 782, 783, 784, 785, 786, 787, 788, 789, 790, 791, 792, 793, 794, 795, 796, 797, 798, 799, 800, 801, 802, 803, 804, 805, 806, 807, 808, 809, 810, 811, 812, 813, 814, 815, 816, 817, 818, 819, 820, 821, 822, 823, 824, 825, 826, 827, 828, 829, 830, 831, 832, 833, 834, 835, 836, 837, 838, 839, 840, 841, 842, 843, 844, 845, 846, 847, 848, 849, 850, 851, 852, 853, 854, 855, 856, 857, 858, 859, 860, 861, 862, 863, 864, 865, 866, 867, 868, 869, 870, 871, 872, 873, 874, 875, 876, 877, 878, 879, 880, 881, 882, 883, 884, 885, 886, 887, 888, 889, 890, 891, 892, 893, 894, 895, 896, 897, 898, 899, 900, 901, 902, 903, 904, 905, 906, 907, 908, 909, 910, 911, 912, 913, 914, 915, 916, 917, 918, 919, 920, 921, 922, 923, 924, 925, 926, 927, 928, 929, 930, 931, 932, 933, 934, 935, 936, 937, 938, 939, 940, 941, 942, 943, 944, 945, 946, 947, 948, 949, 950, 951, 952, 953, 954, 955, 956, 957, 958, 959, 960, 961, 962, 963, 964, 965, 966, 967, 968, 969, 970, 971, 972, 973, 974, 975, 976, 977, 978, 979, 980, 981, 982, 983, 984, 985, 986, 987, 988, 989, 990, 991, 992, 993, 994, 995, 996, 997, 998, 999, 1000, 1001, 1002, 1003, 1004, 1005, 1006, 1007, 1008, 1009, 1010, 1011, 1012, 1013, 1014, 1015, 1016, 1017, 1018, 1019, 1020, 1021, 1022, 1023, 1024, 1025, 1026, 1027, 1028, 1029, 1030, 1031, 1032, 1033, 1034, 1035, 1036, 1037, 1038, 1039, 1040, 1041, 1042, 1043, 1044, 1045, 1046, 1047, 1048, 1049, 1050, 1051, 1052, 1053, 1054, 1055, 1056, 1057, 1058, 1059, 1060, 1061, 1062, 1063, 1064, 1065, 1066, 1067, 1068, 1069, 1070, 1071, 1072, 1073, 1074, 1075, 1076, 1077, 1078, 1079, 1080, 1081, 1082, 1083, 1084, 1085, 1086, 1087, 1088, 1089, 1090, 1091, 1092, 1093, 1094, 1095, 1096, 1097, 1098, 1099, 1100, 1101, 1102, 1103, 1104, 1105, 1106, 1107, 1108, 1109, 1110, 1111, 1112, 1113, 1114, 1115, 1116, 1117, 1118, 1119, 1120, 1121, 1122, 1123, 1124, 1125, 1126, 1127, 1128, 1129, 1130, 1131, 1132, 1133, 1134, 1135, 1136, 1137, 1138, 1139, 1140, 1141, 1142, 1143, 1144, 1145, 1146, 1147, 1148, 1149, 1150, 1151, 1152, 1153, 1154, 1155, 1156, 1157, 1158, 1159, 1160, 1161, 1162, 1163, 1164, 1165, 1166, 1167, 1168, 1169, 1170, 1171, 1172, 1173, 1174, 1175, 1176, 1177, 1178, 1179, 1180, 1181, 1182, 1183, 1184, 1185, 1186, 1187, 1188, 1189, 1190, 1191, 1192, 1193, 1194, 1195, 1196, 1197, 1198, 1199, 1200, 1201, 1202, 1203, 1204, 1205, 1206, 1207, 1208, 1209, 1210, 1211, 1212, 1213, 1214, 1215, 1216, 1217, 1218, 1219, 1220, 1221, 1222, 1223, 1224, 1225, 1226, 1227, 1228, 1229, 1230, 1231, 1232, 1233, 1234, 1235, 1236, 1237, 1238, 1239, 1240, 1241, 1242, 1243, 1244, 1245, 1246, 1247, 1248, 1249, 1250, 1251, 1252, 1253, 1254, 1255, 1256, 1257, 1258, 1259, 1260, 1261, 1262, 1263, 1264, 1265, 1266, 1267, 1268, 1269, 1270, 1271, 1272, 1273, 1274, 1275, 1276, 1277, 1278, 1279, 1280, 1281, 1282, 1283, 1284, 1285, 1286, 1287, 1288, 1289, 1290, 1291, 1292, 1293, 1294, 1295, 1296, 1297, 1298, 1299, 1300, 1301, 1302, 1303, 1304, 1305, 1306, 1307, 1308, 1309, 1310, 1311, 1312, 1313, 1314, 1315, 1316, 1317, 1318, 1319, 1320, 1321, 1322, 1323, 1324, 1325, 1326, 1327, 1328, 1329, 1330, 1331, 1332, 1333, 1334, 1335, 1336, 1337, 1338, 1339, 1340, 1341, 1342, 1343, 1344, 1345, 1346, 1347, 1348, 1349, 1350, 1351, 1352, 1353, 1354, 1355, 1356, 1357, 1358, 1359, 1360, 1361, 1362, 1363, 1364, 1365, 1366, 1367, 1368, 1369, 1370, 1371, 1372, 1373, 1374, 1375, 1376, 1377, 1378, 1379, 1380, 1381, 1382, 1383, 1384, 1385, 1386, 1387, 1388, 1389, 1390, 1391, 1392, 1393, 1394, 1395, 1396, 1397, 1398, 1399, 1400, 1401, 1402, 1403, 1404, 1405, 1406, 1407, 1408, 1409, 1410, 1411, 1412, 1413, 1414, 1415, 1416, 1417, 1418, 1419, 1420, 1421, 1422, 1423, 1424, 1425, 1426, 1427, 1428, 1429, 1430, 1431, 1432, 1433, 1434, 1435, 1436, 1437, 1438, 1439, 1440, 1441, 1442, 1443, 1444, 1445, 1446, 1447, 1448, 1449, 1450, 1451, 1452, 1453, 1454, 1455, 1456, 1457, 1458, 1459, 1460, 1461, 1462, 1463, 1464, 1465, 1466, 1467, 1468, 1469, 1470, 1471, 1472, 1473, 1474, 1475, 1476, 1477, 1478, 1479, 1480, 1481, 1482, 1483, 1484, 1485, 1486, 1487, 1488, 1489, 1490, 1491, 1492, 1493, 1494, 1495, 1496, 1497, 1498, 1499, 1500, 1501, 1502, 1503, 1504, 1505, 1506, 1507, 1508, 1509, 1510, 1511, 1512, 1513, 1514, 1515, 1516, 1517, 1518, 1519, 1520, 1521, 1522, 1523, 1524, 1525, 1526, 1527, 1528, 1529, 1530, 1531, 1532, 1533, 1534, 1535, 1536, 1537, 1538, 1539, 1540, 1541, 1542, 1543, 1544, 1545, 1546, 1547, 1548, 1549, 1550, 1551, 1552, 1553, 1554, 1555, 1556, 1557, 1558, 1559, 1560, 1561, 1562, 1563, 1564, 1565, 1566, 1567, 1568, 1569, 1570, 1571, 1572, 1573, 1574, 1575, 1576, 1577, 1578, 1579, 1580, 1581, 1582, 1583, 1584, 1585, 1586, 1587, 1588, 1589, 1590, 1591, 1592, 1593, 1594, 1595, 1596, 1597, 1598, 1599, 1600, 1601, 1602, 1603, 1604, 1605, 1606, 1607, 1608, 1609, 1610, 1611, 1612, 1613, 1614, 1615, 1616, 1617, 1618, 1619, 1620, 1621, 1622, 1623, 1624, 1625, 1626, 1627, 1628, 1629, 1630, 1631, 1632, 1633, 1634, 1635, 1636, 1637, 1638, 1639, 1640, 1641, 1642, 1643, 1644, 1645, 1646, 1647, 1648, 1649, 1650, 1651, 1652, 1653, 1654, 1655, 1656, 1657, 1658, 1659, 1660, 1661, 1662, 1663, 1664, 1665, 1666, 1667, 1668, 1669, 1670, 1671, 1672, 1673, 1674, 1675, 1676, 1677, 1678, 1679, 1680, 1681, 1682, 1683, 1684, 1685, 1686, 1687, 1688, 1689, 1690, 1691, 1692, 1693, 1694, 1695, 1696, 1697, 1698, 1699, 1700, 1701, 1702, 1703, 1704, 1705, 1706, 1707, 1708, 1709, 1710, 1711, 1712, 1713, 1714, 1715, 1716, 1717, 1718, 1719, 1720, 1721, 1722, 1723, 1724, 1725, 1726, 1727, 1728, 1729, 1730, 1731, 1732, 1733, 1734, 1735, 1736, 1737, 1738, 1739, 1740, 1741, 1742, 1743, 1744, 1745, 1746, 1747, 1748, 1749, 1750, 1751, 1752, 1753, 1754, 1755, 1756, 1757, 1758, 1759, 1760, 1761, 1762, 1763, 1764, 1765, 1766, 1767, 1768, 1769, 1770, 1771, 1772, 1773, 1774, 1775, 1776, 1777, 1778, 1779, 1780, 1781, 1782, 1783, 1784, 1785, 1786, 1787, 1788, 1789, 1790, 1791, 1792, 1793, 1794, 1795, 1796, 1797, 1798, 1799, 1800, 1801, 1802, 1803, 1804, 1805, 1806, 1807, 1808, 1809, 1810, 1811, 1812, 1813, 1814, 1815, 1816, 1817, 1818, 1819, 1820, 1821, 1822, 1823, 1824, 1825, 1826, 1827, 1828, 1829, 1830, 1831, 1832, 1833, 1834, 1835, 1836, 1837, 1838, 1839, 1840, 1841, 1842, 1843, 1844, 1845, 1846, 1847, 1848, 1849, 1850, 1851, 1852, 1853, 1854, 1855, 1856, 1857, 1858, 1859, 1860, 1861, 1862, 1863, 1864, 1865, 1866, 1867, 1868, 1869, 1870, 1871, 1872, 1873, 1874, 1875, 1876, 1877, 1878, 1879, 1880, 1881, 1882, 1883, 1884, 1885, 1886, 1887, 1888, 1889, 1890, 1891, 1892, 1893, 1894, 1895, 1896, 1897, 1898, 1899, 1900, 1901, 1902, 1903, 1904, 1905, 1906, 1907, 1908, 1909, 1910, 1911, 1912, 1913, 1914, 1915, 1916, 1917, 1918, 1919, 1920, 1921, 1922, 1923, 1924, 1925, 1926, 1927, 1928, 1929, 1930, 1931, 1932, 1933, 1934, 1935, 1936, 1937, 1938, 1939, 1940, 1941, 1942, 1943, 1944, 1945, 1946, 1947, 1948, 1949, 1950, 1951, 1952, 1953, 1954, 1955, 1956, 1957, 1958, 1959, 1960, 1961, 1962, 1963, 1964, 1965, 1966, 1967, 1968, 1969, 1970, 1971, 1972, 1973, 1974, 1975, 1976, 1977, 1978, 1979, 1980, 1981, 1982, 1983, 1984, 1985, 1986, 1987, 1988, 1989, 1990, 1991, 1992, 1993, 1994, 1995, 1996, 1997, 1998, 1999], \"y\": [5.7192710072486905, 5.4354952431142145, 5.168236745912715, 4.916331447907659, 4.678723414353903, 4.454451770093424, 4.242639477339051, 4.042483683887996, 3.8532474046841516, 3.674252336469759, 3.504872636313223, 3.3445295209790955, 3.1926865661845567, 3.048845603409306, 2.912543127635802, 2.783347142652618, 2.6608543817408314, 2.5446878510066906, 2.4344946505975638, 2.329944035772675, 2.230725685490055, 2.136548150980046, 2.0471374608418915, 1.9622358626394318, 1.8816006838829764, 1.8050032977494672, 1.732228180981802, 1.6630720531792982, 1.5973430881941704, 1.534860189625337, 1.4754523234859929, 1.4189579020447505, 1.3652242136269144, 1.3141068938335163, 1.2654694342090271, 1.219182724879101, 1.1751246280999665, 1.133179580021874, 1.0932382182793245, 1.0551970332882818, 1.0189580413616166, 0.9844284779541244, 0.9515205095221634, 0.9201509626341459, 0.8902410691001209, 0.8617162260042764, 0.8345057696256778, 0.8085427623220022, 0.7837637915301056, 0.7601087801073774, 0.7375208073002688, 0.7159459396821112, 0.6953330714523126, 0.6756337735339228, 0.6568021509471116, 0.6387947079727658, 0.6215702206537518, 0.605089616211734, 0.5893158589851629, 0.5742138425194817, 0.5597502874639195, 0.5458936449507726, 0.5326140051529122, 0.5198830107336544, 0.5076737749201609, 0.49596080394738506, 0.48471992363431526, 0.4739282098680201, 0.4635639227838459, 0.4536064444421008, 0.4440362198128336, 0.4348347008908275, 0.42598429377283653, 0.4174683085383712, 0.4092709117840856, 0.40137708167002145, 0.3937725653437177, 0.38644383861546816, 0.37937806776488864, 0.3725630733654388, 0.3659872960196452, 0.3596397639035613, 0.353510062024433, 0.34758830310070055, 0.3418650999783231, 0.33633153950201333, 0.3309791577643164, 0.3257999166595721, 0.32078618167369477, 0.3159307008443712, 0.3112265848297599, 0.30666728802706733, 0.3022465906854838, 0.2979585819609143, 0.2937976438627248, 0.28975843604536444, 0.2858358814002237, 0.28202515240545223, 0.27832165819370086, 0.2747210322998703, 0.2712191210529589, 0.2678119725779986, 0.2644958263758715, 0.2612671034505002, 0.25812239695452166, 0.2550584633260794, 0.25207221389081724, 0.24916070690452813, 0.24632114001320943, 0.24355084310850394, 0.24084727155766872, 0.2382079997883227, 0.23563071520925635, 0.23311321244958624, 0.23065338789946893, 0.22824923453647347, 0.22589883702255706, 0.22360036705737843, 0.22135207897444076, 0.21915230556726814, 0.21699945413349372, 0.2148920027253833, 0.21282849659591568, 0.21080754483012443, 0.20882781715194285, 0.2068880408973137, 0.2049869981448094, 0.2031235229954726, 0.20129649899402502, 0.1995048566840066, 0.1977475712897974, 0.19602366051885173, 0.19433218247781972, 0.19267223369657288, 0.1910429472544561, 0.1894434910034008, 0.18787306588280347, 0.18633090432135546, 0.18481626872125242, 0.1833284500204629, 0.1818667663289563, 0.18043056163501103, 0.17901920457792567, 0.1776320872836524, 0.17626862426005172, 0.17492825134864748, 0.17361042472991828, 0.1723146199793262, 0.1710403311714216, 0.16978707002951332, 0.1685543651185168, 0.16734176107872564, 0.16614881789836491, 0.16497511022290356, 0.16382022669920324, 0.16268376935268797, 0.16156535299581168, 0.16046460466618992, 0.15938116309285394, 0.15831467818915906, 0.1572648105709612, 0.1562312310987497, 0.1552136204424867, 0.15421166866797806, 0.15322507484365502, 0.15225354666671043, 0.15129680010758376, 0.15035455907184725, 0.1494265550785912, 0.1485125269544553, 0.14761222054249878, 0.14672538842514274, 0.14585178966046006, 0.1449911895311229, 0.14414335930536104, 0.14330807600930803, 0.14248512221015625, 0.14167428580956157, 0.14087535984677574, 0.14008814231100866, 0.1393124359625464, 0.13854804816218208, 0.13779479070853287, 0.1370524796828438, 0.13632093530089734, 0.1355999817716676, 0.13488944716238016, 0.13418916326965072, 0.1334989654963971, 0.1328186927342356, 0.13214818725108166, 0.13148729458369868, 0.13083586343494363, 0.13019374557547622, 0.12956079574970947, 0.12893687158578926, 0.12832183350940482, 0.12771554466123822, 0.12711787081787615, 0.12652868031601033, 0.12594784397976722, 0.12537523505101283, 0.12481072912248792, 0.12425420407363515, 0.12370554000898756, 0.12316461919899575, 0.12263132602317427, 0.1221055469154569, 0.12158717031165542, 0.12107608659892055, 0.12057218806711065, 0.12007536886197759, 0.11958552494008429, 0.11910255402537291, 0.11862635556730568, 0.11815683070050632, 0.11769388220583238, 0.11723741447281144, 0.11678733346338024, 0.11634354667686685, 0.11590596311615782, 0.11547449325500034, 0.11504904900638493, 0.11462954369196211, 0.11421589201244826, 0.1138080100189741, 0.11340581508533804, 0.113009225881122, 0.1126181623456344, 0.11223254566264432, 0.11185229823587223, 0.11147734366520685, 0.11110760672361622, 0.11074301333472505, 0.11038349055102971, 0.11002896653272659, 0.10967937052712626, 0.1093346328486326, 0.10899468485926146, 0.10865945894968039, 0.10832888852074657, 0.10800290796552449, 0.1076814526517654, 0.1073644589048296, 0.10705186399103665, 0.10674360610142518, 0.106439624335909, 0.1061398586878144, 0.10584425002878421, 0.10555274009403641, 0.10526527146796401, 0.10498178757006393, 0.10470223264118537, 0.10442655173008294, 0.10415469068026921, 0.10388659611715147, 0.10362221543544715, 0.1033614967868673, 0.10310438906805866, 0.10285084190879756, 0.10260080566042679, 0.102354231384528, 0.10211107084182279, 0.10187127648129422, 0.10163480142952434, 0.10140159948023916, 0.10117162508405608, 0.10094483333842787, 0.10072117997777733, 0.10050062136381721, 0.10028311447605073, 0.10006861690244721, 0.0998570868302882, 0.09964848303717949, 0.09944276488222517, 0.09923989229735879, 0.0990398257788277, 0.0988425263788272, 0.09864795569728034, 0.09845607587375942, 0.09826684957954679, 0.09808024000983005, 0.09789621087603059, 0.09771472639825975, 0.09753575129790165, 0.09735925079031928, 0.0971851905776802, 0.09701353684190024, 0.09684425623770265, 0.09667731588578844, 0.0965126833661183, 0.09635032671130095, 0.09619021440008789, 0.0960323153509703, 0.09587659891587857, 0.09572303487397883, 0.09557159342556858, 0.09542224518606574, 0.09527496118009203, 0.09512971283564718, 0.09498647197837251, 0.09484521082590346, 0.09470590198230695, 0.09456851843260435, 0.09443303353737688, 0.09429942102745298, 0.09416765499867533, 0.09403770990674629, 0.093909560562151, 0.09378318212515536, 0.09365855010087935, 0.093535640334443, 0.09341442900618374, 0.09329489262694521, 0.0931770080334347, 0.09306075238364932, 0.09294610315236836, 0.09283303812671274, 0.0927215354017682, 0.09261157337627259, 0.09250313074836593, 0.09239618651140198, 0.09229071994982045, 0.09218671063507872, 0.09208413842164262, 0.09198298344303453, 0.09188322610793818, 0.09178484709636062, 0.09168782735584667, 0.0915921480977509, 0.09149779079355955, 0.09140473717126764, 0.091312969211806, 0.09122246914552003, 0.09113321944869845, 0.09104520284015089, 0.09095840227783478, 0.09087280095552931, 0.09078838229955717, 0.09070512996555229, 0.09062302783527333, 0.09054206001346209, 0.09046221082474654, 0.09038346481058747, 0.09030580672626766, 0.09022922153792381, 0.09015369441962102, 0.09007921075046632, 0.09000575611176506, 0.08993331628421573, 0.08986187724514476, 0.08979142516577981, 0.08972194640856132, 0.08965342752449212, 0.08958585525052333, 0.08951921650697776, 0.08945349839500859, 0.08938868819409397, 0.08932477335956646, 0.08926174152017713, 0.08919958047569354, 0.08913827819453106, 0.08907782281141778, 0.08901820262509136, 0.08895940609602825, 0.08890142184420467, 0.0888442386468886, 0.08878784543646243, 0.08873223129827622, 0.08867738546853053, 0.08862329733218895, 0.08856995642091935, 0.08851735241106416, 0.08846547512163841, 0.08841431451235607, 0.0883638606816834, 0.08831410386491952, 0.08826503443230367, 0.08821664288714874, 0.08816891986400041, 0.08812185612682268, 0.08807544256720716, 0.08802967020260882, 0.08798453017460492, 0.0879400137471791, 0.08789611230502803, 0.08785281735189296, 0.08781012050891338, 0.08776801351300413, 0.08772648821525425, 0.08768553657934876, 0.08764515068001204, 0.0876053227014728, 0.08756604493594988, 0.08752730978216014, 0.08748910974384555, 0.08745143742832186, 0.08741428554504677, 0.08737764690420821, 0.08734151441533188, 0.08730588108590828, 0.08727074002003876, 0.08723608441710003, 0.08720190757042769, 0.0871682028660175, 0.08713496378124447, 0.08710218388360047, 0.08706985682944852, 0.08703797636279476, 0.08700653631407695, 0.08697553059897052, 0.08694495321721027, 0.0869147982514288, 0.08688505986601117, 0.08685573230596494, 0.08682680989580621, 0.08679828703846104, 0.08677015821418166, 0.08674241797947832, 0.08671506096606536, 0.08668808187982201, 0.08666147549976776, 0.08663523667705174, 0.08660936033395585, 0.08658384146291213, 0.08655867512553338, 0.0865338564516574, 0.08650938063840409, 0.08648524294924594, 0.08646143871309146, 0.08643796332338058, 0.08641481223719363, 0.08639198097437156, 0.08636946511664899, 0.08634726030679925, 0.08632536224779061, 0.0863037667019551, 0.08628246949016799, 0.08626146649103894, 0.08624075364011473, 0.08622032692909222, 0.08620018240504257, 0.08618031616964635, 0.08616072437843926, 0.08614140324006762, 0.08612234901555489, 0.0861035580175782, 0.08608502660975421, 0.08606675120593577, 0.08604872826951784, 0.08603095431275296, 0.08601342589607608, 0.08599613962743932, 0.08597909216165509, 0.08596228019974884, 0.08594570048832084, 0.08592934981891612, 0.08591322502740371, 0.08589732299336479, 0.08588164063948776, 0.08586617493097373, 0.08585092287494855, 0.08583588151988385, 0.08582104795502601, 0.08580641930983245, 0.08579199275341624, 0.08577776549399858, 0.08576373477836823, 0.08574989789134857, 0.08573625215527242, 0.0857227949294638, 0.08570952360972683, 0.08569643562784168, 0.08568352845106779, 0.08567079958165341, 0.08565824655635251, 0.0856458669459481, 0.08563365835478183, 0.08562161842029066, 0.0856097448125495, 0.08559803523382041, 0.0855864874181079, 0.08557509913072044, 0.08556386816783787, 0.0855527923560852, 0.08554186955211167, 0.08553109764217622, 0.08552047454173843, 0.08550999819505486, 0.08549966657478157, 0.08548947768158159, 0.08547942954373795, 0.08546952021677258, 0.0854597477830691, 0.08545011035150267, 0.08544060605707358, 0.08543123306054629, 0.08542198954809357, 0.08541287373094571, 0.08540388384504391, 0.08539501815069953, 0.08538627493225658, 0.08537765249776064, 0.08536914917863074, 0.0853607633293368, 0.08535249332708097, 0.08534433757148387, 0.08533629448427472, 0.08532836250898583, 0.08532054011065165, 0.08531282577551132, 0.08530521801071635, 0.08529771534404101, 0.08529031632359799, 0.08528301951755721, 0.08527582351386866, 0.08526872691998932, 0.08526172836261361, 0.08525482648740751, 0.0852480199587466, 0.08524130745945786, 0.08523468769056403, 0.08522815937103292, 0.08522172123752939, 0.0852153720441706, 0.08520911056228525, 0.0852029355801754, 0.08519684590288236, 0.08519084035195526, 0.08518491776522326, 0.08517907699657017, 0.08517331691571296, 0.08516763640798317, 0.0851620343741109, 0.08515650973001232, 0.08515106140657958, 0.08514568834947431, 0.08514038951892337, 0.08513516388951745, 0.08513001045001323, 0.08512492820313694, 0.085119916165392, 0.08511497336686819, 0.08511009885105451, 0.08510529167465349, 0.085100550907399, 0.08509587563187625, 0.08509126494334401, 0.08508671794955992, 0.08508223377060721, 0.08507781153872526, 0.08507345039814072, 0.08506914950490276, 0.0850649080267193, 0.08506072514279577, 0.08505660004367707, 0.08505253193108991, 0.08504852001778895, 0.08504456352740443, 0.08504066169429167, 0.08503681376338322, 0.08503301899004245, 0.08502927663991955, 0.08502558598880962, 0.08502194632251206, 0.08501835693669299, 0.08501481713674844, 0.08501132623767015, 0.0850078835639129, 0.08500448844926384, 0.0850011402367137, 0.0849978382783294, 0.08499458193512882, 0.08499137057695717, 0.084988203582365, 0.08498508033848771, 0.08498200024092757, 0.08497896269363588, 0.0849759671087984, 0.08497301290672132, 0.08497009951571895, 0.0849672263720033, 0.08496439291957465, 0.08496159861011444, 0.08495884290287883, 0.08495612526459408, 0.0849534451693535, 0.08495080209851541, 0.08494819554060312, 0.0849456249912058, 0.08494308995288063, 0.08494058993505699, 0.0849381244539411, 0.08493569303242278, 0.08493329519998279, 0.08493093049260196, 0.0849285984526713, 0.08492629862890366, 0.08492403057624606, 0.08492179385579383, 0.08491958803470556, 0.08491741268611937, 0.08491526738907028, 0.08491315172840881, 0.08491106529472053, 0.08490900768424706, 0.08490697849880742, 0.08490497734572183, 0.08490300383773486, 0.0849010575929409, 0.08489913823471035, 0.08489724539161646, 0.08489537869736363, 0.08489353779071647, 0.08489172231542995, 0.08488993192018038, 0.08488816625849742, 0.08488642498869718, 0.08488470777381588, 0.08488301428154486, 0.08488134418416607, 0.08487969715848884, 0.08487807288578714, 0.08487647105173812, 0.08487489134636103, 0.0848733334639575, 0.08487179710305226, 0.08487028196633473, 0.08486878776060153, 0.08486731419669985, 0.08486586098947133, 0.08486442785769696, 0.08486301452404275, 0.08486162071500593, 0.08486024616086187, 0.08485889059561229, 0.08485755375693359, 0.08485623538612579, 0.08485493522806319, 0.08485365303114403, 0.08485238854724267, 0.08485114153166118, 0.08484991174308192, 0.084848698943521, 0.08484750289828215, 0.0848463233759115, 0.08484516014815244, 0.08484401298990156, 0.0848428816791654, 0.08484176599701711, 0.08484066572755426, 0.08483958065785688, 0.0848385105779467, 0.08483745528074595, 0.08483641456203761, 0.08483538822042595, 0.08483437605729727, 0.08483337787678177, 0.0848323934857154, 0.08483142269360268, 0.08483046531257972, 0.08482952115737782, 0.08482859004528795, 0.08482767179612477, 0.08482676623219229, 0.08482587317824938, 0.08482499246147564, 0.08482412391143829, 0.08482326736005895, 0.08482242264158107, 0.08482158959253802, 0.08482076805172147, 0.08481995786015002, 0.08481915886103858, 0.08481837089976788, 0.08481759382385487, 0.0848168274829228, 0.0848160717286723, 0.08481532641485284, 0.08481459139723421, 0.08481386653357859, 0.0848131516836133, 0.08481244670900327, 0.08481175147332463, 0.08481106584203815, 0.08481038968246299, 0.08480972286375148, 0.08480906525686349, 0.0848084167345415, 0.08480777717128599, 0.08480714644333108, 0.08480652442862091, 0.08480591100678556, 0.08480530605911808, 0.08480470946855129, 0.08480412111963537, 0.08480354089851527, 0.08480296869290886, 0.0848024043920853, 0.08480184788684317, 0.08480129906948974, 0.08480075783382011, 0.08480022407509641, 0.08479969769002774, 0.08479917857675012, 0.0847986666348068, 0.08479816176512875, 0.08479766387001549, 0.08479717285311647, 0.08479668861941195, 0.08479621107519483, 0.08479574012805276, 0.08479527568684979, 0.08479481766170911, 0.08479436596399542, 0.08479392050629807, 0.08479348120241373, 0.08479304796733005, 0.08479262071720908, 0.08479219936937106, 0.08479178384227842, 0.0847913740555199, 0.08479096992979523, 0.08479057138689954, 0.08479017834970845, 0.08478979074216282, 0.08478940848925447, 0.08478903151701124, 0.0847886597524829, 0.08478829312372711, 0.08478793155979529, 0.084787574990719, 0.08478722334749639, 0.08478687656207878, 0.08478653456735769, 0.08478619729715156, 0.08478586468619324, 0.08478553667011708, 0.0847852131854468, 0.08478489416958285, 0.08478457956079061, 0.08478426929818804, 0.08478396332173448, 0.08478366157221848, 0.08478336399124668, 0.08478307052123249, 0.08478278110538459, 0.08478249568769634, 0.08478221421293496, 0.08478193662663043, 0.08478166287506542, 0.08478139290526451, 0.08478112666498432, 0.08478086410270291, 0.08478060516761046, 0.08478034980959864, 0.08478009797925172, 0.08477984962783644, 0.08477960470729276, 0.08477936317022465, 0.08477912496989079, 0.08477889006019565, 0.08477865839568034, 0.08477842993151397, 0.08477820462348527, 0.08477798242799336, 0.08477776330203984, 0.0847775472032204, 0.08477733408971633, 0.08477712392028679, 0.08477691665426061, 0.08477671225152848, 0.08477651067253517, 0.08477631187827196, 0.08477611583026887, 0.08477592249058756, 0.08477573182181355, 0.08477554378704952, 0.08477535834990765, 0.08477517547450278, 0.08477499512544565, 0.08477481726783591, 0.08477464186725511, 0.0847744688897605, 0.08477429830187809, 0.0847741300705964, 0.08477396416336001, 0.0847738005480632, 0.0847736391930437, 0.08477348006707673, 0.084773323139369, 0.08477316837955227, 0.08477301575767816, 0.08477286524421178, 0.08477271681002653, 0.08477257042639781, 0.08477242606499809, 0.08477228369789115, 0.08477214329752662, 0.0847720048367349, 0.08477186828872146, 0.08477173362706206, 0.08477160082569753, 0.08477146985892876, 0.08477134070141146, 0.08477121332815157, 0.08477108771450037, 0.08477096383614958, 0.08477084166912677, 0.08477072118979066, 0.08477060237482646, 0.08477048520124165, 0.08477036964636127, 0.0847702556878236, 0.08477014330357566, 0.0847700324718695, 0.08476992317125726, 0.0847698153805877, 0.08476970907900135, 0.08476960424592729, 0.08476950086107857, 0.08476939890444855, 0.08476929835630714, 0.0847691991971965, 0.08476910140792773, 0.0847690049695771, 0.08476890986348225, 0.08476881607123862, 0.08476872357469581, 0.0847686323559543, 0.08476854239736183, 0.08476845368151001, 0.08476836619123077, 0.08476827990959342, 0.08476819481990099, 0.08476811090568732, 0.08476802815071367, 0.08476794653896567, 0.08476786605464996, 0.0847677866821917, 0.08476770840623095, 0.0847676312116201, 0.08476755508342074, 0.08476748000690083, 0.08476740596753178, 0.08476733295098592, 0.08476726094313333, 0.08476718993003927, 0.08476711989796165, 0.08476705083334805, 0.0847669827228334, 0.08476691555323722, 0.08476684931156107, 0.08476678398498624, 0.08476671956087087, 0.0847666560267479, 0.08476659337032244, 0.08476653157946941, 0.08476647064223142, 0.08476641054681602, 0.0847663512815938, 0.08476629283509608, 0.08476623519601235, 0.08476617835318864, 0.08476612229562497, 0.08476606701247327, 0.08476601249303531, 0.08476595872676075, 0.08476590570324494, 0.08476585341222696, 0.0847658018435877, 0.0847657509873477, 0.08476570083366561, 0.08476565137283577, 0.08476560259528677, 0.08476555449157924, 0.08476550705240456, 0.08476546026858232, 0.08476541413105915, 0.08476536863090671, 0.08476532375931999, 0.08476527950761559, 0.0847652358672301, 0.08476519282971841, 0.084765150386752, 0.08476510853011768, 0.0847650672517153, 0.0847650265435568, 0.08476498639776477, 0.08476494680657011, 0.08476490776231133, 0.08476486925743279, 0.08476483128448317, 0.08476479383611406, 0.08476475690507862, 0.08476472048423007, 0.08476468456652043, 0.084764649144999, 0.0847646142128112, 0.08476457976319703, 0.08476454578949, 0.08476451228511567, 0.08476447924359024, 0.08476444665851986, 0.0847644145235986, 0.084764382832608, 0.08476435157941525, 0.08476432075797236, 0.08476429036231496, 0.08476426038656083, 0.08476423082490937, 0.08476420167163985, 0.08476417292111064, 0.08476414456775799, 0.08476411660609512, 0.08476408903071107, 0.08476406183626949, 0.08476403501750776, 0.08476400856923613, 0.08476398248633643, 0.08476395676376114, 0.08476393139653249, 0.08476390637974154, 0.0847638817085472, 0.08476385737817521, 0.08476383338391712, 0.08476380972112986, 0.08476378638523396, 0.08476376337171403, 0.08476374067611614, 0.08476371829404855, 0.08476369622117998, 0.08476367445323887, 0.08476365298601278, 0.0847636318153476, 0.08476361093714631, 0.08476359034736872, 0.08476357004203025, 0.08476355001720172, 0.08476353026900783, 0.08476351079362704, 0.08476349158729057, 0.08476347264628167, 0.08476345396693487, 0.08476343554563551, 0.08476341737881875, 0.08476339946296901, 0.08476338179461934, 0.08476336437035055, 0.08476334718679082, 0.08476333024061476, 0.08476331352854313, 0.08476329704734184, 0.0847632807938215, 0.08476326476483681, 0.08476324895728579, 0.08476323336810959, 0.08476321799429137, 0.08476320283285604, 0.08476318788086969, 0.08476317313543884, 0.08476315859370992, 0.08476314425286903, 0.08476313011014079, 0.0847631161627885, 0.08476310240811312, 0.08476308884345281, 0.08476307546618277, 0.08476306227371402, 0.08476304926349389, 0.08476303643300438, 0.08476302377976283, 0.08476301130132058, 0.08476299899526284, 0.08476298685920812, 0.08476297489080795, 0.08476296308774628, 0.08476295144773902, 0.08476293996853357, 0.08476292864790866, 0.0847629174836734, 0.0847629064736675, 0.08476289561576014, 0.08476288490785036, 0.08476287434786586, 0.08476286393376314, 0.08476285366352694, 0.0847628435351698, 0.08476283354673173, 0.0847628236962798, 0.08476281398190773, 0.08476280440173568, 0.0847627949539097, 0.0847627856366015, 0.0847627764480081, 0.08476276738635122, 0.08476275844987745, 0.08476274963685734, 0.0847627409455854, 0.08476273237437983, 0.0847627239215819, 0.08476271558555584, 0.08476270736468844, 0.08476269925738895, 0.08476269126208852, 0.08476268337723981, 0.08476267560131692, 0.08476266793281528, 0.08476266037025074, 0.08476265291215991, 0.0847626455570995, 0.0847626383036462, 0.08476263115039634, 0.08476262409596569, 0.084762617138989, 0.08476261027812013, 0.08476260351203127, 0.08476259683941319, 0.08476259025897442, 0.08476258376944176, 0.08476257736955924, 0.0847625710580885, 0.08476256483380812, 0.08476255869551358, 0.08476255264201697, 0.08476254667214697, 0.08476254078474821, 0.08476253497868143, 0.08476252925282304, 0.08476252360606498, 0.08476251803731456, 0.08476251254549416, 0.08476250712954085, 0.08476250178840687, 0.08476249652105831, 0.08476249132647606, 0.08476248620365466, 0.084762481151603, 0.08476247616934338, 0.08476247125591152, 0.08476246641035674, 0.08476246163174135, 0.08476245691914042, 0.08476245227164218, 0.08476244768834715, 0.08476244316836844, 0.08476243871083142, 0.0847624343148734, 0.0847624299796437, 0.08476242570430338, 0.08476242148802511, 0.08476241732999304, 0.08476241322940237, 0.08476240918545973, 0.08476240519738244, 0.08476240126439874, 0.08476239738574767, 0.08476239356067847, 0.08476238978845109, 0.08476238606833539, 0.08476238239961158, 0.08476237878156967, 0.08476237521350946, 0.08476237169474059, 0.08476236822458195, 0.08476236480236221, 0.08476236142741897, 0.0847623580990992, 0.0847623548167587, 0.08476235157976243, 0.08476234838748396, 0.08476234523930548, 0.08476234213461771, 0.08476233907281996, 0.08476233605331966, 0.08476233307553249, 0.08476233013888222, 0.0847623272428006, 0.0847623243867271, 0.08476232157010913, 0.08476231879240148, 0.08476231605306675, 0.08476231335157479, 0.0847623106874028, 0.08476230806003521, 0.08476230546896367, 0.08476230291368667, 0.0847623003937098, 0.08476229790854538, 0.0847622954577124, 0.08476229304073671, 0.08476229065715053, 0.08476228830649257, 0.08476228598830804, 0.08476228370214818, 0.08476228144757071, 0.08476227922413931, 0.0847622770314237, 0.08476227486899957, 0.08476227273644835, 0.08476227063335742, 0.08476226855931988, 0.08476226651393431, 0.08476226449680492, 0.08476226250754125, 0.08476226054575854, 0.08476225861107693, 0.08476225670312218, 0.08476225482152508, 0.08476225296592134, 0.08476225113595215, 0.08476224933126318, 0.08476224755150516, 0.08476224579633382, 0.08476224406540935, 0.08476224235839704, 0.0847622406749663, 0.0847622390147915, 0.08476223737755134, 0.08476223576292893, 0.08476223417061181, 0.0847622326002919, 0.08476223105166543, 0.08476222952443248, 0.08476222801829766, 0.08476222653296948, 0.08476222506816039, 0.08476222362358715, 0.08476222219897003, 0.08476222079403345, 0.08476221940850542, 0.08476221804211793, 0.08476221669460651, 0.08476221536571046, 0.08476221405517245, 0.08476221276273903, 0.08476221148816002, 0.08476221023118878, 0.0847622089915821, 0.08476220776910008, 0.08476220656350617, 0.08476220537456693, 0.08476220420205244, 0.08476220304573583, 0.08476220190539316, 0.0847622007808039, 0.08476219967175039, 0.0847621985780179, 0.08476219749939498, 0.08476219643567273, 0.0847621953866454, 0.08476219435210992, 0.08476219333186609, 0.0847621923257165, 0.08476219133346652, 0.08476219035492401, 0.08476218938989963, 0.08476218843820668, 0.08476218749966107, 0.08476218657408095, 0.0847621856612874, 0.08476218476110368, 0.08476218387335564, 0.08476218299787151, 0.08476218213448176, 0.08476218128301945, 0.08476218044331968, 0.08476217961522002, 0.08476217879856023, 0.08476217799318225, 0.08476217719893024, 0.0847621764156505, 0.08476217564319141, 0.08476217488140353, 0.08476217413013946, 0.0847621733892538, 0.08476217265860314, 0.08476217193804607, 0.08476217122744327, 0.0847621705266571, 0.08476216983555204, 0.08476216915399437, 0.08476216848185196, 0.0847621678189951, 0.08476216716529522, 0.08476216652062599, 0.08476216588486256, 0.08476216525788197, 0.08476216463956286, 0.08476216402978556, 0.08476216342843201, 0.08476216283538598, 0.08476216225053265, 0.08476216167375882, 0.0847621611049528, 0.0847621605440047, 0.0847621599908058, 0.08476215944524912, 0.08476215890722905, 0.08476215837664162, 0.08476215785338395, 0.0847621573373549, 0.08476215682845455, 0.08476215632658439, 0.08476215583164753, 0.08476215534354786, 0.08476215486219119, 0.08476215438748418, 0.08476215391933506, 0.08476215345765327, 0.08476215300234942, 0.08476215255333536, 0.08476215211052422, 0.0847621516738304, 0.08476215124316931, 0.08476215081845764, 0.0847621503996131, 0.08476214998655479, 0.0847621495792027, 0.08476214917747801, 0.08476214878130298, 0.08476214839060094, 0.0847621480052963, 0.08476214762531444, 0.08476214725058188, 0.0847621468810261, 0.08476214651657565, 0.08476214615715988, 0.0847621458027093, 0.0847621454531553, 0.08476214510843022, 0.08476214476846737, 0.084762144433201, 0.0847621441025662, 0.08476214377649892, 0.08476214345493617, 0.0847621431378157, 0.0847621428250761, 0.08476214251665687, 0.08476214221249836, 0.08476214191254158, 0.08476214161672863, 0.0847621413250022, 0.08476214103730588, 0.08476214075358392, 0.08476214047378154, 0.08476214019784445, 0.08476213992571935, 0.08476213965735348, 0.08476213939269503, 0.08476213913169267, 0.08476213887429603, 0.0847621386204552, 0.084762138370121, 0.08476213812324511, 0.08476213787977978, 0.08476213763967771, 0.08476213740289257, 0.08476213716937857, 0.08476213693909046, 0.08476213671198368, 0.0847621364880143, 0.08476213626713885, 0.0847621360493148, 0.08476213583449992, 0.08476213562265256, 0.08476213541373183, 0.08476213520769724, 0.08476213500450892, 0.08476213480412759, 0.0847621346065144, 0.08476213441163118, 0.0847621342194402, 0.08476213402990423, 0.08476213384298664, 0.0847621336586512, 0.08476213347686233, 0.08476213329758484, 0.0847621331207839, 0.08476213294642543, 0.08476213277447567, 0.08476213260490133, 0.08476213243766954, 0.08476213227274794, 0.08476213211010475, 0.08476213194970846, 0.08476213179152788, 0.08476213163553249, 0.0847621314816922, 0.08476213132997708, 0.08476213118035789, 0.08476213103280555, 0.08476213088729156, 0.08476213074378797, 0.0847621306022667, 0.08476213046270048, 0.08476213032506232, 0.08476213018932556, 0.08476213005546394, 0.08476212992345163, 0.084762129793263, 0.08476212966487283, 0.08476212953825633, 0.08476212941338894, 0.08476212929024664, 0.08476212916880549, 0.08476212904904191, 0.08476212893093285, 0.08476212881445548, 0.08476212869958707, 0.08476212858630561, 0.08476212847458912, 0.0847621283644158, 0.08476212825576467, 0.08476212814861443, 0.08476212804294436, 0.08476212793873411, 0.08476212783596353, 0.08476212773461263, 0.08476212763466189, 0.08476212753609196, 0.08476212743888366, 0.08476212734301825, 0.08476212724847723, 0.08476212715524221, 0.08476212706329524, 0.08476212697261847, 0.0847621268831943, 0.08476212679500555, 0.0847621267080351, 0.08476212662226608, 0.08476212653768195, 0.08476212645426626, 0.08476212637200296, 0.08476212629087612, 0.08476212621086997, 0.08476212613196907, 0.08476212605415817, 0.08476212597742223, 0.08476212590174625, 0.08476212582711586, 0.08476212575351642, 0.08476212568093365, 0.08476212560935364, 0.08476212553876246, 0.08476212546914645, 0.08476212540049216, 0.0847621253327863, 0.08476212526601579, 0.08476212520016771, 0.08476212513522924, 0.08476212507118787, 0.08476212500803122, 0.08476212494574709, 0.08476212488432329, 0.08476212482374818, 0.08476212476400975, 0.08476212470509667, 0.08476212464699737, 0.08476212458970078, 0.08476212453319562, 0.08476212447747114, 0.0847621244225165, 0.08476212436832091, 0.08476212431487412, 0.08476212426216559, 0.08476212421018532, 0.08476212415892306, 0.08476212410836893, 0.08476212405851323, 0.08476212400934624, 0.08476212396085855, 0.08476212391304064, 0.08476212386588326, 0.08476212381937746, 0.08476212377351403, 0.0847621237282842, 0.08476212368367919, 0.0847621236396904, 0.08476212359630933, 0.08476212355352754, 0.0847621235113367, 0.08476212346972874, 0.08476212342869557, 0.08476212338822928, 0.08476212334832198, 0.08476212330896604, 0.08476212327015377, 0.08476212323187766, 0.08476212319413029, 0.08476212315690444, 0.08476212312019282, 0.08476212308398834, 0.08476212304828407, 0.084762123013073, 0.08476212297834829, 0.0847621229441034, 0.08476212291033151, 0.08476212287702622, 0.084762122844181, 0.0847621228117895, 0.08476212277984553, 0.08476212274834281, 0.08476212271727525, 0.08476212268663702, 0.08476212265642191, 0.08476212262662428, 0.08476212259723823, 0.08476212256825821, 0.08476212253967846, 0.08476212251149358, 0.084762122483698, 0.08476212245628649, 0.08476212242925364, 0.08476212240259424, 0.08476212237630308, 0.08476212235037511, 0.08476212232480541, 0.08476212229958888, 0.0847621222747207, 0.08476212225019614, 0.08476212222601022, 0.08476212220215858, 0.08476212217863635, 0.0847621221554391, 0.08476212213256235, 0.08476212211000156, 0.08476212208775252, 0.0847621220658108, 0.0847621220441721, 0.08476212202283248, 0.08476212200178761, 0.08476212198103342, 0.08476212196056604, 0.08476212194038127, 0.08476212192047546, 0.08476212190084459, 0.08476212188148487, 0.08476212186239268, 0.0847621218435642, 0.0847621218249958, 0.08476212180668398, 0.08476212178862508, 0.08476212177081571, 0.08476212175325229, 0.08476212173593162, 0.08476212171885011, 0.0847621217020046, 0.08476212168539186, 0.08476212166900858, 0.08476212165285162, 0.08476212163691782, 0.08476212162120421, 0.08476212160570767, 0.08476212159042511, 0.08476212157535379, 0.08476212156049065, 0.08476212154583283, 0.08476212153137748, 0.08476212151712187, 0.08476212150306317, 0.08476212148919866, 0.0847621214755257, 0.08476212146204165, 0.08476212144874382, 0.08476212143562979, 0.08476212142269686, 0.08476212140994262, 0.08476212139736453, 0.0847621213849602, 0.08476212137272726, 0.08476212136066331, 0.08476212134876607, 0.08476212133703315, 0.08476212132546221, 0.08476212131405121, 0.0847621213027979, 0.0847621212917, 0.08476212128075536, 0.08476212126996194, 0.0847621212593177, 0.08476212124882039, 0.08476212123846821, 0.08476212122825899, 0.0847621212181908, 0.08476212120826174, 0.08476212119846976, 0.08476212118881317, 0.08476212117928993, 0.0847621211698982, 0.08476212116063626, 0.08476212115150228, 0.0847621211424944, 0.08476212113361106, 0.08476212112485033, 0.08476212111621072, 0.08476212110769041, 0.08476212109928788, 0.0847621210910014, 0.0847621210828294, 0.08476212107477023, 0.08476212106682242, 0.08476212105898441, 0.08476212105125469, 0.0847621210436318, 0.08476212103611415, 0.08476212102870039, 0.084762121021389, 0.08476212101417863, 0.08476212100706791, 0.08476212100005535, 0.08476212099313975, 0.08476212098631956, 0.08476212097959374, 0.08476212097296079, 0.08476212096641939, 0.08476212095996848, 0.08476212095360655, 0.08476212094733265, 0.08476212094114527, 0.08476212093504346, 0.08476212092902598, 0.08476212092309156, 0.08476212091723913, 0.08476212091146752, 0.0847621209057757, 0.08476212090016245, 0.08476212089462687, 0.08476212088916762, 0.08476212088378392, 0.08476212087847446, 0.08476212087323846, 0.08476212086807468, 0.08476212086298231, 0.08476212085796028, 0.08476212085300754, 0.08476212084812337, 0.08476212084330666, 0.08476212083855637, 0.08476212083387182, 0.0847621208292519, 0.08476212082469582, 0.08476212082020272, 0.08476212081577168, 0.08476212081140179, 0.08476212080709235, 0.08476212080284244, 0.08476212079865117, 0.08476212079451786, 0.08476212079044164, 0.08476212078642169, 0.08476212078245733, 0.08476212077854767, 0.08476212077469211, 0.08476212077088985, 0.08476212076713997, 0.08476212076344193, 0.084762120759795, 0.08476212075619846, 0.08476212075265162, 0.08476212074915375, 0.08476212074570412, 0.08476212074230234, 0.08476212073894746, 0.08476212073563887, 0.08476212073237599, 0.08476212072915829, 0.08476212072598491, 0.08476212072285545, 0.08476212071976928, 0.08476212071672565, 0.0847621207137241, 0.084762120710764, 0.0847621207078448, 0.08476212070496589, 0.08476212070212677, 0.08476212069932691, 0.08476212069656572, 0.08476212069384266, 0.08476212069115721, 0.08476212068850884, 0.08476212068589707, 0.0847621206833214, 0.08476212068078132, 0.0847621206782763, 0.08476212067580592, 0.0847621206733697, 0.08476212067096701, 0.08476212066859758, 0.08476212066626097, 0.08476212066395653, 0.08476212066168394, 0.08476212065944276, 0.08476212065723254, 0.08476212065505283, 0.08476212065290328, 0.0847621206507834, 0.08476212064869275, 0.08476212064663108, 0.08476212064459783, 0.0847621206425927, 0.08476212064061522, 0.0847621206386651, 0.08476212063674193, 0.08476212063484534, 0.08476212063297486, 0.08476212063113034, 0.0847621206293113, 0.08476212062751724, 0.084762120625748, 0.08476212062400332, 0.08476212062228267, 0.0847621206205858, 0.08476212061891239, 0.0847621206172621, 0.08476212061563457, 0.08476212061402952, 0.08476212061244666, 0.08476212061088564, 0.08476212060934626, 0.0847621206078281, 0.08476212060633094, 0.08476212060485436, 0.08476212060339833, 0.08476212060196228, 0.08476212060054618, 0.08476212059914957, 0.08476212059777227, 0.08476212059641403, 0.08476212059507444, 0.08476212059375347, 0.08476212059245071, 0.08476212059116602, 0.08476212058989897, 0.08476212058864949, 0.08476212058741726, 0.08476212058620203, 0.08476212058500363, 0.08476212058382168, 0.08476212058265617, 0.08476212058150673, 0.08476212058037313, 0.0847621205792552, 0.0847621205781528, 0.08476212057706556, 0.08476212057599333, 0.0847621205749359, 0.0847621205738931, 0.08476212057286478, 0.08476212057185054, 0.08476212057085039, 0.08476212056986407, 0.0847621205688913, 0.084762120567932, 0.08476212056698598, 0.084762120566053, 0.08476212056513288, 0.08476212056422554, 0.08476212056333071, 0.08476212056244826, 0.08476212056157797, 0.08476212056071968, 0.08476212055987327, 0.08476212055903856, 0.08476212055821537, 0.0847621205574036, 0.08476212055660305, 0.0847621205558135, 0.08476212055503479, 0.08476212055426696, 0.0847621205535097, 0.08476212055276293, 0.08476212055202646, 0.08476212055130014, 0.08476212055058388, 0.08476212054987745, 0.08476212054918086, 0.08476212054849387, 0.08476212054781632, 0.08476212054714814, 0.08476212054648928, 0.08476212054583948, 0.08476212054519866, 0.0847621205445666, 0.08476212054394339, 0.08476212054332873, 0.08476212054272256, 0.08476212054212477, 0.0847621205415353, 0.0847621205409539, 0.08476212054038054, 0.08476212053981513, 0.0847621205392575, 0.08476212053870764, 0.0847621205381653, 0.08476212053763044, 0.08476212053710301, 0.0847621205365829, 0.0847621205360699, 0.084762120535564, 0.08476212053506511, 0.08476212053457319, 0.08476212053408794, 0.08476212053360949, 0.08476212053313759, 0.08476212053267215, 0.08476212053221324, 0.08476212053176069, 0.08476212053131432, 0.08476212053087413, 0.08476212053044004, 0.08476212053001199, 0.08476212052958973, 0.0847621205291734, 0.0847621205287628, 0.0847621205283579, 0.08476212052795853, 0.08476212052756468, 0.08476212052717631, 0.08476212052679331, 0.0847621205264156, 0.08476212052604305, 0.08476212052567568, 0.08476212052531341, 0.08476212052495619, 0.08476212052460377, 0.08476212052425634, 0.08476212052391369, 0.08476212052357569, 0.08476212052324243, 0.0847621205229138, 0.08476212052258952, 0.08476212052227002, 0.08476212052195473, 0.08476212052164382, 0.08476212052133728, 0.08476212052103489, 0.08476212052073671, 0.08476212052044266, 0.08476212052015265, 0.08476212051986672, 0.08476212051958462, 0.08476212051930648, 0.08476212051903223, 0.08476212051876172, 0.084762120518495, 0.08476212051823186, 0.08476212051797244, 0.08476212051771653, 0.0847621205174642, 0.08476212051721536, 0.08476212051696995, 0.08476212051672789, 0.08476212051648925, 0.08476212051625387, 0.08476212051602179, 0.08476212051579282, 0.08476212051556706, 0.08476212051534439, 0.08476212051512487, 0.08476212051490835, 0.0847621205146948, 0.08476212051448422, 0.08476212051427653, 0.08476212051407168, 0.08476212051386973, 0.08476212051367055, 0.0847621205134741, 0.08476212051328037, 0.08476212051308935, 0.08476212051290094, 0.08476212051271513, 0.08476212051253189, 0.08476212051235116, 0.08476212051217295, 0.08476212051199722, 0.08476212051182391, 0.08476212051165298, 0.08476212051148443, 0.08476212051131819, 0.08476212051115425, 0.08476212051099256, 0.08476212051083308, 0.08476212051067587, 0.08476212051052079, 0.08476212051036786, 0.08476212051021709, 0.08476212051006833, 0.08476212050992171, 0.08476212050977702, 0.08476212050963436, 0.08476212050949367, 0.0847621205093549, 0.0847621205092181, 0.08476212050908322, 0.08476212050895017, 0.08476212050881889, 0.08476212050868946, 0.08476212050856186, 0.084762120508436, 0.08476212050831183, 0.08476212050818949, 0.08476212050806868, 0.0847621205079497, 0.08476212050783227, 0.08476212050771645, 0.0847621205076023, 0.08476212050748969, 0.08476212050737857, 0.08476212050726913, 0.0847621205071611, 0.08476212050705462, 0.08476212050694958, 0.08476212050684592, 0.08476212050674381, 0.08476212050664307, 0.08476212050654369, 0.08476212050644572, 0.08476212050634907, 0.08476212050625379, 0.08476212050615978, 0.08476212050606712, 0.08476212050597576, 0.0847621205058856, 0.0847621205057967, 0.08476212050570905, 0.08476212050562258, 0.08476212050553732, 0.08476212050545323, 0.0847621205053703, 0.08476212050528853, 0.0847621205052079, 0.08476212050512834, 0.08476212050504993, 0.08476212050497256, 0.08476212050489629, 0.0847621205048211, 0.08476212050474688, 0.08476212050467373, 0.08476212050460155, 0.0847621205045304, 0.08476212050446032, 0.08476212050439097, 0.08476212050432286, 0.08476212050425551, 0.08476212050418916, 0.08476212050412364, 0.08476212050405912, 0.08476212050399543, 0.08476212050393267, 0.08476212050387077, 0.08476212050380967, 0.08476212050374948, 0.0847621205036901, 0.08476212050363151, 0.08476212050357379, 0.08476212050351684, 0.08476212050346066, 0.08476212050340523, 0.08476212050335065, 0.08476212050329679, 0.08476212050324362, 0.08476212050319126, 0.08476212050313958, 0.08476212050308857, 0.08476212050303833, 0.08476212050298879, 0.08476212050293991, 0.08476212050289178, 0.08476212050284415, 0.08476212050279727, 0.08476212050275109, 0.08476212050270548, 0.08476212050266049, 0.0847621205026162, 0.08476212050257242, 0.08476212050252933, 0.08476212050248678, 0.08476212050244487, 0.08476212050240348, 0.0847621205023627, 0.08476212050232249, 0.08476212050228278, 0.08476212050224369, 0.0847621205022051, 0.0847621205021671, 0.08476212050212954, 0.0847621205020925, 0.08476212050205606, 0.08476212050202006, 0.08476212050198459, 0.08476212050194959, 0.08476212050191505, 0.08476212050188098, 0.08476212050184741, 0.08476212050181431, 0.08476212050178165, 0.08476212050174946, 0.0847621205017177, 0.08476212050168645, 0.08476212050165552, 0.08476212050162506, 0.08476212050159501, 0.08476212050156536, 0.0847621205015362, 0.0847621205015074, 0.08476212050147898, 0.08476212050145097, 0.08476212050142339, 0.08476212050139609, 0.08476212050136919, 0.08476212050134273, 0.0847621205013166, 0.0847621205012908, 0.08476212050126535, 0.08476212050124037, 0.08476212050121557, 0.0847621205011912, 0.08476212050116716, 0.08476212050114347, 0.08476212050112014, 0.08476212050109702, 0.08476212050107429, 0.08476212050105185, 0.08476212050102974, 0.08476212050100791, 0.08476212050098648, 0.0847621205009652, 0.08476212050094427, 0.08476212050092365, 0.08476212050090329, 0.08476212050088325, 0.08476212050086347, 0.08476212050084393, 0.08476212050082467, 0.08476212050080573, 0.08476212050078699, 0.08476212050076855, 0.08476212050075031, 0.0847621205007324, 0.08476212050071467, 0.08476212050069723, 0.08476212050068009, 0.08476212050066302, 0.08476212050064628, 0.08476212050062976, 0.0847621205006135, 0.0847621205005974, 0.08476212050058157, 0.08476212050056596, 0.0847621205005506, 0.08476212050053539, 0.08476212050052036, 0.08476212050050562, 0.084762120500491, 0.08476212050047664, 0.08476212050046249, 0.0847621205004485, 0.08476212050043476, 0.08476212050042113, 0.08476212050040777, 0.08476212050039456, 0.08476212050038148, 0.08476212050036866, 0.08476212050035598, 0.08476212050034343, 0.08476212050033105, 0.08476212050031895, 0.08476212050030695, 0.08476212050029516, 0.08476212050028348, 0.08476212050027197, 0.08476212050026058, 0.08476212050024948, 0.0847621205002384, 0.08476212050022754, 0.08476212050021684, 0.08476212050020619, 0.08476212050019577, 0.0847621205001855, 0.08476212050017534, 0.08476212050016532, 0.0847621205001555, 0.08476212050014574, 0.0847621205001361, 0.08476212050012664, 0.08476212050011733, 0.08476212050010816, 0.08476212050009903, 0.08476212050009012, 0.08476212050008129, 0.08476212050007254, 0.08476212050006396, 0.08476212050005552, 0.0847621205000471, 0.08476212050003891, 0.08476212050003079, 0.08476212050002278, 0.08476212050001491, 0.08476212050000713]}],\n",
              "                        {\"template\": {\"data\": {\"bar\": [{\"error_x\": {\"color\": \"#2a3f5f\"}, \"error_y\": {\"color\": \"#2a3f5f\"}, \"marker\": {\"line\": {\"color\": \"#E5ECF6\", \"width\": 0.5}}, \"type\": \"bar\"}], \"barpolar\": [{\"marker\": {\"line\": {\"color\": \"#E5ECF6\", \"width\": 0.5}}, \"type\": \"barpolar\"}], \"carpet\": [{\"aaxis\": {\"endlinecolor\": \"#2a3f5f\", \"gridcolor\": \"white\", \"linecolor\": \"white\", \"minorgridcolor\": \"white\", \"startlinecolor\": \"#2a3f5f\"}, \"baxis\": {\"endlinecolor\": \"#2a3f5f\", \"gridcolor\": \"white\", \"linecolor\": \"white\", \"minorgridcolor\": \"white\", \"startlinecolor\": \"#2a3f5f\"}, \"type\": \"carpet\"}], \"choropleth\": [{\"colorbar\": {\"outlinewidth\": 0, \"ticks\": \"\"}, \"type\": \"choropleth\"}], \"contour\": [{\"colorbar\": {\"outlinewidth\": 0, \"ticks\": \"\"}, \"colorscale\": [[0.0, \"#0d0887\"], [0.1111111111111111, \"#46039f\"], [0.2222222222222222, \"#7201a8\"], [0.3333333333333333, \"#9c179e\"], [0.4444444444444444, \"#bd3786\"], [0.5555555555555556, \"#d8576b\"], [0.6666666666666666, \"#ed7953\"], [0.7777777777777778, \"#fb9f3a\"], [0.8888888888888888, \"#fdca26\"], [1.0, \"#f0f921\"]], \"type\": \"contour\"}], \"contourcarpet\": [{\"colorbar\": {\"outlinewidth\": 0, \"ticks\": \"\"}, \"type\": \"contourcarpet\"}], \"heatmap\": [{\"colorbar\": {\"outlinewidth\": 0, \"ticks\": \"\"}, \"colorscale\": [[0.0, \"#0d0887\"], [0.1111111111111111, \"#46039f\"], [0.2222222222222222, \"#7201a8\"], [0.3333333333333333, \"#9c179e\"], [0.4444444444444444, \"#bd3786\"], [0.5555555555555556, \"#d8576b\"], [0.6666666666666666, \"#ed7953\"], [0.7777777777777778, \"#fb9f3a\"], [0.8888888888888888, \"#fdca26\"], [1.0, \"#f0f921\"]], \"type\": \"heatmap\"}], \"heatmapgl\": [{\"colorbar\": {\"outlinewidth\": 0, \"ticks\": \"\"}, \"colorscale\": [[0.0, \"#0d0887\"], [0.1111111111111111, \"#46039f\"], [0.2222222222222222, \"#7201a8\"], [0.3333333333333333, \"#9c179e\"], [0.4444444444444444, \"#bd3786\"], [0.5555555555555556, \"#d8576b\"], [0.6666666666666666, \"#ed7953\"], [0.7777777777777778, \"#fb9f3a\"], [0.8888888888888888, \"#fdca26\"], [1.0, \"#f0f921\"]], \"type\": \"heatmapgl\"}], \"histogram\": [{\"marker\": {\"colorbar\": {\"outlinewidth\": 0, \"ticks\": \"\"}}, \"type\": \"histogram\"}], \"histogram2d\": [{\"colorbar\": {\"outlinewidth\": 0, \"ticks\": \"\"}, \"colorscale\": [[0.0, \"#0d0887\"], [0.1111111111111111, \"#46039f\"], [0.2222222222222222, \"#7201a8\"], [0.3333333333333333, \"#9c179e\"], [0.4444444444444444, \"#bd3786\"], [0.5555555555555556, \"#d8576b\"], [0.6666666666666666, \"#ed7953\"], [0.7777777777777778, \"#fb9f3a\"], [0.8888888888888888, \"#fdca26\"], [1.0, \"#f0f921\"]], \"type\": \"histogram2d\"}], \"histogram2dcontour\": [{\"colorbar\": {\"outlinewidth\": 0, \"ticks\": \"\"}, \"colorscale\": [[0.0, \"#0d0887\"], [0.1111111111111111, \"#46039f\"], [0.2222222222222222, \"#7201a8\"], [0.3333333333333333, \"#9c179e\"], [0.4444444444444444, \"#bd3786\"], [0.5555555555555556, \"#d8576b\"], [0.6666666666666666, \"#ed7953\"], [0.7777777777777778, \"#fb9f3a\"], [0.8888888888888888, \"#fdca26\"], [1.0, \"#f0f921\"]], \"type\": \"histogram2dcontour\"}], \"mesh3d\": [{\"colorbar\": {\"outlinewidth\": 0, \"ticks\": \"\"}, \"type\": \"mesh3d\"}], \"parcoords\": [{\"line\": {\"colorbar\": {\"outlinewidth\": 0, \"ticks\": \"\"}}, \"type\": \"parcoords\"}], \"pie\": [{\"automargin\": true, \"type\": \"pie\"}], \"scatter\": [{\"marker\": {\"colorbar\": {\"outlinewidth\": 0, \"ticks\": \"\"}}, \"type\": \"scatter\"}], \"scatter3d\": [{\"line\": {\"colorbar\": {\"outlinewidth\": 0, \"ticks\": \"\"}}, \"marker\": {\"colorbar\": {\"outlinewidth\": 0, \"ticks\": \"\"}}, \"type\": \"scatter3d\"}], \"scattercarpet\": [{\"marker\": {\"colorbar\": {\"outlinewidth\": 0, \"ticks\": \"\"}}, \"type\": \"scattercarpet\"}], \"scattergeo\": [{\"marker\": {\"colorbar\": {\"outlinewidth\": 0, \"ticks\": \"\"}}, \"type\": \"scattergeo\"}], \"scattergl\": [{\"marker\": {\"colorbar\": {\"outlinewidth\": 0, \"ticks\": \"\"}}, \"type\": \"scattergl\"}], \"scattermapbox\": [{\"marker\": {\"colorbar\": {\"outlinewidth\": 0, \"ticks\": \"\"}}, \"type\": \"scattermapbox\"}], \"scatterpolar\": [{\"marker\": {\"colorbar\": {\"outlinewidth\": 0, \"ticks\": \"\"}}, \"type\": \"scatterpolar\"}], \"scatterpolargl\": [{\"marker\": {\"colorbar\": {\"outlinewidth\": 0, \"ticks\": \"\"}}, \"type\": \"scatterpolargl\"}], \"scatterternary\": [{\"marker\": {\"colorbar\": {\"outlinewidth\": 0, \"ticks\": \"\"}}, \"type\": \"scatterternary\"}], \"surface\": [{\"colorbar\": {\"outlinewidth\": 0, \"ticks\": \"\"}, \"colorscale\": [[0.0, \"#0d0887\"], [0.1111111111111111, \"#46039f\"], [0.2222222222222222, \"#7201a8\"], [0.3333333333333333, \"#9c179e\"], [0.4444444444444444, \"#bd3786\"], [0.5555555555555556, \"#d8576b\"], [0.6666666666666666, \"#ed7953\"], [0.7777777777777778, \"#fb9f3a\"], [0.8888888888888888, \"#fdca26\"], [1.0, \"#f0f921\"]], \"type\": \"surface\"}], \"table\": [{\"cells\": {\"fill\": {\"color\": \"#EBF0F8\"}, \"line\": {\"color\": \"white\"}}, \"header\": {\"fill\": {\"color\": \"#C8D4E3\"}, \"line\": {\"color\": \"white\"}}, \"type\": \"table\"}]}, \"layout\": {\"annotationdefaults\": {\"arrowcolor\": \"#2a3f5f\", \"arrowhead\": 0, \"arrowwidth\": 1}, \"coloraxis\": {\"colorbar\": {\"outlinewidth\": 0, \"ticks\": \"\"}}, \"colorscale\": {\"diverging\": [[0, \"#8e0152\"], [0.1, \"#c51b7d\"], [0.2, \"#de77ae\"], [0.3, \"#f1b6da\"], [0.4, \"#fde0ef\"], [0.5, \"#f7f7f7\"], [0.6, \"#e6f5d0\"], [0.7, \"#b8e186\"], [0.8, \"#7fbc41\"], [0.9, \"#4d9221\"], [1, \"#276419\"]], \"sequential\": [[0.0, \"#0d0887\"], [0.1111111111111111, \"#46039f\"], [0.2222222222222222, \"#7201a8\"], [0.3333333333333333, \"#9c179e\"], [0.4444444444444444, \"#bd3786\"], [0.5555555555555556, \"#d8576b\"], [0.6666666666666666, \"#ed7953\"], [0.7777777777777778, \"#fb9f3a\"], [0.8888888888888888, \"#fdca26\"], [1.0, \"#f0f921\"]], \"sequentialminus\": [[0.0, \"#0d0887\"], [0.1111111111111111, \"#46039f\"], [0.2222222222222222, \"#7201a8\"], [0.3333333333333333, \"#9c179e\"], [0.4444444444444444, \"#bd3786\"], [0.5555555555555556, \"#d8576b\"], [0.6666666666666666, \"#ed7953\"], [0.7777777777777778, \"#fb9f3a\"], [0.8888888888888888, \"#fdca26\"], [1.0, \"#f0f921\"]]}, \"colorway\": [\"#636efa\", \"#EF553B\", \"#00cc96\", \"#ab63fa\", \"#FFA15A\", \"#19d3f3\", \"#FF6692\", \"#B6E880\", \"#FF97FF\", \"#FECB52\"], \"font\": {\"color\": \"#2a3f5f\"}, \"geo\": {\"bgcolor\": \"white\", \"lakecolor\": \"white\", \"landcolor\": \"#E5ECF6\", \"showlakes\": true, \"showland\": true, \"subunitcolor\": \"white\"}, \"hoverlabel\": {\"align\": \"left\"}, \"hovermode\": \"closest\", \"mapbox\": {\"style\": \"light\"}, \"paper_bgcolor\": \"white\", \"plot_bgcolor\": \"#E5ECF6\", \"polar\": {\"angularaxis\": {\"gridcolor\": \"white\", \"linecolor\": \"white\", \"ticks\": \"\"}, \"bgcolor\": \"#E5ECF6\", \"radialaxis\": {\"gridcolor\": \"white\", \"linecolor\": \"white\", \"ticks\": \"\"}}, \"scene\": {\"xaxis\": {\"backgroundcolor\": \"#E5ECF6\", \"gridcolor\": \"white\", \"gridwidth\": 2, \"linecolor\": \"white\", \"showbackground\": true, \"ticks\": \"\", \"zerolinecolor\": \"white\"}, \"yaxis\": {\"backgroundcolor\": \"#E5ECF6\", \"gridcolor\": \"white\", \"gridwidth\": 2, \"linecolor\": \"white\", \"showbackground\": true, \"ticks\": \"\", \"zerolinecolor\": \"white\"}, \"zaxis\": {\"backgroundcolor\": \"#E5ECF6\", \"gridcolor\": \"white\", \"gridwidth\": 2, \"linecolor\": \"white\", \"showbackground\": true, \"ticks\": \"\", \"zerolinecolor\": \"white\"}}, \"shapedefaults\": {\"line\": {\"color\": \"#2a3f5f\"}}, \"ternary\": {\"aaxis\": {\"gridcolor\": \"white\", \"linecolor\": \"white\", \"ticks\": \"\"}, \"baxis\": {\"gridcolor\": \"white\", \"linecolor\": \"white\", \"ticks\": \"\"}, \"bgcolor\": \"#E5ECF6\", \"caxis\": {\"gridcolor\": \"white\", \"linecolor\": \"white\", \"ticks\": \"\"}}, \"title\": {\"x\": 0.05}, \"xaxis\": {\"automargin\": true, \"gridcolor\": \"white\", \"linecolor\": \"white\", \"ticks\": \"\", \"title\": {\"standoff\": 15}, \"zerolinecolor\": \"white\", \"zerolinewidth\": 2}, \"yaxis\": {\"automargin\": true, \"gridcolor\": \"white\", \"linecolor\": \"white\", \"ticks\": \"\", \"title\": {\"standoff\": 15}, \"zerolinecolor\": \"white\", \"zerolinewidth\": 2}}}, \"title\": {\"text\": \"Evolution of the training loss\"}, \"xaxis\": {\"title\": {\"text\": \"# Iteration\"}}, \"yaxis\": {\"title\": {\"text\": \"Training loss\"}}},\n",
              "                        {\"responsive\": true}\n",
              "                    ).then(function(){\n",
              "                            \n",
              "var gd = document.getElementById('ecc841eb-f1b4-4ef4-b644-56e2d254d263');\n",
              "var x = new MutationObserver(function (mutations, observer) {{\n",
              "        var display = window.getComputedStyle(gd).display;\n",
              "        if (!display || display === 'none') {{\n",
              "            console.log([gd, 'removed!']);\n",
              "            Plotly.purge(gd);\n",
              "            observer.disconnect();\n",
              "        }}\n",
              "}});\n",
              "\n",
              "// Listen for the removal of the full notebook cells\n",
              "var notebookContainer = gd.closest('#notebook-container');\n",
              "if (notebookContainer) {{\n",
              "    x.observe(notebookContainer, {childList: true});\n",
              "}}\n",
              "\n",
              "// Listen for the clearing of the current output cell\n",
              "var outputEl = gd.closest('.output');\n",
              "if (outputEl) {{\n",
              "    x.observe(outputEl, {childList: true});\n",
              "}}\n",
              "\n",
              "                        })\n",
              "                };\n",
              "                \n",
              "            </script>\n",
              "        </div>\n",
              "</body>\n",
              "</html>"
            ]
          },
          "metadata": {
            "tags": []
          }
        }
      ]
    },
    {
      "cell_type": "markdown",
      "metadata": {
        "id": "GXwXjbSmiyG5"
      },
      "source": [
        "The estimated values are not very far off the real values we used in the beginning. This is good news. Let's also plot the estimated polynomial to double check."
      ]
    },
    {
      "cell_type": "code",
      "metadata": {
        "id": "qr5NkigziyG5",
        "colab": {
          "base_uri": "https://localhost:8080/",
          "height": 542
        },
        "outputId": "75f6c12d-4813-483c-82ce-be710be04e93"
      },
      "source": [
        "# Plot the result\n",
        "x = np.arange(-2, 2, 0.1)\n",
        "\n",
        "fig = go.Figure()\n",
        "fig.add_trace(go.Scatter(x = XX, y = YY, mode = 'markers', name = 'Trainng set'))\n",
        "fig.add_trace(go.Scatter(x = x, y = w0.value + w1.value * x + w2.value * x**2, mode = 'lines', name = 'Predicted values'))\n",
        "fig.update_layout(title = 'Our fit values')\n",
        "fig.show()"
      ],
      "execution_count": 58,
      "outputs": [
        {
          "output_type": "display_data",
          "data": {
            "text/html": [
              "<html>\n",
              "<head><meta charset=\"utf-8\" /></head>\n",
              "<body>\n",
              "    <div>\n",
              "            <script src=\"https://cdnjs.cloudflare.com/ajax/libs/mathjax/2.7.5/MathJax.js?config=TeX-AMS-MML_SVG\"></script><script type=\"text/javascript\">if (window.MathJax) {MathJax.Hub.Config({SVG: {font: \"STIX-Web\"}});}</script>\n",
              "                <script type=\"text/javascript\">window.PlotlyConfig = {MathJaxConfig: 'local'};</script>\n",
              "        <script src=\"https://cdn.plot.ly/plotly-latest.min.js\"></script>    \n",
              "            <div id=\"d56b0077-d146-4feb-a3fa-4406f4b02654\" class=\"plotly-graph-div\" style=\"height:525px; width:100%;\"></div>\n",
              "            <script type=\"text/javascript\">\n",
              "                \n",
              "                    window.PLOTLYENV=window.PLOTLYENV || {};\n",
              "                    \n",
              "                if (document.getElementById(\"d56b0077-d146-4feb-a3fa-4406f4b02654\")) {\n",
              "                    Plotly.newPlot(\n",
              "                        'd56b0077-d146-4feb-a3fa-4406f4b02654',\n",
              "                        [{\"mode\": \"markers\", \"name\": \"Trainng set\", \"type\": \"scatter\", \"x\": [-1.2691276006480523, -0.07428700615268546, 1.4508134972120104, -1.5453516627046247, -1.4343535265914271, -1.338957116635834, -0.5891223102920158, 0.5115539412658743, -1.0171755437463141, 1.4952405897963885, -1.3875974128310848, 0.7772578111040827, 1.8913752447409262, 1.083103518326971, -0.716293226564324, 1.3924153351191895, -0.9020845946104847, 1.5632192322312788, -1.8943222086211482, -1.890740415050113, 0.7460240625521095, -1.2678537049547134, 0.315941508052497, 0.4277828974986835, 1.3340429946299683, 0.5612638598068118, 0.14204019924674505, 0.6470231946302709, 0.7470555902461209, -1.9125854884314455, 1.731982974028806, -0.15861552176317373, 1.4686777515892881, -1.8367338184114548, -0.3569205328128957, 1.3089388175003722, -1.039118619721684, 1.6974887646428862, 0.4930685414318221, 0.35408290943196175, 0.3464763313551402, 1.5742494245305152, 0.8551593211894892, -1.458539962572393, -1.7996450238744832, 0.411784418795901, 1.1173287183435878, -1.9785029312169882, -1.9026001598534013, -0.7537354175973303, -1.71812408943768, -0.30915147703493684, -0.7061933202829178, -0.24485531925705928, 0.13339459797886066, 1.9531840049779303, 0.31360207670670937, 1.5957909796637386, -1.288806621532975, -1.446484171439701, -1.162924065722125, 0.481275175784734, -1.609349934324121, -0.3569770101160237, -1.0818857810996265, 1.7740896035165008, 1.7719977047285953, -1.5651351462550878, 0.993811257044495, 1.5783732624291593, 1.298999088860438, -0.9603009100869282, -1.4432627431080571, -1.2526869592038792, 0.9218671592655312, -0.2690417017731743, 0.31648893652087295, -1.213833396005958, 1.1095450119828616, -0.03928412196749331, -0.12356811432066905, -1.3518648051818642, 0.5814582940760658, -0.24384554271860193, -1.7369644774324602, 0.1327545985001013, 1.2109462199526764, -0.3092730858227508, -1.4583019966936899, -0.1762392264249586, -1.7526698529329092, 0.5268759344869403, 1.1383968809885046, -0.5213485098929502, -0.9278177181779643, -1.8400321681278085, -1.6642120327985213, -0.17696861425705412, -0.33450716994012364, 1.3255488762606977], \"y\": [-2.060732789398339, -0.5118786262776692, 3.9835882662723394, -1.7658518944907526, -1.350290807215866, -1.7208687494435264, -2.0077237424135737, 0.6176842109927445, -1.9009451456066413, 4.146234966835504, -1.93100196275989, 0.3983634709073457, 6.404558694275172, 2.5354076837503086, -2.1220728963456135, 3.6482943527445646, -1.3116475940729049, 5.0338591338778595, -1.0498214433869244, -1.242507089401661, 1.1283573583605768, -2.153157515642945, -0.5029504380542233, -0.06731383046890017, 3.644743596321005, 0.7495379161413889, -0.6843959503776869, 1.2052344058449393, 0.7413285728304055, -0.740315424296075, 5.268124345947128, -1.6228226088807511, 3.9057602870227357, -1.6951391209976254, -1.8653342957368713, 3.397845773467465, -1.6077063269969865, 4.986727583672355, 0.2188960136826677, -0.19590334527382855, 0.06262123928376057, 4.225127389232695, 0.8981345994671501, -1.7008315268245968, -1.5141944176420843, -0.18910412265646226, 2.050531935324561, -1.2498742873967832, -1.3130094096386304, -1.915593044832005, -1.3733880980778803, -1.56609848572934, -1.6214212389471612, -1.0632427109941334, -0.09757107537056298, 5.902358337654444, -0.5177644197223454, 4.800190296892743, -1.8858480116191103, -1.5180473297977266, -2.1617741579139733, 0.3293185847947757, -1.4553998070151608, -1.3866494300208507, -2.0591636940752784, 5.432836558596251, 5.634388853316211, -1.313888369781682, 1.739778776716884, 4.316869397787577, 2.700540004092983, -2.0245174509123554, -1.6839289682717533, -1.827970787570446, 2.2739238374565263, -1.5674508241707272, -0.1845649947886303, -1.6683482535974468, 2.781560256332448, -0.5598517904978597, -0.8333611299992778, -1.6443504878653448, 0.3383204171524705, -1.567311899965072, -1.1164399542859302, -1.071866718451395, 2.8770930878539995, -1.5350805405438215, -1.6839074703073884, -1.6559566884387074, -1.5581051255843144, 0.4917486007983509, 2.704220577455504, -2.414930839292027, -1.5569758702839067, -1.6378174267571868, -1.3159723728623944, -1.2762918617522285, -1.6137925975254246, 3.6146101147200898]}, {\"mode\": \"lines\", \"name\": \"Predicted values\", \"type\": \"scatter\", \"x\": [-2.0, -1.9, -1.7999999999999998, -1.6999999999999997, -1.5999999999999996, -1.4999999999999996, -1.3999999999999995, -1.2999999999999994, -1.1999999999999993, -1.0999999999999992, -0.9999999999999991, -0.899999999999999, -0.7999999999999989, -0.6999999999999988, -0.5999999999999988, -0.49999999999999867, -0.3999999999999986, -0.2999999999999985, -0.1999999999999984, -0.09999999999999831, 1.7763568394002505e-15, 0.10000000000000187, 0.20000000000000195, 0.30000000000000204, 0.40000000000000213, 0.5000000000000022, 0.6000000000000023, 0.7000000000000024, 0.8000000000000025, 0.9000000000000026, 1.0000000000000027, 1.1000000000000028, 1.2000000000000028, 1.300000000000003, 1.400000000000003, 1.500000000000003, 1.6000000000000032, 1.7000000000000033, 1.8000000000000034, 1.9000000000000035], \"y\": [-0.9830187463179976, -1.1631350411798205, -1.32406098689312, -1.4657965834578977, -1.5883418308741515, -1.6916967291418832, -1.7758612782610923, -1.8408354782317788, -1.8866193290539426, -1.913212830727584, -1.9206159832527026, -1.9088287866292986, -1.877851240857372, -1.8276833459369222, -1.7583251018679502, -1.6697765086504557, -1.5620375662844386, -1.4351082747698987, -1.2889886341068362, -1.1236786442952509, -0.9391783053351431, -0.7354876172265127, -0.5126065799693597, -0.2705351935636839, -0.009273458009485591, 0.27117862669323545, 0.570821060544479, 0.8896538435442451, 1.2276769756925343, 1.5848904569893456, 1.9612942874346797, 2.3568884670285364, 2.771672995770916, 3.2056478736618184, 3.658813100701243, 4.131168676889191, 4.62271460222566, 5.133450876710652, 5.663377500344168, 6.212494473126206]}],\n",
              "                        {\"template\": {\"data\": {\"bar\": [{\"error_x\": {\"color\": \"#2a3f5f\"}, \"error_y\": {\"color\": \"#2a3f5f\"}, \"marker\": {\"line\": {\"color\": \"#E5ECF6\", \"width\": 0.5}}, \"type\": \"bar\"}], \"barpolar\": [{\"marker\": {\"line\": {\"color\": \"#E5ECF6\", \"width\": 0.5}}, \"type\": \"barpolar\"}], \"carpet\": [{\"aaxis\": {\"endlinecolor\": \"#2a3f5f\", \"gridcolor\": \"white\", \"linecolor\": \"white\", \"minorgridcolor\": \"white\", \"startlinecolor\": \"#2a3f5f\"}, \"baxis\": {\"endlinecolor\": \"#2a3f5f\", \"gridcolor\": \"white\", \"linecolor\": \"white\", \"minorgridcolor\": \"white\", \"startlinecolor\": \"#2a3f5f\"}, \"type\": \"carpet\"}], \"choropleth\": [{\"colorbar\": {\"outlinewidth\": 0, \"ticks\": \"\"}, \"type\": \"choropleth\"}], \"contour\": [{\"colorbar\": {\"outlinewidth\": 0, \"ticks\": \"\"}, \"colorscale\": [[0.0, \"#0d0887\"], [0.1111111111111111, \"#46039f\"], [0.2222222222222222, \"#7201a8\"], [0.3333333333333333, \"#9c179e\"], [0.4444444444444444, \"#bd3786\"], [0.5555555555555556, \"#d8576b\"], [0.6666666666666666, \"#ed7953\"], [0.7777777777777778, \"#fb9f3a\"], [0.8888888888888888, \"#fdca26\"], [1.0, \"#f0f921\"]], \"type\": \"contour\"}], \"contourcarpet\": [{\"colorbar\": {\"outlinewidth\": 0, \"ticks\": \"\"}, \"type\": \"contourcarpet\"}], \"heatmap\": [{\"colorbar\": {\"outlinewidth\": 0, \"ticks\": \"\"}, \"colorscale\": [[0.0, \"#0d0887\"], [0.1111111111111111, \"#46039f\"], [0.2222222222222222, \"#7201a8\"], [0.3333333333333333, \"#9c179e\"], [0.4444444444444444, \"#bd3786\"], [0.5555555555555556, \"#d8576b\"], [0.6666666666666666, \"#ed7953\"], [0.7777777777777778, \"#fb9f3a\"], [0.8888888888888888, \"#fdca26\"], [1.0, \"#f0f921\"]], \"type\": \"heatmap\"}], \"heatmapgl\": [{\"colorbar\": {\"outlinewidth\": 0, \"ticks\": \"\"}, \"colorscale\": [[0.0, \"#0d0887\"], [0.1111111111111111, \"#46039f\"], [0.2222222222222222, \"#7201a8\"], [0.3333333333333333, \"#9c179e\"], [0.4444444444444444, \"#bd3786\"], [0.5555555555555556, \"#d8576b\"], [0.6666666666666666, \"#ed7953\"], [0.7777777777777778, \"#fb9f3a\"], [0.8888888888888888, \"#fdca26\"], [1.0, \"#f0f921\"]], \"type\": \"heatmapgl\"}], \"histogram\": [{\"marker\": {\"colorbar\": {\"outlinewidth\": 0, \"ticks\": \"\"}}, \"type\": \"histogram\"}], \"histogram2d\": [{\"colorbar\": {\"outlinewidth\": 0, \"ticks\": \"\"}, \"colorscale\": [[0.0, \"#0d0887\"], [0.1111111111111111, \"#46039f\"], [0.2222222222222222, \"#7201a8\"], [0.3333333333333333, \"#9c179e\"], [0.4444444444444444, \"#bd3786\"], [0.5555555555555556, \"#d8576b\"], [0.6666666666666666, \"#ed7953\"], [0.7777777777777778, \"#fb9f3a\"], [0.8888888888888888, \"#fdca26\"], [1.0, \"#f0f921\"]], \"type\": \"histogram2d\"}], \"histogram2dcontour\": [{\"colorbar\": {\"outlinewidth\": 0, \"ticks\": \"\"}, \"colorscale\": [[0.0, \"#0d0887\"], [0.1111111111111111, \"#46039f\"], [0.2222222222222222, \"#7201a8\"], [0.3333333333333333, \"#9c179e\"], [0.4444444444444444, \"#bd3786\"], [0.5555555555555556, \"#d8576b\"], [0.6666666666666666, \"#ed7953\"], [0.7777777777777778, \"#fb9f3a\"], [0.8888888888888888, \"#fdca26\"], [1.0, \"#f0f921\"]], \"type\": \"histogram2dcontour\"}], \"mesh3d\": [{\"colorbar\": {\"outlinewidth\": 0, \"ticks\": \"\"}, \"type\": \"mesh3d\"}], \"parcoords\": [{\"line\": {\"colorbar\": {\"outlinewidth\": 0, \"ticks\": \"\"}}, \"type\": \"parcoords\"}], \"pie\": [{\"automargin\": true, \"type\": \"pie\"}], \"scatter\": [{\"marker\": {\"colorbar\": {\"outlinewidth\": 0, \"ticks\": \"\"}}, \"type\": \"scatter\"}], \"scatter3d\": [{\"line\": {\"colorbar\": {\"outlinewidth\": 0, \"ticks\": \"\"}}, \"marker\": {\"colorbar\": {\"outlinewidth\": 0, \"ticks\": \"\"}}, \"type\": \"scatter3d\"}], \"scattercarpet\": [{\"marker\": {\"colorbar\": {\"outlinewidth\": 0, \"ticks\": \"\"}}, \"type\": \"scattercarpet\"}], \"scattergeo\": [{\"marker\": {\"colorbar\": {\"outlinewidth\": 0, \"ticks\": \"\"}}, \"type\": \"scattergeo\"}], \"scattergl\": [{\"marker\": {\"colorbar\": {\"outlinewidth\": 0, \"ticks\": \"\"}}, \"type\": \"scattergl\"}], \"scattermapbox\": [{\"marker\": {\"colorbar\": {\"outlinewidth\": 0, \"ticks\": \"\"}}, \"type\": \"scattermapbox\"}], \"scatterpolar\": [{\"marker\": {\"colorbar\": {\"outlinewidth\": 0, \"ticks\": \"\"}}, \"type\": \"scatterpolar\"}], \"scatterpolargl\": [{\"marker\": {\"colorbar\": {\"outlinewidth\": 0, \"ticks\": \"\"}}, \"type\": \"scatterpolargl\"}], \"scatterternary\": [{\"marker\": {\"colorbar\": {\"outlinewidth\": 0, \"ticks\": \"\"}}, \"type\": \"scatterternary\"}], \"surface\": [{\"colorbar\": {\"outlinewidth\": 0, \"ticks\": \"\"}, \"colorscale\": [[0.0, \"#0d0887\"], [0.1111111111111111, \"#46039f\"], [0.2222222222222222, \"#7201a8\"], [0.3333333333333333, \"#9c179e\"], [0.4444444444444444, \"#bd3786\"], [0.5555555555555556, \"#d8576b\"], [0.6666666666666666, \"#ed7953\"], [0.7777777777777778, \"#fb9f3a\"], [0.8888888888888888, \"#fdca26\"], [1.0, \"#f0f921\"]], \"type\": \"surface\"}], \"table\": [{\"cells\": {\"fill\": {\"color\": \"#EBF0F8\"}, \"line\": {\"color\": \"white\"}}, \"header\": {\"fill\": {\"color\": \"#C8D4E3\"}, \"line\": {\"color\": \"white\"}}, \"type\": \"table\"}]}, \"layout\": {\"annotationdefaults\": {\"arrowcolor\": \"#2a3f5f\", \"arrowhead\": 0, \"arrowwidth\": 1}, \"coloraxis\": {\"colorbar\": {\"outlinewidth\": 0, \"ticks\": \"\"}}, \"colorscale\": {\"diverging\": [[0, \"#8e0152\"], [0.1, \"#c51b7d\"], [0.2, \"#de77ae\"], [0.3, \"#f1b6da\"], [0.4, \"#fde0ef\"], [0.5, \"#f7f7f7\"], [0.6, \"#e6f5d0\"], [0.7, \"#b8e186\"], [0.8, \"#7fbc41\"], [0.9, \"#4d9221\"], [1, \"#276419\"]], \"sequential\": [[0.0, \"#0d0887\"], [0.1111111111111111, \"#46039f\"], [0.2222222222222222, \"#7201a8\"], [0.3333333333333333, \"#9c179e\"], [0.4444444444444444, \"#bd3786\"], [0.5555555555555556, \"#d8576b\"], [0.6666666666666666, \"#ed7953\"], [0.7777777777777778, \"#fb9f3a\"], [0.8888888888888888, \"#fdca26\"], [1.0, \"#f0f921\"]], \"sequentialminus\": [[0.0, \"#0d0887\"], [0.1111111111111111, \"#46039f\"], [0.2222222222222222, \"#7201a8\"], [0.3333333333333333, \"#9c179e\"], [0.4444444444444444, \"#bd3786\"], [0.5555555555555556, \"#d8576b\"], [0.6666666666666666, \"#ed7953\"], [0.7777777777777778, \"#fb9f3a\"], [0.8888888888888888, \"#fdca26\"], [1.0, \"#f0f921\"]]}, \"colorway\": [\"#636efa\", \"#EF553B\", \"#00cc96\", \"#ab63fa\", \"#FFA15A\", \"#19d3f3\", \"#FF6692\", \"#B6E880\", \"#FF97FF\", \"#FECB52\"], \"font\": {\"color\": \"#2a3f5f\"}, \"geo\": {\"bgcolor\": \"white\", \"lakecolor\": \"white\", \"landcolor\": \"#E5ECF6\", \"showlakes\": true, \"showland\": true, \"subunitcolor\": \"white\"}, \"hoverlabel\": {\"align\": \"left\"}, \"hovermode\": \"closest\", \"mapbox\": {\"style\": \"light\"}, \"paper_bgcolor\": \"white\", \"plot_bgcolor\": \"#E5ECF6\", \"polar\": {\"angularaxis\": {\"gridcolor\": \"white\", \"linecolor\": \"white\", \"ticks\": \"\"}, \"bgcolor\": \"#E5ECF6\", \"radialaxis\": {\"gridcolor\": \"white\", \"linecolor\": \"white\", \"ticks\": \"\"}}, \"scene\": {\"xaxis\": {\"backgroundcolor\": \"#E5ECF6\", \"gridcolor\": \"white\", \"gridwidth\": 2, \"linecolor\": \"white\", \"showbackground\": true, \"ticks\": \"\", \"zerolinecolor\": \"white\"}, \"yaxis\": {\"backgroundcolor\": \"#E5ECF6\", \"gridcolor\": \"white\", \"gridwidth\": 2, \"linecolor\": \"white\", \"showbackground\": true, \"ticks\": \"\", \"zerolinecolor\": \"white\"}, \"zaxis\": {\"backgroundcolor\": \"#E5ECF6\", \"gridcolor\": \"white\", \"gridwidth\": 2, \"linecolor\": \"white\", \"showbackground\": true, \"ticks\": \"\", \"zerolinecolor\": \"white\"}}, \"shapedefaults\": {\"line\": {\"color\": \"#2a3f5f\"}}, \"ternary\": {\"aaxis\": {\"gridcolor\": \"white\", \"linecolor\": \"white\", \"ticks\": \"\"}, \"baxis\": {\"gridcolor\": \"white\", \"linecolor\": \"white\", \"ticks\": \"\"}, \"bgcolor\": \"#E5ECF6\", \"caxis\": {\"gridcolor\": \"white\", \"linecolor\": \"white\", \"ticks\": \"\"}}, \"title\": {\"x\": 0.05}, \"xaxis\": {\"automargin\": true, \"gridcolor\": \"white\", \"linecolor\": \"white\", \"ticks\": \"\", \"title\": {\"standoff\": 15}, \"zerolinecolor\": \"white\", \"zerolinewidth\": 2}, \"yaxis\": {\"automargin\": true, \"gridcolor\": \"white\", \"linecolor\": \"white\", \"ticks\": \"\", \"title\": {\"standoff\": 15}, \"zerolinecolor\": \"white\", \"zerolinewidth\": 2}}}, \"title\": {\"text\": \"Our fit values\"}},\n",
              "                        {\"responsive\": true}\n",
              "                    ).then(function(){\n",
              "                            \n",
              "var gd = document.getElementById('d56b0077-d146-4feb-a3fa-4406f4b02654');\n",
              "var x = new MutationObserver(function (mutations, observer) {{\n",
              "        var display = window.getComputedStyle(gd).display;\n",
              "        if (!display || display === 'none') {{\n",
              "            console.log([gd, 'removed!']);\n",
              "            Plotly.purge(gd);\n",
              "            observer.disconnect();\n",
              "        }}\n",
              "}});\n",
              "\n",
              "// Listen for the removal of the full notebook cells\n",
              "var notebookContainer = gd.closest('#notebook-container');\n",
              "if (notebookContainer) {{\n",
              "    x.observe(notebookContainer, {childList: true});\n",
              "}}\n",
              "\n",
              "// Listen for the clearing of the current output cell\n",
              "var outputEl = gd.closest('.output');\n",
              "if (outputEl) {{\n",
              "    x.observe(outputEl, {childList: true});\n",
              "}}\n",
              "\n",
              "                        })\n",
              "                };\n",
              "                \n",
              "            </script>\n",
              "        </div>\n",
              "</body>\n",
              "</html>"
            ]
          },
          "metadata": {
            "tags": []
          }
        }
      ]
    },
    {
      "cell_type": "markdown",
      "metadata": {
        "id": "CmpxLCwviyG6"
      },
      "source": [
        "Note that the code above is VERY inefficient, but it should be readable.\n"
      ]
    },
    {
      "cell_type": "markdown",
      "metadata": {
        "id": "a7gBC5k6nFSS"
      },
      "source": [
        "\n",
        "### <font color=blue>Excercise 3:</font>\n",
        "\n",
        "\n",
        "<font color=blue> A) Can you draw the computation graph we have created here.</font>\n",
        "\n",
        "<font color=blue> B) Can we make this training loop more efficient in any way? How?</font>"
      ]
    },
    {
      "cell_type": "markdown",
      "metadata": {
        "id": "ll0guq37nS9f"
      },
      "source": [
        "### <font color=blue>Your answer here</font>\n"
      ]
    },
    {
      "cell_type": "markdown",
      "metadata": {
        "id": "383x9j__Nb6E"
      },
      "source": [
        "#### Computation graph"
      ]
    },
    {
      "cell_type": "markdown",
      "metadata": {
        "id": "Khh-ogciZOk6"
      },
      "source": [
        "![Computational graph.jpg](data:image/jpeg;base64,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)"
      ]
    },
    {
      "cell_type": "markdown",
      "metadata": {
        "id": "TwZITbllLijY"
      },
      "source": [
        "Un dels mètodes més bàsics però efficients que podem fer és crear una condició de parada del nostre algorisme que indiqui que quan la 'loss' entre dos epoch no millori mes que 'e', parem l'algorisme. També podem augmentar el learning rate, d'aquesta manera farem menys operacions ja que el algorisme fa salts més bruscs ens el descens del gradient: en aquest cas, fent diferents proves empíriques he vist que puc augmentar el lr fins a 10 veages sense perdre accuracy significativament, reduint les iteracions x3 vegades (123 it, lr = 0.01, 42 it, lr = 0.1)."
      ]
    },
    {
      "cell_type": "code",
      "metadata": {
        "colab": {
          "base_uri": "https://localhost:8080/"
        },
        "id": "IyafumIpFnol",
        "outputId": "d7ebd5d0-7ef4-4a6b-c8c4-ce367b8dfa38"
      },
      "source": [
        "import time\n",
        "\n",
        "#Definir condició de parada:\n",
        "#si loss1 - loss0 < e stop\n",
        "e = 0.0001\n",
        "lr = 0.1\n",
        "#count iterations\n",
        "n = 0\n",
        "\n",
        "# Create variables for our parameters (weights), and initialise them all to 1.0\n",
        "w0 = Variable(0.0, requiresGrad = True)\n",
        "w1 = Variable(0.0, requiresGrad = True)\n",
        "w2 = Variable(0.0, requiresGrad = True)\n",
        "\n",
        "training_loss = [np.inf]\n",
        "\n",
        "t = time.time() # Keep track of the time we started\n",
        "\n",
        "for epoch in range(2000):\n",
        "\n",
        "    #Zero gradients\n",
        "    w0.zeroGrad()\n",
        "    w1.zeroGrad()\n",
        "    w2.zeroGrad()\n",
        "    \n",
        "    batch_loss = Variable(0.0)\n",
        "    for x, y in zip(XX, YY):\n",
        "\n",
        "        x = Variable(x, requiresGrad = False)\n",
        "        y = Variable(y, requiresGrad = False)\n",
        "\n",
        "        #Forward pass\n",
        "        out = w0 + w1 * x + w2 * x**2 #necessito només la x\n",
        "        \n",
        "        # calculate loss for this training sample\n",
        "        loss = (out - y)**2\n",
        "        \n",
        "        # accumulate losses\n",
        "        batch_loss += loss\n",
        "        \n",
        "    # calculate cost (average of the individual losses)\n",
        "    batch_loss /= m\n",
        "\n",
        "    #creem una condició de parada per si l'algorisme no evoluciona\n",
        "    if abs(training_loss[-1] - batch_loss.value) < e:\n",
        "      break\n",
        "\n",
        "    training_loss.append(batch_loss.value) # keep track of how our training loss evolves\n",
        "    \n",
        "    #backpropagate\n",
        "    batch_loss.backProp()\n",
        "\n",
        "    #Update parameters\n",
        "    w0.value = w0.value - lr * w0.grad\n",
        "    w1.value = w1.value - lr * w1.grad\n",
        "    w2.value = w2.value - lr * w2.grad \n",
        "    n += 1   \n",
        "    del batch_loss # this should free some resources\n",
        "\n",
        "# Check how long it took\n",
        "print(\"Training took (secs):\", time.time() - t)\n",
        "print(\"Stops at iteration:\", n)\n",
        "print(f'Loss final: {training_loss[-1]}')\n",
        "print(\"Estimated weights:\", w0.value, w1.value, w2.value)"
      ],
      "execution_count": 59,
      "outputs": [
        {
          "output_type": "stream",
          "text": [
            "Training took (secs): 0.21796536445617676\n",
            "Stops at iteration: 49\n",
            "Loss final: 0.08543384268864034\n",
            "Estimated weights: -0.9021996516635145 1.9382522838533038 0.9420813356713599\n"
          ],
          "name": "stdout"
        }
      ]
    },
    {
      "cell_type": "code",
      "metadata": {
        "colab": {
          "base_uri": "https://localhost:8080/",
          "height": 559
        },
        "id": "gdMFRCFWKugp",
        "outputId": "26dd8e80-cff0-4f50-c796-eaa134ed44e3"
      },
      "source": [
        "# Print our our results\n",
        "print(\"Estimated weights:\", w0.value, w1.value, w2.value)\n",
        "#Make a plot of the evolution of the training loss\n",
        "fig = go.Figure()\n",
        "fig.add_trace(go.Scatter(x = np.arange(len(training_loss)), y = training_loss, mode = 'lines'))\n",
        "fig.update_layout(title = 'Evolution of the training loss')\n",
        "fig.update_yaxes(title_text = 'Training loss')\n",
        "fig.update_xaxes(title_text = '# Iteration')\n",
        "fig.show()"
      ],
      "execution_count": 60,
      "outputs": [
        {
          "output_type": "stream",
          "text": [
            "Estimated weights: -0.9021996516635145 1.9382522838533038 0.9420813356713599\n"
          ],
          "name": "stdout"
        },
        {
          "output_type": "display_data",
          "data": {
            "text/html": [
              "<html>\n",
              "<head><meta charset=\"utf-8\" /></head>\n",
              "<body>\n",
              "    <div>\n",
              "            <script src=\"https://cdnjs.cloudflare.com/ajax/libs/mathjax/2.7.5/MathJax.js?config=TeX-AMS-MML_SVG\"></script><script type=\"text/javascript\">if (window.MathJax) {MathJax.Hub.Config({SVG: {font: \"STIX-Web\"}});}</script>\n",
              "                <script type=\"text/javascript\">window.PlotlyConfig = {MathJaxConfig: 'local'};</script>\n",
              "        <script src=\"https://cdn.plot.ly/plotly-latest.min.js\"></script>    \n",
              "            <div id=\"98908e87-b990-40f2-ba1f-42e1b04a82d3\" class=\"plotly-graph-div\" style=\"height:525px; width:100%;\"></div>\n",
              "            <script type=\"text/javascript\">\n",
              "                \n",
              "                    window.PLOTLYENV=window.PLOTLYENV || {};\n",
              "                    \n",
              "                if (document.getElementById(\"98908e87-b990-40f2-ba1f-42e1b04a82d3\")) {\n",
              "                    Plotly.newPlot(\n",
              "                        '98908e87-b990-40f2-ba1f-42e1b04a82d3',\n",
              "                        [{\"mode\": \"lines\", \"type\": \"scatter\", \"x\": [0, 1, 2, 3, 4, 5, 6, 7, 8, 9, 10, 11, 12, 13, 14, 15, 16, 17, 18, 19, 20, 21, 22, 23, 24, 25, 26, 27, 28, 29, 30, 31, 32, 33, 34, 35, 36, 37, 38, 39, 40, 41, 42, 43, 44, 45, 46, 47, 48, 49], \"y\": [null, 5.7192710072486905, 3.267080055957385, 1.9787149428361084, 1.2644106798099914, 0.8595438687379168, 0.6234495293800035, 0.4803786405063439, 0.3893843020226821, 0.3282202885079238, 0.2847048771226163, 0.252085952544386, 0.22655176410186997, 0.20589252911390393, 0.18877950948572944, 0.17437556168535712, 0.16212378063057997, 0.15163196096728718, 0.14260872299402746, 0.13482759393948482, 0.12810629991494218, 0.12229440637916442, 0.11726560245215469, 0.11291262055763548, 0.10914369515288187, 0.10587995596819315, 0.10305341701040988, 0.10060536705117952, 0.0984850464633114, 0.0966485391655283, 0.09505783324172504, 0.09368001820188225, 0.09248659552742669, 0.09145288462235002, 0.09055750994524614, 0.08978195767717022, 0.08911019220105797, 0.08852832416407498, 0.08802432309960025, 0.08758776858126267, 0.08720963471800214, 0.08688210350985372, 0.08659840319231378, 0.0863526682199383, 0.08613981799051264, 0.08595545180036074, 0.08579575785788997, 0.08565743447363074, 0.08553762179705268, 0.08543384268864034]}],\n",
              "                        {\"template\": {\"data\": {\"bar\": [{\"error_x\": {\"color\": \"#2a3f5f\"}, \"error_y\": {\"color\": \"#2a3f5f\"}, \"marker\": {\"line\": {\"color\": \"#E5ECF6\", \"width\": 0.5}}, \"type\": \"bar\"}], \"barpolar\": [{\"marker\": {\"line\": {\"color\": \"#E5ECF6\", \"width\": 0.5}}, \"type\": \"barpolar\"}], \"carpet\": [{\"aaxis\": {\"endlinecolor\": \"#2a3f5f\", \"gridcolor\": \"white\", \"linecolor\": \"white\", \"minorgridcolor\": \"white\", \"startlinecolor\": \"#2a3f5f\"}, \"baxis\": {\"endlinecolor\": \"#2a3f5f\", \"gridcolor\": \"white\", \"linecolor\": \"white\", \"minorgridcolor\": \"white\", \"startlinecolor\": \"#2a3f5f\"}, \"type\": \"carpet\"}], \"choropleth\": [{\"colorbar\": {\"outlinewidth\": 0, \"ticks\": \"\"}, \"type\": \"choropleth\"}], \"contour\": [{\"colorbar\": {\"outlinewidth\": 0, \"ticks\": \"\"}, \"colorscale\": [[0.0, \"#0d0887\"], [0.1111111111111111, \"#46039f\"], [0.2222222222222222, \"#7201a8\"], [0.3333333333333333, \"#9c179e\"], [0.4444444444444444, \"#bd3786\"], [0.5555555555555556, \"#d8576b\"], [0.6666666666666666, \"#ed7953\"], [0.7777777777777778, \"#fb9f3a\"], [0.8888888888888888, \"#fdca26\"], [1.0, \"#f0f921\"]], \"type\": \"contour\"}], \"contourcarpet\": [{\"colorbar\": {\"outlinewidth\": 0, \"ticks\": \"\"}, \"type\": \"contourcarpet\"}], \"heatmap\": [{\"colorbar\": {\"outlinewidth\": 0, \"ticks\": \"\"}, \"colorscale\": [[0.0, \"#0d0887\"], [0.1111111111111111, \"#46039f\"], [0.2222222222222222, \"#7201a8\"], [0.3333333333333333, \"#9c179e\"], [0.4444444444444444, \"#bd3786\"], [0.5555555555555556, \"#d8576b\"], [0.6666666666666666, \"#ed7953\"], [0.7777777777777778, \"#fb9f3a\"], [0.8888888888888888, \"#fdca26\"], [1.0, \"#f0f921\"]], \"type\": \"heatmap\"}], \"heatmapgl\": [{\"colorbar\": {\"outlinewidth\": 0, \"ticks\": \"\"}, \"colorscale\": [[0.0, \"#0d0887\"], [0.1111111111111111, \"#46039f\"], [0.2222222222222222, \"#7201a8\"], [0.3333333333333333, \"#9c179e\"], [0.4444444444444444, \"#bd3786\"], [0.5555555555555556, \"#d8576b\"], [0.6666666666666666, \"#ed7953\"], [0.7777777777777778, \"#fb9f3a\"], [0.8888888888888888, \"#fdca26\"], [1.0, \"#f0f921\"]], \"type\": \"heatmapgl\"}], \"histogram\": [{\"marker\": {\"colorbar\": {\"outlinewidth\": 0, \"ticks\": \"\"}}, \"type\": \"histogram\"}], \"histogram2d\": [{\"colorbar\": {\"outlinewidth\": 0, \"ticks\": \"\"}, \"colorscale\": [[0.0, \"#0d0887\"], [0.1111111111111111, \"#46039f\"], [0.2222222222222222, \"#7201a8\"], [0.3333333333333333, \"#9c179e\"], [0.4444444444444444, \"#bd3786\"], [0.5555555555555556, \"#d8576b\"], [0.6666666666666666, \"#ed7953\"], [0.7777777777777778, \"#fb9f3a\"], [0.8888888888888888, \"#fdca26\"], [1.0, \"#f0f921\"]], \"type\": \"histogram2d\"}], \"histogram2dcontour\": [{\"colorbar\": {\"outlinewidth\": 0, \"ticks\": \"\"}, \"colorscale\": [[0.0, \"#0d0887\"], [0.1111111111111111, \"#46039f\"], [0.2222222222222222, \"#7201a8\"], [0.3333333333333333, \"#9c179e\"], [0.4444444444444444, \"#bd3786\"], [0.5555555555555556, \"#d8576b\"], [0.6666666666666666, \"#ed7953\"], [0.7777777777777778, \"#fb9f3a\"], [0.8888888888888888, \"#fdca26\"], [1.0, \"#f0f921\"]], \"type\": \"histogram2dcontour\"}], \"mesh3d\": [{\"colorbar\": {\"outlinewidth\": 0, \"ticks\": \"\"}, \"type\": \"mesh3d\"}], \"parcoords\": [{\"line\": {\"colorbar\": {\"outlinewidth\": 0, \"ticks\": \"\"}}, \"type\": \"parcoords\"}], \"pie\": [{\"automargin\": true, \"type\": \"pie\"}], \"scatter\": [{\"marker\": {\"colorbar\": {\"outlinewidth\": 0, \"ticks\": \"\"}}, \"type\": \"scatter\"}], \"scatter3d\": [{\"line\": {\"colorbar\": {\"outlinewidth\": 0, \"ticks\": \"\"}}, \"marker\": {\"colorbar\": {\"outlinewidth\": 0, \"ticks\": \"\"}}, \"type\": \"scatter3d\"}], \"scattercarpet\": [{\"marker\": {\"colorbar\": {\"outlinewidth\": 0, \"ticks\": \"\"}}, \"type\": \"scattercarpet\"}], \"scattergeo\": [{\"marker\": {\"colorbar\": {\"outlinewidth\": 0, \"ticks\": \"\"}}, \"type\": \"scattergeo\"}], \"scattergl\": [{\"marker\": {\"colorbar\": {\"outlinewidth\": 0, \"ticks\": \"\"}}, \"type\": \"scattergl\"}], \"scattermapbox\": [{\"marker\": {\"colorbar\": {\"outlinewidth\": 0, \"ticks\": \"\"}}, \"type\": \"scattermapbox\"}], \"scatterpolar\": [{\"marker\": {\"colorbar\": {\"outlinewidth\": 0, \"ticks\": \"\"}}, \"type\": \"scatterpolar\"}], \"scatterpolargl\": [{\"marker\": {\"colorbar\": {\"outlinewidth\": 0, \"ticks\": \"\"}}, \"type\": \"scatterpolargl\"}], \"scatterternary\": [{\"marker\": {\"colorbar\": {\"outlinewidth\": 0, \"ticks\": \"\"}}, \"type\": \"scatterternary\"}], \"surface\": [{\"colorbar\": {\"outlinewidth\": 0, \"ticks\": \"\"}, \"colorscale\": [[0.0, \"#0d0887\"], [0.1111111111111111, \"#46039f\"], [0.2222222222222222, \"#7201a8\"], [0.3333333333333333, \"#9c179e\"], [0.4444444444444444, \"#bd3786\"], [0.5555555555555556, \"#d8576b\"], [0.6666666666666666, \"#ed7953\"], [0.7777777777777778, \"#fb9f3a\"], [0.8888888888888888, \"#fdca26\"], [1.0, \"#f0f921\"]], \"type\": \"surface\"}], \"table\": [{\"cells\": {\"fill\": {\"color\": \"#EBF0F8\"}, \"line\": {\"color\": \"white\"}}, \"header\": {\"fill\": {\"color\": \"#C8D4E3\"}, \"line\": {\"color\": \"white\"}}, \"type\": \"table\"}]}, \"layout\": {\"annotationdefaults\": {\"arrowcolor\": \"#2a3f5f\", \"arrowhead\": 0, \"arrowwidth\": 1}, \"coloraxis\": {\"colorbar\": {\"outlinewidth\": 0, \"ticks\": \"\"}}, \"colorscale\": {\"diverging\": [[0, \"#8e0152\"], [0.1, \"#c51b7d\"], [0.2, \"#de77ae\"], [0.3, \"#f1b6da\"], [0.4, \"#fde0ef\"], [0.5, \"#f7f7f7\"], [0.6, \"#e6f5d0\"], [0.7, \"#b8e186\"], [0.8, \"#7fbc41\"], [0.9, \"#4d9221\"], [1, \"#276419\"]], \"sequential\": [[0.0, \"#0d0887\"], [0.1111111111111111, \"#46039f\"], [0.2222222222222222, \"#7201a8\"], [0.3333333333333333, \"#9c179e\"], [0.4444444444444444, \"#bd3786\"], [0.5555555555555556, \"#d8576b\"], [0.6666666666666666, \"#ed7953\"], [0.7777777777777778, \"#fb9f3a\"], [0.8888888888888888, \"#fdca26\"], [1.0, \"#f0f921\"]], \"sequentialminus\": [[0.0, \"#0d0887\"], [0.1111111111111111, \"#46039f\"], [0.2222222222222222, \"#7201a8\"], [0.3333333333333333, \"#9c179e\"], [0.4444444444444444, \"#bd3786\"], [0.5555555555555556, \"#d8576b\"], [0.6666666666666666, \"#ed7953\"], [0.7777777777777778, \"#fb9f3a\"], [0.8888888888888888, \"#fdca26\"], [1.0, \"#f0f921\"]]}, \"colorway\": [\"#636efa\", \"#EF553B\", \"#00cc96\", \"#ab63fa\", \"#FFA15A\", \"#19d3f3\", \"#FF6692\", \"#B6E880\", \"#FF97FF\", \"#FECB52\"], \"font\": {\"color\": \"#2a3f5f\"}, \"geo\": {\"bgcolor\": \"white\", \"lakecolor\": \"white\", \"landcolor\": \"#E5ECF6\", \"showlakes\": true, \"showland\": true, \"subunitcolor\": \"white\"}, \"hoverlabel\": {\"align\": \"left\"}, \"hovermode\": \"closest\", \"mapbox\": {\"style\": \"light\"}, \"paper_bgcolor\": \"white\", \"plot_bgcolor\": \"#E5ECF6\", \"polar\": {\"angularaxis\": {\"gridcolor\": \"white\", \"linecolor\": \"white\", \"ticks\": \"\"}, \"bgcolor\": \"#E5ECF6\", \"radialaxis\": {\"gridcolor\": \"white\", \"linecolor\": \"white\", \"ticks\": \"\"}}, \"scene\": {\"xaxis\": {\"backgroundcolor\": \"#E5ECF6\", \"gridcolor\": \"white\", \"gridwidth\": 2, \"linecolor\": \"white\", \"showbackground\": true, \"ticks\": \"\", \"zerolinecolor\": \"white\"}, \"yaxis\": {\"backgroundcolor\": \"#E5ECF6\", \"gridcolor\": \"white\", \"gridwidth\": 2, \"linecolor\": \"white\", \"showbackground\": true, \"ticks\": \"\", \"zerolinecolor\": \"white\"}, \"zaxis\": {\"backgroundcolor\": \"#E5ECF6\", \"gridcolor\": \"white\", \"gridwidth\": 2, \"linecolor\": \"white\", \"showbackground\": true, \"ticks\": \"\", \"zerolinecolor\": \"white\"}}, \"shapedefaults\": {\"line\": {\"color\": \"#2a3f5f\"}}, \"ternary\": {\"aaxis\": {\"gridcolor\": \"white\", \"linecolor\": \"white\", \"ticks\": \"\"}, \"baxis\": {\"gridcolor\": \"white\", \"linecolor\": \"white\", \"ticks\": \"\"}, \"bgcolor\": \"#E5ECF6\", \"caxis\": {\"gridcolor\": \"white\", \"linecolor\": \"white\", \"ticks\": \"\"}}, \"title\": {\"x\": 0.05}, \"xaxis\": {\"automargin\": true, \"gridcolor\": \"white\", \"linecolor\": \"white\", \"ticks\": \"\", \"title\": {\"standoff\": 15}, \"zerolinecolor\": \"white\", \"zerolinewidth\": 2}, \"yaxis\": {\"automargin\": true, \"gridcolor\": \"white\", \"linecolor\": \"white\", \"ticks\": \"\", \"title\": {\"standoff\": 15}, \"zerolinecolor\": \"white\", \"zerolinewidth\": 2}}}, \"title\": {\"text\": \"Evolution of the training loss\"}, \"xaxis\": {\"title\": {\"text\": \"# Iteration\"}}, \"yaxis\": {\"title\": {\"text\": \"Training loss\"}}},\n",
              "                        {\"responsive\": true}\n",
              "                    ).then(function(){\n",
              "                            \n",
              "var gd = document.getElementById('98908e87-b990-40f2-ba1f-42e1b04a82d3');\n",
              "var x = new MutationObserver(function (mutations, observer) {{\n",
              "        var display = window.getComputedStyle(gd).display;\n",
              "        if (!display || display === 'none') {{\n",
              "            console.log([gd, 'removed!']);\n",
              "            Plotly.purge(gd);\n",
              "            observer.disconnect();\n",
              "        }}\n",
              "}});\n",
              "\n",
              "// Listen for the removal of the full notebook cells\n",
              "var notebookContainer = gd.closest('#notebook-container');\n",
              "if (notebookContainer) {{\n",
              "    x.observe(notebookContainer, {childList: true});\n",
              "}}\n",
              "\n",
              "// Listen for the clearing of the current output cell\n",
              "var outputEl = gd.closest('.output');\n",
              "if (outputEl) {{\n",
              "    x.observe(outputEl, {childList: true});\n",
              "}}\n",
              "\n",
              "                        })\n",
              "                };\n",
              "                \n",
              "            </script>\n",
              "        </div>\n",
              "</body>\n",
              "</html>"
            ]
          },
          "metadata": {
            "tags": []
          }
        }
      ]
    },
    {
      "cell_type": "code",
      "metadata": {
        "colab": {
          "base_uri": "https://localhost:8080/",
          "height": 542
        },
        "id": "DOhhEGbQKw7N",
        "outputId": "a7adfcb4-2ce2-4f99-eedd-6bb9917a30da"
      },
      "source": [
        "# Plot the result\n",
        "x = np.arange(-2, 2, 0.1)\n",
        "\n",
        "fig = go.Figure()\n",
        "fig.add_trace(go.Scatter(x = XX, y = YY, mode = 'markers', name = 'Trainng set'))\n",
        "fig.add_trace(go.Scatter(x = x, y = w0.value + w1.value * x + w2.value * x**2, mode = 'lines', name = 'Predicted values'))\n",
        "fig.update_layout(title = 'Our fit values')\n",
        "fig.show()"
      ],
      "execution_count": 61,
      "outputs": [
        {
          "output_type": "display_data",
          "data": {
            "text/html": [
              "<html>\n",
              "<head><meta charset=\"utf-8\" /></head>\n",
              "<body>\n",
              "    <div>\n",
              "            <script src=\"https://cdnjs.cloudflare.com/ajax/libs/mathjax/2.7.5/MathJax.js?config=TeX-AMS-MML_SVG\"></script><script type=\"text/javascript\">if (window.MathJax) {MathJax.Hub.Config({SVG: {font: \"STIX-Web\"}});}</script>\n",
              "                <script type=\"text/javascript\">window.PlotlyConfig = {MathJaxConfig: 'local'};</script>\n",
              "        <script src=\"https://cdn.plot.ly/plotly-latest.min.js\"></script>    \n",
              "            <div id=\"e0c26c90-db05-4522-a339-03de93b24235\" class=\"plotly-graph-div\" style=\"height:525px; width:100%;\"></div>\n",
              "            <script type=\"text/javascript\">\n",
              "                \n",
              "                    window.PLOTLYENV=window.PLOTLYENV || {};\n",
              "                    \n",
              "                if (document.getElementById(\"e0c26c90-db05-4522-a339-03de93b24235\")) {\n",
              "                    Plotly.newPlot(\n",
              "                        'e0c26c90-db05-4522-a339-03de93b24235',\n",
              "                        [{\"mode\": \"markers\", \"name\": \"Trainng set\", \"type\": \"scatter\", \"x\": [-1.2691276006480523, -0.07428700615268546, 1.4508134972120104, -1.5453516627046247, -1.4343535265914271, -1.338957116635834, -0.5891223102920158, 0.5115539412658743, -1.0171755437463141, 1.4952405897963885, -1.3875974128310848, 0.7772578111040827, 1.8913752447409262, 1.083103518326971, -0.716293226564324, 1.3924153351191895, -0.9020845946104847, 1.5632192322312788, -1.8943222086211482, -1.890740415050113, 0.7460240625521095, -1.2678537049547134, 0.315941508052497, 0.4277828974986835, 1.3340429946299683, 0.5612638598068118, 0.14204019924674505, 0.6470231946302709, 0.7470555902461209, -1.9125854884314455, 1.731982974028806, -0.15861552176317373, 1.4686777515892881, -1.8367338184114548, -0.3569205328128957, 1.3089388175003722, -1.039118619721684, 1.6974887646428862, 0.4930685414318221, 0.35408290943196175, 0.3464763313551402, 1.5742494245305152, 0.8551593211894892, -1.458539962572393, -1.7996450238744832, 0.411784418795901, 1.1173287183435878, -1.9785029312169882, -1.9026001598534013, -0.7537354175973303, -1.71812408943768, -0.30915147703493684, -0.7061933202829178, -0.24485531925705928, 0.13339459797886066, 1.9531840049779303, 0.31360207670670937, 1.5957909796637386, -1.288806621532975, -1.446484171439701, -1.162924065722125, 0.481275175784734, -1.609349934324121, -0.3569770101160237, -1.0818857810996265, 1.7740896035165008, 1.7719977047285953, -1.5651351462550878, 0.993811257044495, 1.5783732624291593, 1.298999088860438, -0.9603009100869282, -1.4432627431080571, -1.2526869592038792, 0.9218671592655312, -0.2690417017731743, 0.31648893652087295, -1.213833396005958, 1.1095450119828616, -0.03928412196749331, -0.12356811432066905, -1.3518648051818642, 0.5814582940760658, -0.24384554271860193, -1.7369644774324602, 0.1327545985001013, 1.2109462199526764, -0.3092730858227508, -1.4583019966936899, -0.1762392264249586, -1.7526698529329092, 0.5268759344869403, 1.1383968809885046, -0.5213485098929502, -0.9278177181779643, -1.8400321681278085, -1.6642120327985213, -0.17696861425705412, -0.33450716994012364, 1.3255488762606977], \"y\": [-2.060732789398339, -0.5118786262776692, 3.9835882662723394, -1.7658518944907526, -1.350290807215866, -1.7208687494435264, -2.0077237424135737, 0.6176842109927445, -1.9009451456066413, 4.146234966835504, -1.93100196275989, 0.3983634709073457, 6.404558694275172, 2.5354076837503086, -2.1220728963456135, 3.6482943527445646, -1.3116475940729049, 5.0338591338778595, -1.0498214433869244, -1.242507089401661, 1.1283573583605768, -2.153157515642945, -0.5029504380542233, -0.06731383046890017, 3.644743596321005, 0.7495379161413889, -0.6843959503776869, 1.2052344058449393, 0.7413285728304055, -0.740315424296075, 5.268124345947128, -1.6228226088807511, 3.9057602870227357, -1.6951391209976254, -1.8653342957368713, 3.397845773467465, -1.6077063269969865, 4.986727583672355, 0.2188960136826677, -0.19590334527382855, 0.06262123928376057, 4.225127389232695, 0.8981345994671501, -1.7008315268245968, -1.5141944176420843, -0.18910412265646226, 2.050531935324561, -1.2498742873967832, -1.3130094096386304, -1.915593044832005, -1.3733880980778803, -1.56609848572934, -1.6214212389471612, -1.0632427109941334, -0.09757107537056298, 5.902358337654444, -0.5177644197223454, 4.800190296892743, -1.8858480116191103, -1.5180473297977266, -2.1617741579139733, 0.3293185847947757, -1.4553998070151608, -1.3866494300208507, -2.0591636940752784, 5.432836558596251, 5.634388853316211, -1.313888369781682, 1.739778776716884, 4.316869397787577, 2.700540004092983, -2.0245174509123554, -1.6839289682717533, -1.827970787570446, 2.2739238374565263, -1.5674508241707272, -0.1845649947886303, -1.6683482535974468, 2.781560256332448, -0.5598517904978597, -0.8333611299992778, -1.6443504878653448, 0.3383204171524705, -1.567311899965072, -1.1164399542859302, -1.071866718451395, 2.8770930878539995, -1.5350805405438215, -1.6839074703073884, -1.6559566884387074, -1.5581051255843144, 0.4917486007983509, 2.704220577455504, -2.414930839292027, -1.5569758702839067, -1.6378174267571868, -1.3159723728623944, -1.2762918617522285, -1.6137925975254246, 3.6146101147200898]}, {\"mode\": \"lines\", \"name\": \"Predicted values\", \"type\": \"scatter\", \"x\": [-2.0, -1.9, -1.7999999999999998, -1.6999999999999997, -1.5999999999999996, -1.4999999999999996, -1.3999999999999995, -1.2999999999999994, -1.1999999999999993, -1.0999999999999992, -0.9999999999999991, -0.899999999999999, -0.7999999999999989, -0.6999999999999988, -0.5999999999999988, -0.49999999999999867, -0.3999999999999986, -0.2999999999999985, -0.1999999999999984, -0.09999999999999831, 1.7763568394002505e-15, 0.10000000000000187, 0.20000000000000195, 0.30000000000000204, 0.40000000000000213, 0.5000000000000022, 0.6000000000000023, 0.7000000000000024, 0.8000000000000025, 0.9000000000000026, 1.0000000000000027, 1.1000000000000028, 1.2000000000000028, 1.300000000000003, 1.400000000000003, 1.500000000000003, 1.6000000000000032, 1.7000000000000033, 1.8000000000000034, 1.9000000000000035], \"y\": [-1.0103788766846828, -1.1839653692111827, -1.338710235024256, -1.4746134741239012, -1.59167508651012, -1.6898950721829111, -1.769273431142275, -1.8298101633882118, -1.8715052689207212, -1.8943587477398036, -1.8983705998454585, -1.8835408252376862, -1.8498694239164868, -1.7973563958818604, -1.7260017411338064, -1.6358054596723253, -1.5267675514974168, -1.3988880166090814, -1.2521668550073184, -1.0866040666921284, -0.902199651663511, -0.6989536099214665, -0.47686594146599476, -0.23593664629709576, 0.023834275585230408, 0.30244682418098384, 0.5999009994901644, 0.9161968015127724, 1.2513342302488075, 1.6053132856982697, 1.9781339678611594, 2.3697962767374765, 2.7803002123272202, 3.209645774630392, 3.65783296364699, 4.1248617793770155, 4.610732221820468, 5.115444290977349, 5.638997986847656, 6.181393309431391]}],\n",
              "                        {\"template\": {\"data\": {\"bar\": [{\"error_x\": {\"color\": \"#2a3f5f\"}, \"error_y\": {\"color\": \"#2a3f5f\"}, \"marker\": {\"line\": {\"color\": \"#E5ECF6\", \"width\": 0.5}}, \"type\": \"bar\"}], \"barpolar\": [{\"marker\": {\"line\": {\"color\": \"#E5ECF6\", \"width\": 0.5}}, \"type\": \"barpolar\"}], \"carpet\": [{\"aaxis\": {\"endlinecolor\": \"#2a3f5f\", \"gridcolor\": \"white\", \"linecolor\": \"white\", \"minorgridcolor\": \"white\", \"startlinecolor\": \"#2a3f5f\"}, \"baxis\": {\"endlinecolor\": \"#2a3f5f\", \"gridcolor\": \"white\", \"linecolor\": \"white\", \"minorgridcolor\": \"white\", \"startlinecolor\": \"#2a3f5f\"}, \"type\": \"carpet\"}], \"choropleth\": [{\"colorbar\": {\"outlinewidth\": 0, \"ticks\": \"\"}, \"type\": \"choropleth\"}], \"contour\": [{\"colorbar\": {\"outlinewidth\": 0, \"ticks\": \"\"}, \"colorscale\": [[0.0, \"#0d0887\"], [0.1111111111111111, \"#46039f\"], [0.2222222222222222, \"#7201a8\"], [0.3333333333333333, \"#9c179e\"], [0.4444444444444444, \"#bd3786\"], [0.5555555555555556, \"#d8576b\"], [0.6666666666666666, \"#ed7953\"], [0.7777777777777778, \"#fb9f3a\"], [0.8888888888888888, \"#fdca26\"], [1.0, \"#f0f921\"]], \"type\": \"contour\"}], \"contourcarpet\": [{\"colorbar\": {\"outlinewidth\": 0, \"ticks\": \"\"}, \"type\": \"contourcarpet\"}], \"heatmap\": [{\"colorbar\": {\"outlinewidth\": 0, \"ticks\": \"\"}, \"colorscale\": [[0.0, \"#0d0887\"], [0.1111111111111111, \"#46039f\"], [0.2222222222222222, \"#7201a8\"], [0.3333333333333333, \"#9c179e\"], [0.4444444444444444, \"#bd3786\"], [0.5555555555555556, \"#d8576b\"], [0.6666666666666666, \"#ed7953\"], [0.7777777777777778, \"#fb9f3a\"], [0.8888888888888888, \"#fdca26\"], [1.0, \"#f0f921\"]], \"type\": \"heatmap\"}], \"heatmapgl\": [{\"colorbar\": {\"outlinewidth\": 0, \"ticks\": \"\"}, \"colorscale\": [[0.0, \"#0d0887\"], [0.1111111111111111, \"#46039f\"], [0.2222222222222222, \"#7201a8\"], [0.3333333333333333, \"#9c179e\"], [0.4444444444444444, \"#bd3786\"], [0.5555555555555556, \"#d8576b\"], [0.6666666666666666, \"#ed7953\"], [0.7777777777777778, \"#fb9f3a\"], [0.8888888888888888, \"#fdca26\"], [1.0, \"#f0f921\"]], \"type\": \"heatmapgl\"}], \"histogram\": [{\"marker\": {\"colorbar\": {\"outlinewidth\": 0, \"ticks\": \"\"}}, \"type\": \"histogram\"}], \"histogram2d\": [{\"colorbar\": {\"outlinewidth\": 0, \"ticks\": \"\"}, \"colorscale\": [[0.0, \"#0d0887\"], [0.1111111111111111, \"#46039f\"], [0.2222222222222222, \"#7201a8\"], [0.3333333333333333, \"#9c179e\"], [0.4444444444444444, \"#bd3786\"], [0.5555555555555556, \"#d8576b\"], [0.6666666666666666, \"#ed7953\"], [0.7777777777777778, \"#fb9f3a\"], [0.8888888888888888, \"#fdca26\"], [1.0, \"#f0f921\"]], \"type\": \"histogram2d\"}], \"histogram2dcontour\": [{\"colorbar\": {\"outlinewidth\": 0, \"ticks\": \"\"}, \"colorscale\": [[0.0, \"#0d0887\"], [0.1111111111111111, \"#46039f\"], [0.2222222222222222, \"#7201a8\"], [0.3333333333333333, \"#9c179e\"], [0.4444444444444444, \"#bd3786\"], [0.5555555555555556, \"#d8576b\"], [0.6666666666666666, \"#ed7953\"], [0.7777777777777778, \"#fb9f3a\"], [0.8888888888888888, \"#fdca26\"], [1.0, \"#f0f921\"]], \"type\": \"histogram2dcontour\"}], \"mesh3d\": [{\"colorbar\": {\"outlinewidth\": 0, \"ticks\": \"\"}, \"type\": \"mesh3d\"}], \"parcoords\": [{\"line\": {\"colorbar\": {\"outlinewidth\": 0, \"ticks\": \"\"}}, \"type\": \"parcoords\"}], \"pie\": [{\"automargin\": true, \"type\": \"pie\"}], \"scatter\": [{\"marker\": {\"colorbar\": {\"outlinewidth\": 0, \"ticks\": \"\"}}, \"type\": \"scatter\"}], \"scatter3d\": [{\"line\": {\"colorbar\": {\"outlinewidth\": 0, \"ticks\": \"\"}}, \"marker\": {\"colorbar\": {\"outlinewidth\": 0, \"ticks\": \"\"}}, \"type\": \"scatter3d\"}], \"scattercarpet\": [{\"marker\": {\"colorbar\": {\"outlinewidth\": 0, \"ticks\": \"\"}}, \"type\": \"scattercarpet\"}], \"scattergeo\": [{\"marker\": {\"colorbar\": {\"outlinewidth\": 0, \"ticks\": \"\"}}, \"type\": \"scattergeo\"}], \"scattergl\": [{\"marker\": {\"colorbar\": {\"outlinewidth\": 0, \"ticks\": \"\"}}, \"type\": \"scattergl\"}], \"scattermapbox\": [{\"marker\": {\"colorbar\": {\"outlinewidth\": 0, \"ticks\": \"\"}}, \"type\": \"scattermapbox\"}], \"scatterpolar\": [{\"marker\": {\"colorbar\": {\"outlinewidth\": 0, \"ticks\": \"\"}}, \"type\": \"scatterpolar\"}], \"scatterpolargl\": [{\"marker\": {\"colorbar\": {\"outlinewidth\": 0, \"ticks\": \"\"}}, \"type\": \"scatterpolargl\"}], \"scatterternary\": [{\"marker\": {\"colorbar\": {\"outlinewidth\": 0, \"ticks\": \"\"}}, \"type\": \"scatterternary\"}], \"surface\": [{\"colorbar\": {\"outlinewidth\": 0, \"ticks\": \"\"}, \"colorscale\": [[0.0, \"#0d0887\"], [0.1111111111111111, \"#46039f\"], [0.2222222222222222, \"#7201a8\"], [0.3333333333333333, \"#9c179e\"], [0.4444444444444444, \"#bd3786\"], [0.5555555555555556, \"#d8576b\"], [0.6666666666666666, \"#ed7953\"], [0.7777777777777778, \"#fb9f3a\"], [0.8888888888888888, \"#fdca26\"], [1.0, \"#f0f921\"]], \"type\": \"surface\"}], \"table\": [{\"cells\": {\"fill\": {\"color\": \"#EBF0F8\"}, \"line\": {\"color\": \"white\"}}, \"header\": {\"fill\": {\"color\": \"#C8D4E3\"}, \"line\": {\"color\": \"white\"}}, \"type\": \"table\"}]}, \"layout\": {\"annotationdefaults\": {\"arrowcolor\": \"#2a3f5f\", \"arrowhead\": 0, \"arrowwidth\": 1}, \"coloraxis\": {\"colorbar\": {\"outlinewidth\": 0, \"ticks\": \"\"}}, \"colorscale\": {\"diverging\": [[0, \"#8e0152\"], [0.1, \"#c51b7d\"], [0.2, \"#de77ae\"], [0.3, \"#f1b6da\"], [0.4, \"#fde0ef\"], [0.5, \"#f7f7f7\"], [0.6, \"#e6f5d0\"], [0.7, \"#b8e186\"], [0.8, \"#7fbc41\"], [0.9, \"#4d9221\"], [1, \"#276419\"]], \"sequential\": [[0.0, \"#0d0887\"], [0.1111111111111111, \"#46039f\"], [0.2222222222222222, \"#7201a8\"], [0.3333333333333333, \"#9c179e\"], [0.4444444444444444, \"#bd3786\"], [0.5555555555555556, \"#d8576b\"], [0.6666666666666666, \"#ed7953\"], [0.7777777777777778, \"#fb9f3a\"], [0.8888888888888888, \"#fdca26\"], [1.0, \"#f0f921\"]], \"sequentialminus\": [[0.0, \"#0d0887\"], [0.1111111111111111, \"#46039f\"], [0.2222222222222222, \"#7201a8\"], [0.3333333333333333, \"#9c179e\"], [0.4444444444444444, \"#bd3786\"], [0.5555555555555556, \"#d8576b\"], [0.6666666666666666, \"#ed7953\"], [0.7777777777777778, \"#fb9f3a\"], [0.8888888888888888, \"#fdca26\"], [1.0, \"#f0f921\"]]}, \"colorway\": [\"#636efa\", \"#EF553B\", \"#00cc96\", \"#ab63fa\", \"#FFA15A\", \"#19d3f3\", \"#FF6692\", \"#B6E880\", \"#FF97FF\", \"#FECB52\"], \"font\": {\"color\": \"#2a3f5f\"}, \"geo\": {\"bgcolor\": \"white\", \"lakecolor\": \"white\", \"landcolor\": \"#E5ECF6\", \"showlakes\": true, \"showland\": true, \"subunitcolor\": \"white\"}, \"hoverlabel\": {\"align\": \"left\"}, \"hovermode\": \"closest\", \"mapbox\": {\"style\": \"light\"}, \"paper_bgcolor\": \"white\", \"plot_bgcolor\": \"#E5ECF6\", \"polar\": {\"angularaxis\": {\"gridcolor\": \"white\", \"linecolor\": \"white\", \"ticks\": \"\"}, \"bgcolor\": \"#E5ECF6\", \"radialaxis\": {\"gridcolor\": \"white\", \"linecolor\": \"white\", \"ticks\": \"\"}}, \"scene\": {\"xaxis\": {\"backgroundcolor\": \"#E5ECF6\", \"gridcolor\": \"white\", \"gridwidth\": 2, \"linecolor\": \"white\", \"showbackground\": true, \"ticks\": \"\", \"zerolinecolor\": \"white\"}, \"yaxis\": {\"backgroundcolor\": \"#E5ECF6\", \"gridcolor\": \"white\", \"gridwidth\": 2, \"linecolor\": \"white\", \"showbackground\": true, \"ticks\": \"\", \"zerolinecolor\": \"white\"}, \"zaxis\": {\"backgroundcolor\": \"#E5ECF6\", \"gridcolor\": \"white\", \"gridwidth\": 2, \"linecolor\": \"white\", \"showbackground\": true, \"ticks\": \"\", \"zerolinecolor\": \"white\"}}, \"shapedefaults\": {\"line\": {\"color\": \"#2a3f5f\"}}, \"ternary\": {\"aaxis\": {\"gridcolor\": \"white\", \"linecolor\": \"white\", \"ticks\": \"\"}, \"baxis\": {\"gridcolor\": \"white\", \"linecolor\": \"white\", \"ticks\": \"\"}, \"bgcolor\": \"#E5ECF6\", \"caxis\": {\"gridcolor\": \"white\", \"linecolor\": \"white\", \"ticks\": \"\"}}, \"title\": {\"x\": 0.05}, \"xaxis\": {\"automargin\": true, \"gridcolor\": \"white\", \"linecolor\": \"white\", \"ticks\": \"\", \"title\": {\"standoff\": 15}, \"zerolinecolor\": \"white\", \"zerolinewidth\": 2}, \"yaxis\": {\"automargin\": true, \"gridcolor\": \"white\", \"linecolor\": \"white\", \"ticks\": \"\", \"title\": {\"standoff\": 15}, \"zerolinecolor\": \"white\", \"zerolinewidth\": 2}}}, \"title\": {\"text\": \"Our fit values\"}},\n",
              "                        {\"responsive\": true}\n",
              "                    ).then(function(){\n",
              "                            \n",
              "var gd = document.getElementById('e0c26c90-db05-4522-a339-03de93b24235');\n",
              "var x = new MutationObserver(function (mutations, observer) {{\n",
              "        var display = window.getComputedStyle(gd).display;\n",
              "        if (!display || display === 'none') {{\n",
              "            console.log([gd, 'removed!']);\n",
              "            Plotly.purge(gd);\n",
              "            observer.disconnect();\n",
              "        }}\n",
              "}});\n",
              "\n",
              "// Listen for the removal of the full notebook cells\n",
              "var notebookContainer = gd.closest('#notebook-container');\n",
              "if (notebookContainer) {{\n",
              "    x.observe(notebookContainer, {childList: true});\n",
              "}}\n",
              "\n",
              "// Listen for the clearing of the current output cell\n",
              "var outputEl = gd.closest('.output');\n",
              "if (outputEl) {{\n",
              "    x.observe(outputEl, {childList: true});\n",
              "}}\n",
              "\n",
              "                        })\n",
              "                };\n",
              "                \n",
              "            </script>\n",
              "        </div>\n",
              "</body>\n",
              "</html>"
            ]
          },
          "metadata": {
            "tags": []
          }
        }
      ]
    },
    {
      "cell_type": "markdown",
      "metadata": {
        "id": "YP-XW-y2iyG7"
      },
      "source": [
        "## Classification"
      ]
    },
    {
      "cell_type": "markdown",
      "metadata": {
        "id": "2NhC_I8AiyG7"
      },
      "source": [
        "Now that we have seen how this works for regression, let's apply the same approach to a simple classification problem.\n",
        "\n",
        "First, we will create some random data for two concentric classes. The decision boundary between the two classes will be a circle."
      ]
    },
    {
      "cell_type": "code",
      "metadata": {
        "id": "xu81IqTAiyG7"
      },
      "source": [
        "m_per_class = 50\n",
        "m= 2 * m_per_class\n",
        "w = [2.0, 1.0, 3.0] # corresponding to radius and center of a circular decision boundary\n",
        "\n",
        "#Class 1 - random points inside the decision boundary\n",
        "angle = 2.0 * np.pi * np.random.rand(m_per_class)\n",
        "radius = w[0] * np.random.rand(m_per_class) #Radius in [0, w0]\n",
        "\n",
        "XX1 = w[1] + radius * np.cos(angle)\n",
        "XX2 = w[2] + radius * np.sin(angle)\n",
        "labels = np.zeros(m_per_class)\n",
        "\n",
        "#Class 2 - random points outside the decision boundary\n",
        "angle = 2.0 * np.pi * np.random.rand(m_per_class)\n",
        "radius = w[0] +  w[0] * np.random.rand(m_per_class) #Radius in [w0, 2 * w0]\n",
        "\n",
        "XX1 = np.concatenate( (XX1, w[1] + radius * np.cos(angle)) )\n",
        "XX2 = np.concatenate( (XX2, w[2] + radius * np.sin(angle)) )\n",
        "labels = np.concatenate( (labels, np.ones(m_per_class)) )"
      ],
      "execution_count": 62,
      "outputs": []
    },
    {
      "cell_type": "code",
      "metadata": {
        "id": "frMLggvDiyG7",
        "colab": {
          "base_uri": "https://localhost:8080/",
          "height": 339
        },
        "outputId": "619a88b3-3cdf-4cbf-df8d-03611da187d2"
      },
      "source": [
        "import matplotlib.pyplot as plt\n",
        "\n",
        "plt.figure(figsize = (5, 5))\n",
        "plt.scatter(XX1, XX2, c = [('red' if cl == 0 else 'blue') for cl in labels])"
      ],
      "execution_count": 63,
      "outputs": [
        {
          "output_type": "execute_result",
          "data": {
            "text/plain": [
              "<matplotlib.collections.PathCollection at 0x7fe7e7e1ba10>"
            ]
          },
          "metadata": {
            "tags": []
          },
          "execution_count": 63
        },
        {
          "output_type": "display_data",
          "data": {
            "image/png": "[encoded data removed]",
            "text/plain": [
              "<Figure size 360x360 with 1 Axes>"
            ]
          },
          "metadata": {
            "tags": [],
            "needs_background": "light"
          }
        }
      ]
    },
    {
      "cell_type": "markdown",
      "metadata": {
        "id": "XQTGTZosiyG8"
      },
      "source": [
        "Since we have our own AutoGrad framework, instead of handcrafting features we will try to solve this directly, assuming the equation of a circle with unknown centre and radius. Our AutoGrad framework will figure out the gradients for whatever equation we give it."
      ]
    },
    {
      "cell_type": "markdown",
      "metadata": {
        "id": "nin2TDCNiyG8"
      },
      "source": [
        "### <font color=blue>Excercise 4:</font>\n",
        "\n",
        "\n",
        "<font color=blue> Adapt the solution for the regression problem we saw before to this scenario. This would imply changing the equation for the forward pass to the equation of a circle + sigmoid activation, and also changing the loss to a cross entropy one. Update the autograd framework as you see fit, in case you need to use operations you do not have.</font>"
      ]
    },
    {
      "cell_type": "code",
      "metadata": {
        "colab": {
          "base_uri": "https://localhost:8080/"
        },
        "id": "0LC6lKu8hbvV",
        "outputId": "407e5d00-98b9-4923-9a52-a2c21fd21dfa"
      },
      "source": [
        "import time\n",
        "\n",
        "#Definir condició de parada:\n",
        "#si loss1 - loss0 < e stop\n",
        "e = 0.0001\n",
        "lr = 0.1\n",
        "#count iterations\n",
        "n = 0\n",
        "\n",
        "# Create variables for our parameters (weights), and initialise them all to 1.0\n",
        "w0 = Variable(0.01, requiresGrad = True)\n",
        "w1 = Variable(0.01, requiresGrad = True)\n",
        "w2 = Variable(0.01, requiresGrad = True)\n",
        "\n",
        "\n",
        "training_loss = [np.inf]\n",
        "\n",
        "t = time.time() # Keep track of the time we started\n",
        "\n",
        "for epoch in range(2000):\n",
        "\n",
        "    #Zero gradients\n",
        "    w0.zeroGrad()\n",
        "    w1.zeroGrad()\n",
        "    w2.zeroGrad()\n",
        "\n",
        "    \n",
        "    batch_loss = Variable(0.0)\n",
        "\n",
        "    for x, y, l in zip(XX1, XX2, labels):\n",
        "\n",
        "        x = Variable(x, requiresGrad = False)\n",
        "        y = Variable(y, requiresGrad = False)\n",
        "        l = Variable(l, requiresGrad = False)\n",
        "\n",
        "        \n",
        "        #Forward pass\n",
        "        out = vSig(((x-w1)**2 + (y-w2)**2) - w0**2)\n",
        "\n",
        "        if l.value == 1:\n",
        "          loss = vLoss1(out)\n",
        "\n",
        "        else:\n",
        "          loss = vLoss0(out)\n",
        "\n",
        "        #l * vLog(out) - (Variable(1) - l) * vLog(Variable(1) - out) #Funció de cost sigmoide\n",
        "        \n",
        "        # accumulate losses\n",
        "        batch_loss += loss\n",
        "        \n",
        "\n",
        "    # calculate cost (average of the individual losses)\n",
        "    batch_loss /= m\n",
        "\n",
        "    #creem una condició de parada per si l'algorisme no evoluciona\n",
        "    if abs(training_loss[-1] - batch_loss.value) < e:\n",
        "      break\n",
        "\n",
        "    training_loss.append(batch_loss.value) # keep track of how our training loss evolves\n",
        "    \n",
        "    #backpropagate\n",
        "    batch_loss.backProp()\n",
        "\n",
        "    #Update parameters\n",
        "    w0.value = w0.value - lr * w0.grad #dóna 0 i no evoluciona\n",
        "    w1.value = w1.value - lr * w1.grad\n",
        "    w2.value = w2.value - lr * w2.grad\n",
        "\n",
        "    n += 1\n",
        "\n",
        "    del batch_loss # this should free some resources\n",
        "\n",
        "# Check how long it took\n",
        "print(\"Training took (secs):\", time.time() - t)\n",
        "print(\"Stops at iteration:\", n)\n",
        "print(\"Estimated weights:\", w0.value, w1.value,w2.value)\n",
        "print(f'Loss final: {training_loss[-1]}')"
      ],
      "execution_count": 64,
      "outputs": [
        {
          "output_type": "stream",
          "text": [
            "Training took (secs): 0.6292717456817627\n",
            "Stops at iteration: 107\n",
            "Estimated weights: 2.0406460249831495 1.082272572117452 3.042704656068355\n",
            "Loss final: 0.12351319332371785\n"
          ],
          "name": "stdout"
        }
      ]
    },
    {
      "cell_type": "code",
      "metadata": {
        "colab": {
          "base_uri": "https://localhost:8080/",
          "height": 320
        },
        "id": "ZGfxAX5BLtHg",
        "outputId": "4d8fa3e3-f0e7-49c9-c2f8-8a77f58c983d"
      },
      "source": [
        "'''\n",
        "fig = go.Figure()\n",
        "fig.add_trace(go.Scatter(x = XX1, y = XX2,  marker_color=[('red' if cl == 0 else 'blue') for cl in labels], mode = 'markers'))\n",
        "#fig.add_trace(go.Contour(z = ( ((xx-w1.value)**2) + ((yy-w2.value)**2) )**0.5 - w0.value , contours_coloring='lines', line_width = 0.5, ncontours=1 ))\n",
        "fig.show()\n",
        "'''\n",
        "plt.figure(figsize = (5, 5))\n",
        "\n",
        "plt.scatter(XX1, XX2, c = [('red' if cl == 0 else 'blue') for cl in labels])\n",
        "\n",
        "x = y = np.arange(-4, 8, 0.1)\n",
        "xx, yy = np.meshgrid(x, y, sparse=True)\n",
        "z = ( ((xx-w1.value)**2) + ((yy-w2.value)**2) )**0.5 - w0.value\n",
        "h = plt.contour(x,y,z, levels = [0.5])\n"
      ],
      "execution_count": 65,
      "outputs": [
        {
          "output_type": "display_data",
          "data": {
            "image/png": "[encoded data removed]",
            "text/plain": [
              "<Figure size 360x360 with 1 Axes>"
            ]
          },
          "metadata": {
            "tags": [],
            "needs_background": "light"
          }
        }
      ]
    },
    {
      "cell_type": "code",
      "metadata": {
        "colab": {
          "base_uri": "https://localhost:8080/",
          "height": 559
        },
        "id": "qKhl3kTNhp8k",
        "outputId": "ae55d89e-b198-475a-91d6-c1a566663210"
      },
      "source": [
        "# Print our our results\n",
        "print(\"Estimated weights:\", w0.value, w1.value, w2.value)\n",
        "#Make a plot of the evolution of the training loss\n",
        "fig = go.Figure()\n",
        "fig.add_trace(go.Scatter(x = np.arange(len(training_loss)), y = training_loss, mode = 'lines'))\n",
        "fig.update_layout(title = 'Evolution of the training loss')\n",
        "fig.update_yaxes(title_text = 'Training loss')\n",
        "fig.update_xaxes(title_text = '# Iteration')\n",
        "fig.show()"
      ],
      "execution_count": 66,
      "outputs": [
        {
          "output_type": "stream",
          "text": [
            "Estimated weights: 2.0406460249831495 1.082272572117452 3.042704656068355\n"
          ],
          "name": "stdout"
        },
        {
          "output_type": "display_data",
          "data": {
            "text/html": [
              "<html>\n",
              "<head><meta charset=\"utf-8\" /></head>\n",
              "<body>\n",
              "    <div>\n",
              "            <script src=\"https://cdnjs.cloudflare.com/ajax/libs/mathjax/2.7.5/MathJax.js?config=TeX-AMS-MML_SVG\"></script><script type=\"text/javascript\">if (window.MathJax) {MathJax.Hub.Config({SVG: {font: \"STIX-Web\"}});}</script>\n",
              "                <script type=\"text/javascript\">window.PlotlyConfig = {MathJaxConfig: 'local'};</script>\n",
              "        <script src=\"https://cdn.plot.ly/plotly-latest.min.js\"></script>    \n",
              "            <div id=\"8254b669-c878-475c-888d-9b873869636f\" class=\"plotly-graph-div\" style=\"height:525px; width:100%;\"></div>\n",
              "            <script type=\"text/javascript\">\n",
              "                \n",
              "                    window.PLOTLYENV=window.PLOTLYENV || {};\n",
              "                    \n",
              "                if (document.getElementById(\"8254b669-c878-475c-888d-9b873869636f\")) {\n",
              "                    Plotly.newPlot(\n",
              "                        '8254b669-c878-475c-888d-9b873869636f',\n",
              "                        [{\"mode\": \"lines\", \"type\": \"scatter\", \"x\": [0, 1, 2, 3, 4, 5, 6, 7, 8, 9, 10, 11, 12, 13, 14, 15, 16, 17, 18, 19, 20, 21, 22, 23, 24, 25, 26, 27, 28, 29, 30, 31, 32, 33, 34, 35, 36, 37, 38, 39, 40, 41, 42, 43, 44, 45, 46, 47, 48, 49, 50, 51, 52, 53, 54, 55, 56, 57, 58, 59, 60, 61, 62, 63, 64, 65, 66, 67, 68, 69, 70, 71, 72, 73, 74, 75, 76, 77, 78, 79, 80, 81, 82, 83, 84, 85, 86, 87, 88, 89, 90, 91, 92, 93, 94, 95, 96, 97, 98, 99, 100, 101, 102, 103, 104, 105, 106, 107], \"y\": [null, 4.441248065310195, 4.200397415860521, 3.9340005966690548, 3.6582154123255854, 3.38264923425487, 3.1088752586258086, 2.838659302534187, 2.5781939858577747, 2.335705210944211, 2.11692280366079, 1.9221749685918275, 1.7496054535285344, 1.5991881268380193, 1.471455949534627, 1.3652950656295604, 1.2781230946770756, 1.2069078144232526, 1.148799363390023, 1.101353096290974, 1.0625532452525768, 1.030765197835078, 1.0046712881314679, 0.9832101122793135, 0.965525150978822, 0.9509231763484793, 0.9388412018265629, 0.9288203847838479, 0.9204854188678157, 0.91352820800456, 0.9076948689527491, 0.9027753250585046, 0.8985949245599378, 0.8950076478152283, 0.8918905671219464, 0.8891392977864797, 0.8866642358511428, 0.8843874210548682, 0.8822398966823698, 0.8801594635344852, 0.8780887452484306, 0.8759734980481927, 0.8737611108075167, 0.8713992519197774, 0.8688346285906942, 0.8660118324025109, 0.8628722528894198, 0.8593530489427053, 0.8553861766683799, 0.8508974824148791, 0.8458058816722969, 0.8400226590393163, 0.8334509420652438, 0.8259854230106118, 0.8175124276909975, 0.807910459340101, 0.7970513767338655, 0.7848023971009676, 0.7710291408542825, 0.7555999490517451, 0.7383916938471117, 0.7192972505747193, 0.6982346870880113, 0.6751580299283326, 0.6500691715754495, 0.6230300888888096, 0.594174082846429, 0.5637143052724312, 0.5319475459345344, 0.49925128783318945, 0.4660725602908077, 0.432908191715029, 0.40027756923604507, 0.368690624504752, 0.33861502087775236, 0.31044698457083464, 0.2844896882343763, 0.2609416757415638, 0.23989592229352275, 0.22134829602101092, 0.2052128882284863, 0.19134113482594958, 0.17954181524698928, 0.16959965328800153, 0.16129107052262512, 0.15439642747480328, 0.14870870134557868, 0.1440389529105871, 0.14021914774500494, 0.13710296259580054, 0.1345651758620674, 0.1325001550463192, 0.1308198465295579, 0.12945156594841442, 0.12833579320423033, 0.1274241000159446, 0.12667728059198372, 0.1260637154824393, 0.1255579718967528, 0.12513962746240379, 0.12479229560717142, 0.12450282705607453, 0.1242606614969759, 0.12405730494928811, 0.12388591084790508, 0.12374094572716389, 0.12361792328594624, 0.12351319332371785]}],\n",
              "                        {\"template\": {\"data\": {\"bar\": [{\"error_x\": {\"color\": \"#2a3f5f\"}, \"error_y\": {\"color\": \"#2a3f5f\"}, \"marker\": {\"line\": {\"color\": \"#E5ECF6\", \"width\": 0.5}}, \"type\": \"bar\"}], \"barpolar\": [{\"marker\": {\"line\": {\"color\": \"#E5ECF6\", \"width\": 0.5}}, \"type\": \"barpolar\"}], \"carpet\": [{\"aaxis\": {\"endlinecolor\": \"#2a3f5f\", \"gridcolor\": \"white\", \"linecolor\": \"white\", \"minorgridcolor\": \"white\", \"startlinecolor\": \"#2a3f5f\"}, \"baxis\": {\"endlinecolor\": \"#2a3f5f\", \"gridcolor\": \"white\", \"linecolor\": \"white\", \"minorgridcolor\": \"white\", \"startlinecolor\": \"#2a3f5f\"}, \"type\": \"carpet\"}], \"choropleth\": [{\"colorbar\": {\"outlinewidth\": 0, \"ticks\": \"\"}, \"type\": \"choropleth\"}], \"contour\": [{\"colorbar\": {\"outlinewidth\": 0, \"ticks\": \"\"}, \"colorscale\": [[0.0, \"#0d0887\"], [0.1111111111111111, \"#46039f\"], [0.2222222222222222, \"#7201a8\"], [0.3333333333333333, \"#9c179e\"], [0.4444444444444444, \"#bd3786\"], [0.5555555555555556, \"#d8576b\"], [0.6666666666666666, \"#ed7953\"], [0.7777777777777778, \"#fb9f3a\"], [0.8888888888888888, \"#fdca26\"], [1.0, \"#f0f921\"]], \"type\": \"contour\"}], \"contourcarpet\": [{\"colorbar\": {\"outlinewidth\": 0, \"ticks\": \"\"}, \"type\": \"contourcarpet\"}], \"heatmap\": [{\"colorbar\": {\"outlinewidth\": 0, \"ticks\": \"\"}, \"colorscale\": [[0.0, \"#0d0887\"], [0.1111111111111111, \"#46039f\"], [0.2222222222222222, \"#7201a8\"], [0.3333333333333333, \"#9c179e\"], [0.4444444444444444, \"#bd3786\"], [0.5555555555555556, \"#d8576b\"], [0.6666666666666666, \"#ed7953\"], [0.7777777777777778, \"#fb9f3a\"], [0.8888888888888888, \"#fdca26\"], [1.0, \"#f0f921\"]], \"type\": \"heatmap\"}], \"heatmapgl\": [{\"colorbar\": {\"outlinewidth\": 0, \"ticks\": \"\"}, \"colorscale\": [[0.0, \"#0d0887\"], [0.1111111111111111, \"#46039f\"], [0.2222222222222222, \"#7201a8\"], [0.3333333333333333, \"#9c179e\"], [0.4444444444444444, \"#bd3786\"], [0.5555555555555556, \"#d8576b\"], [0.6666666666666666, \"#ed7953\"], [0.7777777777777778, \"#fb9f3a\"], [0.8888888888888888, \"#fdca26\"], [1.0, \"#f0f921\"]], \"type\": \"heatmapgl\"}], \"histogram\": [{\"marker\": {\"colorbar\": {\"outlinewidth\": 0, \"ticks\": \"\"}}, \"type\": \"histogram\"}], \"histogram2d\": [{\"colorbar\": {\"outlinewidth\": 0, \"ticks\": \"\"}, \"colorscale\": [[0.0, \"#0d0887\"], [0.1111111111111111, \"#46039f\"], [0.2222222222222222, \"#7201a8\"], [0.3333333333333333, \"#9c179e\"], [0.4444444444444444, \"#bd3786\"], [0.5555555555555556, \"#d8576b\"], [0.6666666666666666, \"#ed7953\"], [0.7777777777777778, \"#fb9f3a\"], [0.8888888888888888, \"#fdca26\"], [1.0, \"#f0f921\"]], \"type\": \"histogram2d\"}], \"histogram2dcontour\": [{\"colorbar\": {\"outlinewidth\": 0, \"ticks\": \"\"}, \"colorscale\": [[0.0, \"#0d0887\"], [0.1111111111111111, \"#46039f\"], [0.2222222222222222, \"#7201a8\"], [0.3333333333333333, \"#9c179e\"], [0.4444444444444444, \"#bd3786\"], [0.5555555555555556, \"#d8576b\"], [0.6666666666666666, \"#ed7953\"], [0.7777777777777778, \"#fb9f3a\"], [0.8888888888888888, \"#fdca26\"], [1.0, \"#f0f921\"]], \"type\": \"histogram2dcontour\"}], \"mesh3d\": [{\"colorbar\": {\"outlinewidth\": 0, \"ticks\": \"\"}, \"type\": \"mesh3d\"}], \"parcoords\": [{\"line\": {\"colorbar\": {\"outlinewidth\": 0, \"ticks\": \"\"}}, \"type\": \"parcoords\"}], \"pie\": [{\"automargin\": true, \"type\": \"pie\"}], \"scatter\": [{\"marker\": {\"colorbar\": {\"outlinewidth\": 0, \"ticks\": \"\"}}, \"type\": \"scatter\"}], \"scatter3d\": [{\"line\": {\"colorbar\": {\"outlinewidth\": 0, \"ticks\": \"\"}}, \"marker\": {\"colorbar\": {\"outlinewidth\": 0, \"ticks\": \"\"}}, \"type\": \"scatter3d\"}], \"scattercarpet\": [{\"marker\": {\"colorbar\": {\"outlinewidth\": 0, \"ticks\": \"\"}}, \"type\": \"scattercarpet\"}], \"scattergeo\": [{\"marker\": {\"colorbar\": {\"outlinewidth\": 0, \"ticks\": \"\"}}, \"type\": \"scattergeo\"}], \"scattergl\": [{\"marker\": {\"colorbar\": {\"outlinewidth\": 0, \"ticks\": \"\"}}, \"type\": \"scattergl\"}], \"scattermapbox\": [{\"marker\": {\"colorbar\": {\"outlinewidth\": 0, \"ticks\": \"\"}}, \"type\": \"scattermapbox\"}], \"scatterpolar\": [{\"marker\": {\"colorbar\": {\"outlinewidth\": 0, \"ticks\": \"\"}}, \"type\": \"scatterpolar\"}], \"scatterpolargl\": [{\"marker\": {\"colorbar\": {\"outlinewidth\": 0, \"ticks\": \"\"}}, \"type\": \"scatterpolargl\"}], \"scatterternary\": [{\"marker\": {\"colorbar\": {\"outlinewidth\": 0, \"ticks\": \"\"}}, \"type\": \"scatterternary\"}], \"surface\": [{\"colorbar\": {\"outlinewidth\": 0, \"ticks\": \"\"}, \"colorscale\": [[0.0, \"#0d0887\"], [0.1111111111111111, \"#46039f\"], [0.2222222222222222, \"#7201a8\"], [0.3333333333333333, \"#9c179e\"], [0.4444444444444444, \"#bd3786\"], [0.5555555555555556, \"#d8576b\"], [0.6666666666666666, \"#ed7953\"], [0.7777777777777778, \"#fb9f3a\"], [0.8888888888888888, \"#fdca26\"], [1.0, \"#f0f921\"]], \"type\": \"surface\"}], \"table\": [{\"cells\": {\"fill\": {\"color\": \"#EBF0F8\"}, \"line\": {\"color\": \"white\"}}, \"header\": {\"fill\": {\"color\": \"#C8D4E3\"}, \"line\": {\"color\": \"white\"}}, \"type\": \"table\"}]}, \"layout\": {\"annotationdefaults\": {\"arrowcolor\": \"#2a3f5f\", \"arrowhead\": 0, \"arrowwidth\": 1}, \"coloraxis\": {\"colorbar\": {\"outlinewidth\": 0, \"ticks\": \"\"}}, \"colorscale\": {\"diverging\": [[0, \"#8e0152\"], [0.1, \"#c51b7d\"], [0.2, \"#de77ae\"], [0.3, \"#f1b6da\"], [0.4, \"#fde0ef\"], [0.5, \"#f7f7f7\"], [0.6, \"#e6f5d0\"], [0.7, \"#b8e186\"], [0.8, \"#7fbc41\"], [0.9, \"#4d9221\"], [1, \"#276419\"]], \"sequential\": [[0.0, \"#0d0887\"], [0.1111111111111111, \"#46039f\"], [0.2222222222222222, \"#7201a8\"], [0.3333333333333333, \"#9c179e\"], [0.4444444444444444, \"#bd3786\"], [0.5555555555555556, \"#d8576b\"], [0.6666666666666666, \"#ed7953\"], [0.7777777777777778, \"#fb9f3a\"], [0.8888888888888888, \"#fdca26\"], [1.0, \"#f0f921\"]], \"sequentialminus\": [[0.0, \"#0d0887\"], [0.1111111111111111, \"#46039f\"], [0.2222222222222222, \"#7201a8\"], [0.3333333333333333, \"#9c179e\"], [0.4444444444444444, \"#bd3786\"], [0.5555555555555556, \"#d8576b\"], [0.6666666666666666, \"#ed7953\"], [0.7777777777777778, \"#fb9f3a\"], [0.8888888888888888, \"#fdca26\"], [1.0, \"#f0f921\"]]}, \"colorway\": [\"#636efa\", \"#EF553B\", \"#00cc96\", \"#ab63fa\", \"#FFA15A\", \"#19d3f3\", \"#FF6692\", \"#B6E880\", \"#FF97FF\", \"#FECB52\"], \"font\": {\"color\": \"#2a3f5f\"}, \"geo\": {\"bgcolor\": \"white\", \"lakecolor\": \"white\", \"landcolor\": \"#E5ECF6\", \"showlakes\": true, \"showland\": true, \"subunitcolor\": \"white\"}, \"hoverlabel\": {\"align\": \"left\"}, \"hovermode\": \"closest\", \"mapbox\": {\"style\": \"light\"}, \"paper_bgcolor\": \"white\", \"plot_bgcolor\": \"#E5ECF6\", \"polar\": {\"angularaxis\": {\"gridcolor\": \"white\", \"linecolor\": \"white\", \"ticks\": \"\"}, \"bgcolor\": \"#E5ECF6\", \"radialaxis\": {\"gridcolor\": \"white\", \"linecolor\": \"white\", \"ticks\": \"\"}}, \"scene\": {\"xaxis\": {\"backgroundcolor\": \"#E5ECF6\", \"gridcolor\": \"white\", \"gridwidth\": 2, \"linecolor\": \"white\", \"showbackground\": true, \"ticks\": \"\", \"zerolinecolor\": \"white\"}, \"yaxis\": {\"backgroundcolor\": \"#E5ECF6\", \"gridcolor\": \"white\", \"gridwidth\": 2, \"linecolor\": \"white\", \"showbackground\": true, \"ticks\": \"\", \"zerolinecolor\": \"white\"}, \"zaxis\": {\"backgroundcolor\": \"#E5ECF6\", \"gridcolor\": \"white\", \"gridwidth\": 2, \"linecolor\": \"white\", \"showbackground\": true, \"ticks\": \"\", \"zerolinecolor\": \"white\"}}, \"shapedefaults\": {\"line\": {\"color\": \"#2a3f5f\"}}, \"ternary\": {\"aaxis\": {\"gridcolor\": \"white\", \"linecolor\": \"white\", \"ticks\": \"\"}, \"baxis\": {\"gridcolor\": \"white\", \"linecolor\": \"white\", \"ticks\": \"\"}, \"bgcolor\": \"#E5ECF6\", \"caxis\": {\"gridcolor\": \"white\", \"linecolor\": \"white\", \"ticks\": \"\"}}, \"title\": {\"x\": 0.05}, \"xaxis\": {\"automargin\": true, \"gridcolor\": \"white\", \"linecolor\": \"white\", \"ticks\": \"\", \"title\": {\"standoff\": 15}, \"zerolinecolor\": \"white\", \"zerolinewidth\": 2}, \"yaxis\": {\"automargin\": true, \"gridcolor\": \"white\", \"linecolor\": \"white\", \"ticks\": \"\", \"title\": {\"standoff\": 15}, \"zerolinecolor\": \"white\", \"zerolinewidth\": 2}}}, \"title\": {\"text\": \"Evolution of the training loss\"}, \"xaxis\": {\"title\": {\"text\": \"# Iteration\"}}, \"yaxis\": {\"title\": {\"text\": \"Training loss\"}}},\n",
              "                        {\"responsive\": true}\n",
              "                    ).then(function(){\n",
              "                            \n",
              "var gd = document.getElementById('8254b669-c878-475c-888d-9b873869636f');\n",
              "var x = new MutationObserver(function (mutations, observer) {{\n",
              "        var display = window.getComputedStyle(gd).display;\n",
              "        if (!display || display === 'none') {{\n",
              "            console.log([gd, 'removed!']);\n",
              "            Plotly.purge(gd);\n",
              "            observer.disconnect();\n",
              "        }}\n",
              "}});\n",
              "\n",
              "// Listen for the removal of the full notebook cells\n",
              "var notebookContainer = gd.closest('#notebook-container');\n",
              "if (notebookContainer) {{\n",
              "    x.observe(notebookContainer, {childList: true});\n",
              "}}\n",
              "\n",
              "// Listen for the clearing of the current output cell\n",
              "var outputEl = gd.closest('.output');\n",
              "if (outputEl) {{\n",
              "    x.observe(outputEl, {childList: true});\n",
              "}}\n",
              "\n",
              "                        })\n",
              "                };\n",
              "                \n",
              "            </script>\n",
              "        </div>\n",
              "</body>\n",
              "</html>"
            ]
          },
          "metadata": {
            "tags": []
          }
        }
      ]
    }
  ]
}